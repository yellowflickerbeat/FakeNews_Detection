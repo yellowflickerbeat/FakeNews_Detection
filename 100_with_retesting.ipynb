{
  "nbformat": 4,
  "nbformat_minor": 0,
  "metadata": {
    "colab": {
      "provenance": [],
      "authorship_tag": "ABX9TyPqiyVg/eYGbU3puCob9XcT",
      "include_colab_link": true
    },
    "kernelspec": {
      "name": "python3",
      "display_name": "Python 3"
    },
    "language_info": {
      "name": "python"
    }
  },
  "cells": [
    {
      "cell_type": "markdown",
      "metadata": {
        "id": "view-in-github",
        "colab_type": "text"
      },
      "source": [
        "<a href=\"https://colab.research.google.com/github/yellowflickerbeat/FakeNews_Detection/blob/main/100_with_retesting.ipynb\" target=\"_parent\"><img src=\"https://colab.research.google.com/assets/colab-badge.svg\" alt=\"Open In Colab\"/></a>"
      ]
    },
    {
      "cell_type": "code",
      "execution_count": 3,
      "metadata": {
        "id": "3G7ZeD3AoUN-"
      },
      "outputs": [],
      "source": [
        "import numpy as np\n",
        "import pandas as pd\n",
        "import re\n",
        "from nltk.corpus import stopwords\n",
        "#stopwords removes all the repetative words which don't substance to the text\n",
        "from nltk.stem import WordNetLemmatizer\n",
        "from nltk.corpus import wordnet\n",
        "#WordNetLemmatizer converts words into their roots considering its context\n",
        "from sklearn.feature_extraction.text import TfidfVectorizer\n",
        "#TfidfVectorizer measures importance of diff words\n",
        "from sklearn.model_selection import train_test_split\n",
        "#splits data into test and train\n",
        "from sklearn.linear_model import LogisticRegression\n",
        "from sklearn.metrics import accuracy_score"
      ]
    },
    {
      "cell_type": "code",
      "source": [
        "import nltk\n",
        "nltk.download('stopwords')"
      ],
      "metadata": {
        "colab": {
          "base_uri": "https://localhost:8080/"
        },
        "id": "8Kr6Y7LJoaW9",
        "outputId": "3ad2700a-6274-45a9-d764-c8abefcd2e73"
      },
      "execution_count": 1,
      "outputs": [
        {
          "output_type": "stream",
          "name": "stderr",
          "text": [
            "[nltk_data] Downloading package stopwords to /root/nltk_data...\n",
            "[nltk_data]   Unzipping corpora/stopwords.zip.\n"
          ]
        },
        {
          "output_type": "execute_result",
          "data": {
            "text/plain": [
              "True"
            ]
          },
          "metadata": {},
          "execution_count": 1
        }
      ]
    },
    {
      "cell_type": "code",
      "source": [
        "#mounting the mandatory datasets\n",
        "news = pd.read_table('/content/test.tsv')\n",
        "news.shape\n",
        "news.head(5)"
      ],
      "metadata": {
        "colab": {
          "base_uri": "https://localhost:8080/",
          "height": 206
        },
        "id": "LSBfsptsk0Xt",
        "outputId": "c30af483-d3e3-4e3a-f5c7-4574dbb9e773"
      },
      "execution_count": 23,
      "outputs": [
        {
          "output_type": "execute_result",
          "data": {
            "text/plain": [
              "   Unnamed: 0                                              title  \\\n",
              "0        8104  Conservatives Will HATE What Donald Trump Just...   \n",
              "1        7467  Trump victory may create new tension between U...   \n",
              "2        9473  WATCH: Hundreds of ILLEGAL ALIENS Storm Senate...   \n",
              "3         276  Democratic Senator Franken to resign: CNN, cit...   \n",
              "4       19274  GANG OF DOMESTIC TERRORISTS Violently Attack L...   \n",
              "\n",
              "                                                text       subject  \\\n",
              "0  Donald Trump isn t exactly a stranger to makin...          News   \n",
              "1  Donald Trump’s U.S. election victory may creat...  politicsNews   \n",
              "2  A couple of quick questions come to mind when ...      politics   \n",
              "3  U.S. Democratic Senator Al Franken will announ...  politicsNews   \n",
              "4  ***WARNING*** Violence is graphic***This Trump...     left-news   \n",
              "\n",
              "                date  label  \n",
              "0  February 14, 2016      0  \n",
              "1  November 9, 2016       1  \n",
              "2        Nov 9, 2017      0  \n",
              "3  December 7, 2017       1  \n",
              "4       Jan 21, 2017      0  "
            ],
            "text/html": [
              "\n",
              "  <div id=\"df-ad8b1fde-c98f-4eaa-83aa-976b830f8278\" class=\"colab-df-container\">\n",
              "    <div>\n",
              "<style scoped>\n",
              "    .dataframe tbody tr th:only-of-type {\n",
              "        vertical-align: middle;\n",
              "    }\n",
              "\n",
              "    .dataframe tbody tr th {\n",
              "        vertical-align: top;\n",
              "    }\n",
              "\n",
              "    .dataframe thead th {\n",
              "        text-align: right;\n",
              "    }\n",
              "</style>\n",
              "<table border=\"1\" class=\"dataframe\">\n",
              "  <thead>\n",
              "    <tr style=\"text-align: right;\">\n",
              "      <th></th>\n",
              "      <th>Unnamed: 0</th>\n",
              "      <th>title</th>\n",
              "      <th>text</th>\n",
              "      <th>subject</th>\n",
              "      <th>date</th>\n",
              "      <th>label</th>\n",
              "    </tr>\n",
              "  </thead>\n",
              "  <tbody>\n",
              "    <tr>\n",
              "      <th>0</th>\n",
              "      <td>8104</td>\n",
              "      <td>Conservatives Will HATE What Donald Trump Just...</td>\n",
              "      <td>Donald Trump isn t exactly a stranger to makin...</td>\n",
              "      <td>News</td>\n",
              "      <td>February 14, 2016</td>\n",
              "      <td>0</td>\n",
              "    </tr>\n",
              "    <tr>\n",
              "      <th>1</th>\n",
              "      <td>7467</td>\n",
              "      <td>Trump victory may create new tension between U...</td>\n",
              "      <td>Donald Trump’s U.S. election victory may creat...</td>\n",
              "      <td>politicsNews</td>\n",
              "      <td>November 9, 2016</td>\n",
              "      <td>1</td>\n",
              "    </tr>\n",
              "    <tr>\n",
              "      <th>2</th>\n",
              "      <td>9473</td>\n",
              "      <td>WATCH: Hundreds of ILLEGAL ALIENS Storm Senate...</td>\n",
              "      <td>A couple of quick questions come to mind when ...</td>\n",
              "      <td>politics</td>\n",
              "      <td>Nov 9, 2017</td>\n",
              "      <td>0</td>\n",
              "    </tr>\n",
              "    <tr>\n",
              "      <th>3</th>\n",
              "      <td>276</td>\n",
              "      <td>Democratic Senator Franken to resign: CNN, cit...</td>\n",
              "      <td>U.S. Democratic Senator Al Franken will announ...</td>\n",
              "      <td>politicsNews</td>\n",
              "      <td>December 7, 2017</td>\n",
              "      <td>1</td>\n",
              "    </tr>\n",
              "    <tr>\n",
              "      <th>4</th>\n",
              "      <td>19274</td>\n",
              "      <td>GANG OF DOMESTIC TERRORISTS Violently Attack L...</td>\n",
              "      <td>***WARNING*** Violence is graphic***This Trump...</td>\n",
              "      <td>left-news</td>\n",
              "      <td>Jan 21, 2017</td>\n",
              "      <td>0</td>\n",
              "    </tr>\n",
              "  </tbody>\n",
              "</table>\n",
              "</div>\n",
              "    <div class=\"colab-df-buttons\">\n",
              "\n",
              "  <div class=\"colab-df-container\">\n",
              "    <button class=\"colab-df-convert\" onclick=\"convertToInteractive('df-ad8b1fde-c98f-4eaa-83aa-976b830f8278')\"\n",
              "            title=\"Convert this dataframe to an interactive table.\"\n",
              "            style=\"display:none;\">\n",
              "\n",
              "  <svg xmlns=\"http://www.w3.org/2000/svg\" height=\"24px\" viewBox=\"0 -960 960 960\">\n",
              "    <path d=\"M120-120v-720h720v720H120Zm60-500h600v-160H180v160Zm220 220h160v-160H400v160Zm0 220h160v-160H400v160ZM180-400h160v-160H180v160Zm440 0h160v-160H620v160ZM180-180h160v-160H180v160Zm440 0h160v-160H620v160Z\"/>\n",
              "  </svg>\n",
              "    </button>\n",
              "\n",
              "  <style>\n",
              "    .colab-df-container {\n",
              "      display:flex;\n",
              "      gap: 12px;\n",
              "    }\n",
              "\n",
              "    .colab-df-convert {\n",
              "      background-color: #E8F0FE;\n",
              "      border: none;\n",
              "      border-radius: 50%;\n",
              "      cursor: pointer;\n",
              "      display: none;\n",
              "      fill: #1967D2;\n",
              "      height: 32px;\n",
              "      padding: 0 0 0 0;\n",
              "      width: 32px;\n",
              "    }\n",
              "\n",
              "    .colab-df-convert:hover {\n",
              "      background-color: #E2EBFA;\n",
              "      box-shadow: 0px 1px 2px rgba(60, 64, 67, 0.3), 0px 1px 3px 1px rgba(60, 64, 67, 0.15);\n",
              "      fill: #174EA6;\n",
              "    }\n",
              "\n",
              "    .colab-df-buttons div {\n",
              "      margin-bottom: 4px;\n",
              "    }\n",
              "\n",
              "    [theme=dark] .colab-df-convert {\n",
              "      background-color: #3B4455;\n",
              "      fill: #D2E3FC;\n",
              "    }\n",
              "\n",
              "    [theme=dark] .colab-df-convert:hover {\n",
              "      background-color: #434B5C;\n",
              "      box-shadow: 0px 1px 3px 1px rgba(0, 0, 0, 0.15);\n",
              "      filter: drop-shadow(0px 1px 2px rgba(0, 0, 0, 0.3));\n",
              "      fill: #FFFFFF;\n",
              "    }\n",
              "  </style>\n",
              "\n",
              "    <script>\n",
              "      const buttonEl =\n",
              "        document.querySelector('#df-ad8b1fde-c98f-4eaa-83aa-976b830f8278 button.colab-df-convert');\n",
              "      buttonEl.style.display =\n",
              "        google.colab.kernel.accessAllowed ? 'block' : 'none';\n",
              "\n",
              "      async function convertToInteractive(key) {\n",
              "        const element = document.querySelector('#df-ad8b1fde-c98f-4eaa-83aa-976b830f8278');\n",
              "        const dataTable =\n",
              "          await google.colab.kernel.invokeFunction('convertToInteractive',\n",
              "                                                    [key], {});\n",
              "        if (!dataTable) return;\n",
              "\n",
              "        const docLinkHtml = 'Like what you see? Visit the ' +\n",
              "          '<a target=\"_blank\" href=https://colab.research.google.com/notebooks/data_table.ipynb>data table notebook</a>'\n",
              "          + ' to learn more about interactive tables.';\n",
              "        element.innerHTML = '';\n",
              "        dataTable['output_type'] = 'display_data';\n",
              "        await google.colab.output.renderOutput(dataTable, element);\n",
              "        const docLink = document.createElement('div');\n",
              "        docLink.innerHTML = docLinkHtml;\n",
              "        element.appendChild(docLink);\n",
              "      }\n",
              "    </script>\n",
              "  </div>\n",
              "\n",
              "\n",
              "<div id=\"df-9169e52b-6068-4072-ae86-9622b61483e1\">\n",
              "  <button class=\"colab-df-quickchart\" onclick=\"quickchart('df-9169e52b-6068-4072-ae86-9622b61483e1')\"\n",
              "            title=\"Suggest charts\"\n",
              "            style=\"display:none;\">\n",
              "\n",
              "<svg xmlns=\"http://www.w3.org/2000/svg\" height=\"24px\"viewBox=\"0 0 24 24\"\n",
              "     width=\"24px\">\n",
              "    <g>\n",
              "        <path d=\"M19 3H5c-1.1 0-2 .9-2 2v14c0 1.1.9 2 2 2h14c1.1 0 2-.9 2-2V5c0-1.1-.9-2-2-2zM9 17H7v-7h2v7zm4 0h-2V7h2v10zm4 0h-2v-4h2v4z\"/>\n",
              "    </g>\n",
              "</svg>\n",
              "  </button>\n",
              "\n",
              "<style>\n",
              "  .colab-df-quickchart {\n",
              "      --bg-color: #E8F0FE;\n",
              "      --fill-color: #1967D2;\n",
              "      --hover-bg-color: #E2EBFA;\n",
              "      --hover-fill-color: #174EA6;\n",
              "      --disabled-fill-color: #AAA;\n",
              "      --disabled-bg-color: #DDD;\n",
              "  }\n",
              "\n",
              "  [theme=dark] .colab-df-quickchart {\n",
              "      --bg-color: #3B4455;\n",
              "      --fill-color: #D2E3FC;\n",
              "      --hover-bg-color: #434B5C;\n",
              "      --hover-fill-color: #FFFFFF;\n",
              "      --disabled-bg-color: #3B4455;\n",
              "      --disabled-fill-color: #666;\n",
              "  }\n",
              "\n",
              "  .colab-df-quickchart {\n",
              "    background-color: var(--bg-color);\n",
              "    border: none;\n",
              "    border-radius: 50%;\n",
              "    cursor: pointer;\n",
              "    display: none;\n",
              "    fill: var(--fill-color);\n",
              "    height: 32px;\n",
              "    padding: 0;\n",
              "    width: 32px;\n",
              "  }\n",
              "\n",
              "  .colab-df-quickchart:hover {\n",
              "    background-color: var(--hover-bg-color);\n",
              "    box-shadow: 0 1px 2px rgba(60, 64, 67, 0.3), 0 1px 3px 1px rgba(60, 64, 67, 0.15);\n",
              "    fill: var(--button-hover-fill-color);\n",
              "  }\n",
              "\n",
              "  .colab-df-quickchart-complete:disabled,\n",
              "  .colab-df-quickchart-complete:disabled:hover {\n",
              "    background-color: var(--disabled-bg-color);\n",
              "    fill: var(--disabled-fill-color);\n",
              "    box-shadow: none;\n",
              "  }\n",
              "\n",
              "  .colab-df-spinner {\n",
              "    border: 2px solid var(--fill-color);\n",
              "    border-color: transparent;\n",
              "    border-bottom-color: var(--fill-color);\n",
              "    animation:\n",
              "      spin 1s steps(1) infinite;\n",
              "  }\n",
              "\n",
              "  @keyframes spin {\n",
              "    0% {\n",
              "      border-color: transparent;\n",
              "      border-bottom-color: var(--fill-color);\n",
              "      border-left-color: var(--fill-color);\n",
              "    }\n",
              "    20% {\n",
              "      border-color: transparent;\n",
              "      border-left-color: var(--fill-color);\n",
              "      border-top-color: var(--fill-color);\n",
              "    }\n",
              "    30% {\n",
              "      border-color: transparent;\n",
              "      border-left-color: var(--fill-color);\n",
              "      border-top-color: var(--fill-color);\n",
              "      border-right-color: var(--fill-color);\n",
              "    }\n",
              "    40% {\n",
              "      border-color: transparent;\n",
              "      border-right-color: var(--fill-color);\n",
              "      border-top-color: var(--fill-color);\n",
              "    }\n",
              "    60% {\n",
              "      border-color: transparent;\n",
              "      border-right-color: var(--fill-color);\n",
              "    }\n",
              "    80% {\n",
              "      border-color: transparent;\n",
              "      border-right-color: var(--fill-color);\n",
              "      border-bottom-color: var(--fill-color);\n",
              "    }\n",
              "    90% {\n",
              "      border-color: transparent;\n",
              "      border-bottom-color: var(--fill-color);\n",
              "    }\n",
              "  }\n",
              "</style>\n",
              "\n",
              "  <script>\n",
              "    async function quickchart(key) {\n",
              "      const quickchartButtonEl =\n",
              "        document.querySelector('#' + key + ' button');\n",
              "      quickchartButtonEl.disabled = true;  // To prevent multiple clicks.\n",
              "      quickchartButtonEl.classList.add('colab-df-spinner');\n",
              "      try {\n",
              "        const charts = await google.colab.kernel.invokeFunction(\n",
              "            'suggestCharts', [key], {});\n",
              "      } catch (error) {\n",
              "        console.error('Error during call to suggestCharts:', error);\n",
              "      }\n",
              "      quickchartButtonEl.classList.remove('colab-df-spinner');\n",
              "      quickchartButtonEl.classList.add('colab-df-quickchart-complete');\n",
              "    }\n",
              "    (() => {\n",
              "      let quickchartButtonEl =\n",
              "        document.querySelector('#df-9169e52b-6068-4072-ae86-9622b61483e1 button');\n",
              "      quickchartButtonEl.style.display =\n",
              "        google.colab.kernel.accessAllowed ? 'block' : 'none';\n",
              "    })();\n",
              "  </script>\n",
              "</div>\n",
              "\n",
              "    </div>\n",
              "  </div>\n"
            ],
            "application/vnd.google.colaboratory.intrinsic+json": {
              "type": "dataframe",
              "variable_name": "news",
              "summary": "{\n  \"name\": \"news\",\n  \"rows\": 8267,\n  \"fields\": [\n    {\n      \"column\": \"Unnamed: 0\",\n      \"properties\": {\n        \"dtype\": \"number\",\n        \"std\": 6549,\n        \"min\": 1,\n        \"max\": 23480,\n        \"num_unique_values\": 7497,\n        \"samples\": [\n          9853,\n          7041,\n          16410\n        ],\n        \"semantic_type\": \"\",\n        \"description\": \"\"\n      }\n    },\n    {\n      \"column\": \"title\",\n      \"properties\": {\n        \"dtype\": \"string\",\n        \"num_unique_values\": 8076,\n        \"samples\": [\n          \"BILL CLINTON RECENTLY CAUGHT Making Racist Remarks: Obama\\u2019s Presidency Will Cause White Working Men To Die Sooner\",\n          \"Factbox: Republicans to keep an eye on as Senate nears vote on tax bill\",\n          \"Arizona Governor Blocks 31,000 Low-Income Children From Access To Life Saving Healthcare\"\n        ],\n        \"semantic_type\": \"\",\n        \"description\": \"\"\n      }\n    },\n    {\n      \"column\": \"text\",\n      \"properties\": {\n        \"dtype\": \"string\",\n        \"num_unique_values\": 8083,\n        \"samples\": [\n          \"The European Commission s decision to launch the so-called Article 7 procedure against Poland may be related to Warsaw s refusal to accept Muslim migrants, spokeswoman of the ruling Law and Justice (PiS) party Beata Mazurek said on Wednesday.  This may be an effect not only of the opposition s informing (on Poland to the EC) but also because we don t want to accept immigrants, we don t want to accept Muslim migrants, as we care for the security of Poles,  Mazurek told reporters.\",\n          \"The news gets worse every day for the Clinton Crime Syndicate Breitbart News Exclusive: Hillary Clinton s private email server was housed at the same physical location and on the same network as an email server used and operated by the Clinton Foundation, Breitbart News has exclusively learned.Records reveal that Hillary Clinton s private clintonemail.com server shared an IP address with her husband Bill Clinton s email server, presidentclinton.com, and both servers were housed in New York City, not in the basement of the Clintons  Chappaqua, New York home.Web archives show that the Presidentclinton.com Web address was being operated by the Clinton Foundation as of 2009, when Hillary Clinton registered her own clintonemail.com server.Numerous Clinton Foundation employees used the presidentclinton.com server for their own email addresses, which means that they were using email accounts that, if hacked, would have given any hacker complete access to Hillary Clinton s State Department emails, as well.The bombshell revelation raises new concerns about the possible illegality of Hillary Clinton s private email use. The former Secretary of State is under federal investigation for potentially violating the Espionage Act by allowing people without a security clearance to access classified information. The fact that Hillary was sharing an email network with a private foundation means that people without a security clearance almost certainly had physical access to her server while she was working at the State Department.Here s what we know:The Servers Have The SAME IP AddressHillary s clintonemail.com server and the Foundation-run presidentclinton.com email server have exactly the same IP address, and the same SSL certificate (which an organization purchases for an email server to verify its trustworthiness).mail.clintonemail.com and mail.presidentclinton.com both have an IP address of 64.94.172.146, according to an SSL Certificate Checker.The two servers both have that same IP address, 64.94.172.146, according to DNS records. (Here are records for Hillary s server, and here are records for Bill s server).Both servers have the same IP address, according to another independent Internet records database, robtex.net.The fact that both of these email servers have the same IP address means that they were operating on the same network, and sharing physical space. A computer expert tells Breitbart News that the servers were probably operating on the same machine. It is also possible that they were operating on different machines on the same network, which still means that the machines would have to be close enough to exist in the same physical location.President Clinton s server was created in 2002, while Hillary s was created in 2009, which means that Hillary s server was simply added to Bill s Foundation-run server network.They Had The SAME IP Address When She Was Secretary of StateHillary s server and Bill s Foundation-run server also shared a different IP address during her tenure as Secretary of State.From September 8, 2009 until June 24, 2011, Bill Clinton s Foundation-run mail.presidentclinton.com server had an IP address of 24.187.234.187, according to DNS records.Hillary s mail.clintonemail.com server had the same exact IP address, 24.187.234.187, from the dates May 21, 2010 until October 21, 2010, according to DNS records.Their Shared IP Address Can Be Traced to Midtown ManhattanA geographical search for the IP address that both servers shared at registration traces to Midtown Manhattan, according to three different databases: infosniper.net, which locates a Midtown latitude/longitude point, ip-tracker.org, which also gives a Midtown latitude/longitude point, and whatsmyip.org.Clinton Foundation headquarters are currently located at 1271 6th Avenue in Midtown. Bill Clinton s office is at 55 West 125th StreetThe Denver-based firm Platte River Networks told Breitbart News that it physically moved Hillary Clinton s private email server out of the basement of her Chappaqua home in 2013. But the Clintons could have moved the server from Manhattan to Chappaqua before Platte River got there.Clinton Founation Employees Had presidentclinton.com email addressesThe employees who have used presidentclinton.com email addresses included former Bill Clinton right-hand man Doug Band, as well as Justin Cooper, a Hillary aide who has worked with the Foundation, Terry Krinvic, Laura Graham, and John Zimmerebner.Was Chelsea Clinton On The Server?The email server for mail.chelseaoffice.com, which is no longer active, resolves to clintonemail.com, according to DNS records. Wikileaks confirms that the chelseaoffice.com server was used by Chelsea Clinton employees.Hillary Even Admitted That She Used Her Husband s  System Well the system we used was set up for President Clintons office and it had numerous safeguards it was on property guarded by the Secret Service and there were no security breaches, so I think that the use of that server which started with my husband proved to be effective and secure,  Hillary Clinton said in a March 2015 press conference.Clinton has not returned to that talking point since.The Clinton Foundation and Hillary Clinton s campaign did not return requests for comment by press time. Via: Breitbart News\",\n          \"Illinois Governor Bruce Rauner said on Monday he was holding off  issuance of up to $6 billion of bonds to help pay down the state\\u2019s more than $14 billion in overdue bills despite the state comptroller\\u2019s public plea for the debt sale.  The Republican governor called on Illinois Comptroller Susana Mendoza to tap more than $600 million in various state accounts first to pay bills. Authorization for the general obligation bonds and for using money parked in the accounts was included in the fiscal 2018 budget the Democratic-controlled legislature enacted in July over the governor\\u2019s vetoes. [nL1N1JX20R] Rauner also said the state cannot go to market with the debt until he works with state lawmakers to identify an appropriation or plan to pay off the new bonds.  \\u201cThis bonding in and of itself is not the answer,\\u201d Rauner told reporters. In a video and statement on Monday, Mendoza said Illinois\\u2019 bill backlog is costing residents $2 million a day in late payment penalties that can reach as much as 12 percent a year. The bond authorization, which expires on Dec. 31, was aimed at having Rauner\\u2019s budget office sell the 12-year bonds at a lower interest rate.  The debt is covered under the Illinois GO Bond Act, which constitutes an irrevocable and continuing appropriation for principal and interest payments on all of the state\\u2019s outstanding bonds, according to budget legislation. Illinois\\u2019 unprecedented two-year budget impasse ballooned the unpaid bill total to a record $15.4 billion in June. As of Friday, the backlog stood at $14.35 billion.  Abdon Pallasch, a spokesman for the Democratic comptroller, said inter-fund transfers were already underway. \\u201cWhat we need right now is movement by the governor\\u2019s office and a solid timetable for refinancing the debt so that our office can establish a comprehensive cash management plan for the remainder of fiscal year 2018,\\u201d he said. On Monday, Illinois bonds due in 12 years were yielding  4.13 percent, according to Municipal Market Data, a unit of Thomson Reuters. Illinois has the lowest credit ratings and pays the highest borrowing costs among the 50 U.S. states. Since enacting its first budget in two years along with a $5 billion income tax hike, and subsequently evading junk bond ratings, the state\\u2019s so-called credit spread over MMD\\u2019s benchmark triple-A yield scale has narrowed. Mendoza\\u2019s office said the new borrowing will provide some relief to service providers and businesses that have been waiting months for payment.  \\u201cOver the past two years without a budget, they have had to exhaust their lines of credit, lay off employees and, in some cases, turn away Illinois citizens in need of services,\\u201d a  statement from the comptroller said.\"\n        ],\n        \"semantic_type\": \"\",\n        \"description\": \"\"\n      }\n    },\n    {\n      \"column\": \"subject\",\n      \"properties\": {\n        \"dtype\": \"category\",\n        \"num_unique_values\": 8,\n        \"samples\": [\n          \"politicsNews\",\n          \"Government News\",\n          \"News\"\n        ],\n        \"semantic_type\": \"\",\n        \"description\": \"\"\n      }\n    },\n    {\n      \"column\": \"date\",\n      \"properties\": {\n        \"dtype\": \"category\",\n        \"num_unique_values\": 2097,\n        \"samples\": [\n          \"Aug 14, 2017\",\n          \"Jan 16, 2017\",\n          \"Sep 27, 2017\"\n        ],\n        \"semantic_type\": \"\",\n        \"description\": \"\"\n      }\n    },\n    {\n      \"column\": \"label\",\n      \"properties\": {\n        \"dtype\": \"number\",\n        \"std\": 0,\n        \"min\": 0,\n        \"max\": 1,\n        \"num_unique_values\": 2,\n        \"samples\": [\n          1,\n          0\n        ],\n        \"semantic_type\": \"\",\n        \"description\": \"\"\n      }\n    }\n  ]\n}"
            }
          },
          "metadata": {},
          "execution_count": 23
        }
      ]
    },
    {
      "cell_type": "code",
      "source": [
        "news = news.rename(columns={'Unnamed: 0' : 'id'})\n",
        "#find out missing values in dataset\n",
        "news.isnull().sum()"
      ],
      "metadata": {
        "colab": {
          "base_uri": "https://localhost:8080/",
          "height": 272
        },
        "id": "5umsbwouk8ic",
        "outputId": "576ffcd5-b5e1-45ed-f20d-4b4429b14d4d"
      },
      "execution_count": 24,
      "outputs": [
        {
          "output_type": "execute_result",
          "data": {
            "text/plain": [
              "id         0\n",
              "title      0\n",
              "text       0\n",
              "subject    0\n",
              "date       0\n",
              "label      0\n",
              "dtype: int64"
            ],
            "text/html": [
              "<div>\n",
              "<style scoped>\n",
              "    .dataframe tbody tr th:only-of-type {\n",
              "        vertical-align: middle;\n",
              "    }\n",
              "\n",
              "    .dataframe tbody tr th {\n",
              "        vertical-align: top;\n",
              "    }\n",
              "\n",
              "    .dataframe thead th {\n",
              "        text-align: right;\n",
              "    }\n",
              "</style>\n",
              "<table border=\"1\" class=\"dataframe\">\n",
              "  <thead>\n",
              "    <tr style=\"text-align: right;\">\n",
              "      <th></th>\n",
              "      <th>0</th>\n",
              "    </tr>\n",
              "  </thead>\n",
              "  <tbody>\n",
              "    <tr>\n",
              "      <th>id</th>\n",
              "      <td>0</td>\n",
              "    </tr>\n",
              "    <tr>\n",
              "      <th>title</th>\n",
              "      <td>0</td>\n",
              "    </tr>\n",
              "    <tr>\n",
              "      <th>text</th>\n",
              "      <td>0</td>\n",
              "    </tr>\n",
              "    <tr>\n",
              "      <th>subject</th>\n",
              "      <td>0</td>\n",
              "    </tr>\n",
              "    <tr>\n",
              "      <th>date</th>\n",
              "      <td>0</td>\n",
              "    </tr>\n",
              "    <tr>\n",
              "      <th>label</th>\n",
              "      <td>0</td>\n",
              "    </tr>\n",
              "  </tbody>\n",
              "</table>\n",
              "</div><br><label><b>dtype:</b> int64</label>"
            ]
          },
          "metadata": {},
          "execution_count": 24
        }
      ]
    },
    {
      "cell_type": "code",
      "source": [
        "Y = news['label']\n",
        "#news = news.drop('label', axis=1)\n",
        "print(Y)"
      ],
      "metadata": {
        "colab": {
          "base_uri": "https://localhost:8080/"
        },
        "id": "ndN7nitEk_Gk",
        "outputId": "b8f5d038-93ee-4f38-da8b-eaac0c317967"
      },
      "execution_count": 25,
      "outputs": [
        {
          "output_type": "stream",
          "name": "stdout",
          "text": [
            "0       0\n",
            "1       1\n",
            "2       0\n",
            "3       1\n",
            "4       0\n",
            "       ..\n",
            "8262    1\n",
            "8263    1\n",
            "8264    0\n",
            "8265    0\n",
            "8266    0\n",
            "Name: label, Length: 8267, dtype: int64\n"
          ]
        }
      ]
    },
    {
      "cell_type": "code",
      "source": [
        "!pip install vaderSentiment"
      ],
      "metadata": {
        "colab": {
          "base_uri": "https://localhost:8080/"
        },
        "id": "iDpGw4mulJwX",
        "outputId": "d83ac460-b48b-4b04-a578-d2b0dbebd2c2"
      },
      "execution_count": 8,
      "outputs": [
        {
          "output_type": "stream",
          "name": "stdout",
          "text": [
            "Collecting vaderSentiment\n",
            "  Downloading vaderSentiment-3.3.2-py2.py3-none-any.whl.metadata (572 bytes)\n",
            "Requirement already satisfied: requests in /usr/local/lib/python3.10/dist-packages (from vaderSentiment) (2.32.3)\n",
            "Requirement already satisfied: charset-normalizer<4,>=2 in /usr/local/lib/python3.10/dist-packages (from requests->vaderSentiment) (3.4.0)\n",
            "Requirement already satisfied: idna<4,>=2.5 in /usr/local/lib/python3.10/dist-packages (from requests->vaderSentiment) (3.10)\n",
            "Requirement already satisfied: urllib3<3,>=1.21.1 in /usr/local/lib/python3.10/dist-packages (from requests->vaderSentiment) (2.2.3)\n",
            "Requirement already satisfied: certifi>=2017.4.17 in /usr/local/lib/python3.10/dist-packages (from requests->vaderSentiment) (2024.12.14)\n",
            "Downloading vaderSentiment-3.3.2-py2.py3-none-any.whl (125 kB)\n",
            "\u001b[?25l   \u001b[90m━━━━━━━━━━━━━━━━━━━━━━━━━━━━━━━━━━━━━━━━\u001b[0m \u001b[32m0.0/126.0 kB\u001b[0m \u001b[31m?\u001b[0m eta \u001b[36m-:--:--\u001b[0m\r\u001b[2K   \u001b[91m━━━━━━━━━━━━━━━━━━━━━━━━━━━━━━━━━━━\u001b[0m\u001b[91m╸\u001b[0m\u001b[90m━━━━\u001b[0m \u001b[32m112.6/126.0 kB\u001b[0m \u001b[31m3.1 MB/s\u001b[0m eta \u001b[36m0:00:01\u001b[0m\r\u001b[2K   \u001b[90m━━━━━━━━━━━━━━━━━━━━━━━━━━━━━━━━━━━━━━━━\u001b[0m \u001b[32m126.0/126.0 kB\u001b[0m \u001b[31m2.4 MB/s\u001b[0m eta \u001b[36m0:00:00\u001b[0m\n",
            "\u001b[?25hInstalling collected packages: vaderSentiment\n",
            "Successfully installed vaderSentiment-3.3.2\n"
          ]
        }
      ]
    },
    {
      "cell_type": "code",
      "source": [
        "from vaderSentiment.vaderSentiment import SentimentIntensityAnalyzer\n",
        "analyzer = SentimentIntensityAnalyzer()\n",
        "def get_sentiment_features(text):\n",
        "    scores = analyzer.polarity_scores(text)\n",
        "    return scores['neg'], scores['neu'], scores['pos'], scores['compound']\n",
        "\n",
        "# Apply the sentiment analysis function to the dataset\n",
        "news[['neg', 'neu', 'pos', 'compound']] = news['title'].apply(get_sentiment_features).apply(pd.Series)\n",
        "\n",
        "# Prepare the feature set and target variable\n",
        "X = news[['neg', 'neu', 'pos', 'compound']]  # Use VADER sentiment features\n",
        "#y = news['label']  # 1 for real, 0 for fake\n",
        "\n",
        "# Train-test split\n",
        "X_train, X_test, Y_train, Y_test = train_test_split(X, Y, test_size=0.2, random_state=42)"
      ],
      "metadata": {
        "id": "eRPjF40Bl5n3"
      },
      "execution_count": 26,
      "outputs": []
    },
    {
      "cell_type": "code",
      "source": [
        "Y_test = Y_test.dropna().reset_index(drop=True)\n",
        "X_test, Y_test = X_test.align(Y_test, join='inner', axis=0)\n",
        "print(Y_train.isnull().sum(), Y_test.isnull().sum())"
      ],
      "metadata": {
        "colab": {
          "base_uri": "https://localhost:8080/"
        },
        "id": "F5OeTx40md9N",
        "outputId": "9a7580a1-77ba-46c4-ab6f-47c99f579fbe"
      },
      "execution_count": 27,
      "outputs": [
        {
          "output_type": "stream",
          "name": "stdout",
          "text": [
            "0 0\n"
          ]
        }
      ]
    },
    {
      "cell_type": "code",
      "source": [
        "y_train_cleaned = Y_train.dropna()\n",
        "\n",
        "# Align X_train by keeping only the rows that correspond to the non-NaN values in y_train_cleaned\n",
        "X_train_cleaned = X_train.loc[y_train_cleaned.index]\n",
        "\n",
        "# Reset the indices of both X_train_cleaned and y_train_cleaned\n",
        "X_train_cleaned = X_train_cleaned.reset_index(drop=True)\n",
        "y_train_cleaned = y_train_cleaned.reset_index(drop=True)\n",
        "\n",
        "# Now check for null values in the cleaned data\n",
        "print(\"y_train_cleaned NaN values:\", y_train_cleaned.isnull().sum())\n",
        "print(\"X_train_cleaned NaN values:\", X_train_cleaned.isnull().sum())\n",
        "print(\"Y_test NaN values:\", Y_test.isnull().sum())"
      ],
      "metadata": {
        "colab": {
          "base_uri": "https://localhost:8080/"
        },
        "id": "qiwSCE-GmiMl",
        "outputId": "b90afe43-2c06-45fe-d320-a0d947a99c12"
      },
      "execution_count": 28,
      "outputs": [
        {
          "output_type": "stream",
          "name": "stdout",
          "text": [
            "y_train_cleaned NaN values: 0\n",
            "X_train_cleaned NaN values: neg         0\n",
            "neu         0\n",
            "pos         0\n",
            "compound    0\n",
            "dtype: int64\n",
            "Y_test NaN values: 0\n"
          ]
        }
      ]
    },
    {
      "cell_type": "code",
      "source": [
        "model = LogisticRegression()\n",
        "model.fit(X_train_cleaned, y_train_cleaned)\n",
        "\n",
        "# Evaluate the model\n",
        "y_pred = model.predict(X_test)\n",
        "accuracy = accuracy_score(Y_test, y_pred)\n",
        "print(f\"Model Accuracy: {accuracy:.3f}\")"
      ],
      "metadata": {
        "colab": {
          "base_uri": "https://localhost:8080/"
        },
        "id": "JfkaB6yQmmXF",
        "outputId": "e078f4f5-1bd0-472a-bac0-f50b681a9c77"
      },
      "execution_count": 29,
      "outputs": [
        {
          "output_type": "stream",
          "name": "stdout",
          "text": [
            "Model Accuracy: 0.468\n"
          ]
        }
      ]
    },
    {
      "cell_type": "code",
      "source": [
        "from sklearn.ensemble import RandomForestClassifier\n",
        "import textstat\n",
        "\n",
        "fake_news_words = [\n",
        "    \"Exclusive\", \"Shocking\", \"Revealed\", \"Exposed\", \"Unbelievable\",\n",
        "    \"Scandal\", \"Unprecedented\", \"Breaking\", \"Conspiracy\", \"Hoax\",\n",
        "    \"Bombshell\", \"Alert\", \"Hacked\", \"Disturbing\", \"Cover-up\",\n",
        "    \"Unfounded\", \"Widespread\", \"Propaganda\", \"Debunked\", \"Controversial\", \"Alien\"\n",
        "]\n",
        "\n",
        "def contains_fake_news_keywords(text, keywords):\n",
        "    tokens = text.split()  # Assuming text is already cleaned and tokenized\n",
        "    return any(keyword in tokens for keyword in keywords)\n",
        "\n",
        "# Function to calculate average sentence length\n",
        "def average_sentence_length(text):\n",
        "    sentences = text.split('.')  # Split text into sentences (basic splitting)\n",
        "    num_sentences = len([s for s in sentences if s.strip()])\n",
        "    num_words = len(text.split())\n",
        "    return num_words / num_sentences if num_sentences > 0 else 0\n",
        "\n",
        "def flesch_kincaid_score(text):\n",
        "    return textstat.flesch_kincaid_grade(text)\n",
        "\n",
        "# Apply feature engineering before splitting the data\n",
        "news['keyword_feature'] = news['title'].apply(lambda x: contains_fake_news_keywords(x, fake_news_words)) | \\\n",
        "                          news['text'].apply(lambda x: contains_fake_news_keywords(x, fake_news_words))\n",
        "\n",
        "news['avg_sentence_length'] = news['text'].apply(average_sentence_length)\n",
        "news['flesch_kincaid'] = news['text'].apply(flesch_kincaid_score)\n",
        "\n",
        "# Combine VADER sentiment features and keyword feature\n",
        "X = news[['neg', 'neu', 'pos', 'compound', 'keyword_feature', 'avg_sentence_length', 'flesch_kincaid']]\n",
        "\n",
        "# Now split the data into training and testing sets\n",
        "X_train, X_test, Y_train, Y_test = train_test_split(X, Y, test_size=0.2, random_state=42)\n",
        "\n",
        "# Handle NaN values in y_train\n",
        "y_train_cleaned = Y_train.dropna()\n",
        "X_train_cleaned = X_train.loc[y_train_cleaned.index].reset_index(drop=True)\n",
        "y_train_cleaned = y_train_cleaned.reset_index(drop=True)\n",
        "\n",
        "# Train a simple model (Random Forest Classifier)\n",
        "clf = RandomForestClassifier(n_estimators=100, random_state=42)\n",
        "clf.fit(X_train_cleaned, y_train_cleaned)\n",
        "\n",
        "y_pred = clf.predict(X_test)\n",
        "accuracy = accuracy_score(Y_test, y_pred)\n",
        "print(f\"Model Accuracy: {accuracy:.4f}\")"
      ],
      "metadata": {
        "colab": {
          "base_uri": "https://localhost:8080/"
        },
        "id": "h1Sr-AG5nOtY",
        "outputId": "c9a0e12d-0bdf-478a-dad3-9268ccea9abf"
      },
      "execution_count": 30,
      "outputs": [
        {
          "output_type": "stream",
          "name": "stdout",
          "text": [
            "Model Accuracy: 0.7932\n"
          ]
        }
      ]
    },
    {
      "cell_type": "code",
      "source": [
        "!pip install textstat"
      ],
      "metadata": {
        "colab": {
          "base_uri": "https://localhost:8080/"
        },
        "id": "3Hmliv_nnoQM",
        "outputId": "889cd05a-2633-431f-c622-a995ee6c82a9"
      },
      "execution_count": 31,
      "outputs": [
        {
          "output_type": "stream",
          "name": "stdout",
          "text": [
            "Requirement already satisfied: textstat in /usr/local/lib/python3.10/dist-packages (0.7.4)\n",
            "Requirement already satisfied: pyphen in /usr/local/lib/python3.10/dist-packages (from textstat) (0.17.0)\n",
            "Requirement already satisfied: setuptools in /usr/local/lib/python3.10/dist-packages (from textstat) (75.1.0)\n"
          ]
        }
      ]
    },
    {
      "cell_type": "code",
      "source": [
        "from sklearn.preprocessing import OneHotEncoder\n",
        "\n",
        "# One-hot encode the subject names\n",
        "encoder = OneHotEncoder()\n",
        "subject_encoded = encoder.fit_transform(news[['subject']]).toarray()\n",
        "\n",
        "# Add subject encoding as new features\n",
        "subject_columns = [f\"subject_{cat}\" for cat in encoder.categories_[0]]\n",
        "subject_df = pd.DataFrame(subject_encoded, columns=subject_columns)\n",
        "\n",
        "# Combine with existing features\n",
        "X = pd.concat([news[['neg', 'neu', 'pos', 'compound', 'keyword_feature', 'avg_sentence_length', 'flesch_kincaid']],\n",
        "               subject_df], axis=1)\n",
        "Y = news['label']  # Target variable\n",
        "\n",
        "# Handle NaN values\n",
        "X.fillna(0, inplace=True)\n",
        "Y.fillna(0, inplace=True)\n",
        "\n",
        "# Split the data into training and testing sets\n",
        "X_train, X_test, Y_train, Y_test = train_test_split(X, Y, test_size=0.2, random_state=42)\n",
        "\n",
        "# Train a Random Forest Classifier\n",
        "clf = RandomForestClassifier(n_estimators=100, random_state=42)\n",
        "clf.fit(X_train, Y_train)\n",
        "\n",
        "# Make predictions\n",
        "y_pred = clf.predict(X_test)\n",
        "accuracy = accuracy_score(Y_test, y_pred)\n",
        "\n",
        "print(f\"Model Accuracy (With Subject Features): {accuracy:.4f}\")\n"
      ],
      "metadata": {
        "colab": {
          "base_uri": "https://localhost:8080/"
        },
        "id": "fbeR9unDsdeX",
        "outputId": "bceaee09-737a-491d-cd41-8041fc354bff"
      },
      "execution_count": 33,
      "outputs": [
        {
          "output_type": "stream",
          "name": "stdout",
          "text": [
            "Model Accuracy (With Subject Features): 1.0000\n"
          ]
        }
      ]
    },
    {
      "cell_type": "code",
      "source": [
        "from sklearn.utils import shuffle\n",
        "\n",
        "Y_shuffled = shuffle(Y)\n",
        "X_train, X_test, Y_train, Y_test = train_test_split(X, Y_shuffled, test_size=0.2, random_state=42)\n",
        "clf.fit(X_train, Y_train)\n",
        "y_pred = clf.predict(X_test)\n",
        "accuracy = accuracy_score(Y_test, y_pred)\n",
        "print(f\"Accuracy with Shuffled Labels: {accuracy:.4f}\")"
      ],
      "metadata": {
        "colab": {
          "base_uri": "https://localhost:8080/"
        },
        "id": "Obs82n4uwcMI",
        "outputId": "f185c0c3-e757-4df0-c61e-df0ad82631f2"
      },
      "execution_count": 34,
      "outputs": [
        {
          "output_type": "stream",
          "name": "stdout",
          "text": [
            "Accuracy with Shuffled Labels: 0.4891\n"
          ]
        }
      ]
    },
    {
      "cell_type": "code",
      "source": [
        "import matplotlib.pyplot as plt\n",
        "\n",
        "feature_importances = clf.feature_importances_\n",
        "plt.barh(X.columns, feature_importances)\n",
        "plt.xlabel(\"Importance\")\n",
        "plt.ylabel(\"Feature\")\n",
        "plt.title(\"Feature Importance\")\n",
        "plt.show()"
      ],
      "metadata": {
        "colab": {
          "base_uri": "https://localhost:8080/",
          "height": 472
        },
        "id": "MyK9SoXPwrsf",
        "outputId": "05e2072d-3f4b-4f49-f61b-ce69ac354b45"
      },
      "execution_count": 35,
      "outputs": [
        {
          "output_type": "display_data",
          "data": {
            "text/plain": [
              "<Figure size 640x480 with 1 Axes>"
            ],
            "image/png": "[encoded data removed]"
          },
          "metadata": {}
        }
      ]
    }
  ]
}