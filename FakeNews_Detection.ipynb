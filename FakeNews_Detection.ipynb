{
  "nbformat": 4,
  "nbformat_minor": 0,
  "metadata": {
    "colab": {
      "provenance": [],
      "mount_file_id": "144Cacp8_1_zba6dOB-9xJAzr7OfkSmq4",
      "authorship_tag": "ABX9TyNiWCtQ+MWdTsrbs2J9E8RY",
      "include_colab_link": true
    },
    "kernelspec": {
      "name": "python3",
      "display_name": "Python 3"
    },
    "language_info": {
      "name": "python"
    }
  },
  "cells": [
    {
      "cell_type": "markdown",
      "metadata": {
        "id": "view-in-github",
        "colab_type": "text"
      },
      "source": [
        "<a href=\"https://colab.research.google.com/github/yellowflickerbeat/FakeNews_Detection/blob/main/FakeNews_Detection.ipynb\" target=\"_parent\"><img src=\"https://colab.research.google.com/assets/colab-badge.svg\" alt=\"Open In Colab\"/></a>"
      ]
    },
    {
      "cell_type": "code",
      "execution_count": 32,
      "metadata": {
        "id": "4eyD9Ansihlo"
      },
      "outputs": [],
      "source": [
        "import numpy as np\n",
        "import pandas as pd\n",
        "import re\n",
        "from nltk.corpus import stopwords\n",
        "#stopwords removes all the repetative words which don't substance to the text\n",
        "from nltk.stem import WordNetLemmatizer\n",
        "from nltk.corpus import wordnet\n",
        "#WordNetLemmatizer converts words into their roots considering its context\n",
        "from sklearn.feature_extraction.text import TfidfVectorizer\n",
        "#TfidfVectorizer measures importance of diff words\n",
        "from sklearn.model_selection import train_test_split\n",
        "#splits data into test and train\n",
        "from sklearn.linear_model import LogisticRegression\n",
        "from sklearn.metrics import accuracy_score"
      ]
    },
    {
      "cell_type": "code",
      "source": [
        "import nltk\n",
        "nltk.download('stopwords')"
      ],
      "metadata": {
        "colab": {
          "base_uri": "https://localhost:8080/"
        },
        "id": "-MgCHoPckbh4",
        "outputId": "dac98ceb-4063-45f0-e9fe-291580e07eec"
      },
      "execution_count": 7,
      "outputs": [
        {
          "output_type": "stream",
          "name": "stderr",
          "text": [
            "[nltk_data] Downloading package stopwords to /root/nltk_data...\n",
            "[nltk_data]   Unzipping corpora/stopwords.zip.\n"
          ]
        },
        {
          "output_type": "execute_result",
          "data": {
            "text/plain": [
              "True"
            ]
          },
          "metadata": {},
          "execution_count": 7
        }
      ]
    },
    {
      "cell_type": "code",
      "source": [
        "print(stopwords.words('english'))\n",
        "#examples of all stopwords"
      ],
      "metadata": {
        "colab": {
          "base_uri": "https://localhost:8080/"
        },
        "id": "RJsrsIlBnJt3",
        "outputId": "0666fd80-ca13-4bd7-f161-297f70dc3cb2"
      },
      "execution_count": 8,
      "outputs": [
        {
          "output_type": "stream",
          "name": "stdout",
          "text": [
            "['i', 'me', 'my', 'myself', 'we', 'our', 'ours', 'ourselves', 'you', \"you're\", \"you've\", \"you'll\", \"you'd\", 'your', 'yours', 'yourself', 'yourselves', 'he', 'him', 'his', 'himself', 'she', \"she's\", 'her', 'hers', 'herself', 'it', \"it's\", 'its', 'itself', 'they', 'them', 'their', 'theirs', 'themselves', 'what', 'which', 'who', 'whom', 'this', 'that', \"that'll\", 'these', 'those', 'am', 'is', 'are', 'was', 'were', 'be', 'been', 'being', 'have', 'has', 'had', 'having', 'do', 'does', 'did', 'doing', 'a', 'an', 'the', 'and', 'but', 'if', 'or', 'because', 'as', 'until', 'while', 'of', 'at', 'by', 'for', 'with', 'about', 'against', 'between', 'into', 'through', 'during', 'before', 'after', 'above', 'below', 'to', 'from', 'up', 'down', 'in', 'out', 'on', 'off', 'over', 'under', 'again', 'further', 'then', 'once', 'here', 'there', 'when', 'where', 'why', 'how', 'all', 'any', 'both', 'each', 'few', 'more', 'most', 'other', 'some', 'such', 'no', 'nor', 'not', 'only', 'own', 'same', 'so', 'than', 'too', 'very', 's', 't', 'can', 'will', 'just', 'don', \"don't\", 'should', \"should've\", 'now', 'd', 'll', 'm', 'o', 're', 've', 'y', 'ain', 'aren', \"aren't\", 'couldn', \"couldn't\", 'didn', \"didn't\", 'doesn', \"doesn't\", 'hadn', \"hadn't\", 'hasn', \"hasn't\", 'haven', \"haven't\", 'isn', \"isn't\", 'ma', 'mightn', \"mightn't\", 'mustn', \"mustn't\", 'needn', \"needn't\", 'shan', \"shan't\", 'shouldn', \"shouldn't\", 'wasn', \"wasn't\", 'weren', \"weren't\", 'won', \"won't\", 'wouldn', \"wouldn't\"]\n"
          ]
        }
      ]
    },
    {
      "cell_type": "markdown",
      "source": [
        "Data Pre-Processing"
      ],
      "metadata": {
        "id": "r9ntzEeapEFm"
      }
    },
    {
      "cell_type": "code",
      "source": [
        "#mounting the mandatory datasets\n",
        "news = pd.read_table('/content/train.tsv')"
      ],
      "metadata": {
        "id": "H2jcRFENpabO"
      },
      "execution_count": 13,
      "outputs": []
    },
    {
      "cell_type": "code",
      "source": [
        "news.shape\n",
        "#getting to know the contents' size"
      ],
      "metadata": {
        "colab": {
          "base_uri": "https://localhost:8080/"
        },
        "id": "-gHOydr_qWN-",
        "outputId": "0d8db558-e407-4fe3-f103-c932ad24efe5"
      },
      "execution_count": 14,
      "outputs": [
        {
          "output_type": "execute_result",
          "data": {
            "text/plain": [
              "(30000, 6)"
            ]
          },
          "metadata": {},
          "execution_count": 14
        }
      ]
    },
    {
      "cell_type": "code",
      "source": [
        "#printing the first 10 rows and columns\n",
        "news = news.rename(columns={'Unnamed:0' : 'id'})\n",
        "news.head(10)"
      ],
      "metadata": {
        "colab": {
          "base_uri": "https://localhost:8080/",
          "height": 363
        },
        "id": "qoR_aj0nqjmO",
        "outputId": "5407902c-8816-428b-adc0-28d384614e3d"
      },
      "execution_count": 17,
      "outputs": [
        {
          "output_type": "execute_result",
          "data": {
            "text/plain": [
              "   Unnamed: 0                                              title  \\\n",
              "0        2619  Ex-CIA head says Trump remarks on Russia inter...   \n",
              "1       16043  YOU WON’T BELIEVE HIS PUNISHMENT! HISPANIC STO...   \n",
              "2         876  Federal Reserve governor Powell's policy views...   \n",
              "3       19963  SCOUNDREL HILLARY SUPPORTER STARTS “TrumpLeaks...   \n",
              "4       10783  NANCY PELOSI ARROGANTLY DISMISSES Questions on...   \n",
              "5       18522  EU's Tusk appealed to Rajoy to avoid escalatio...   \n",
              "6         270  Country Guitarist Who Survived Vegas Shooting ...   \n",
              "7        7628  Clinton says 'there is no case here' in FBI em...   \n",
              "8        9599  ABC NEWS REPORTS: Las Vegas Massacre Suspect’s...   \n",
              "9       11234  BONKERS BERNIE SANDERS: Prioritizing Jobs Over...   \n",
              "\n",
              "                                                text          subject  \\\n",
              "0  Former CIA director John Brennan on Friday cri...     politicsNews   \n",
              "1  How did this man come to OWN this store? There...  Government News   \n",
              "2  President Donald Trump on Thursday tapped Fede...     politicsNews   \n",
              "3  Hillary Clinton ally David Brock is offering t...        left-news   \n",
              "4  Pleading ignorance is a perfect ploy for Nancy...         politics   \n",
              "5  European Council President Donald Tusk appeale...        worldnews   \n",
              "6  Caleb Keeter, a lifelong proponent of the Seco...             News   \n",
              "7  Democratic presidential candidate Hillary Clin...     politicsNews   \n",
              "8  The investigation into the Las Vegas massacre ...         politics   \n",
              "9  https://www.youtube.com/watch?v=GPqQIlWksbgVer...         politics   \n",
              "\n",
              "                date  label  \n",
              "0     July 22, 2017       1  \n",
              "1       Jun 19, 2017      0  \n",
              "2  November 2, 2017       1  \n",
              "3       Sep 17, 2016      0  \n",
              "4       May 26, 2017      0  \n",
              "5   October 2, 2017       1  \n",
              "6    October 2, 2017      0  \n",
              "7  October 31, 2016       1  \n",
              "8       Oct 25, 2017      0  \n",
              "9        Apr 1, 2017      0  "
            ],
            "text/html": [
              "\n",
              "  <div id=\"df-d63cc98d-cd8f-472b-954a-b2cdf5926b7f\" class=\"colab-df-container\">\n",
              "    <div>\n",
              "<style scoped>\n",
              "    .dataframe tbody tr th:only-of-type {\n",
              "        vertical-align: middle;\n",
              "    }\n",
              "\n",
              "    .dataframe tbody tr th {\n",
              "        vertical-align: top;\n",
              "    }\n",
              "\n",
              "    .dataframe thead th {\n",
              "        text-align: right;\n",
              "    }\n",
              "</style>\n",
              "<table border=\"1\" class=\"dataframe\">\n",
              "  <thead>\n",
              "    <tr style=\"text-align: right;\">\n",
              "      <th></th>\n",
              "      <th>Unnamed: 0</th>\n",
              "      <th>title</th>\n",
              "      <th>text</th>\n",
              "      <th>subject</th>\n",
              "      <th>date</th>\n",
              "      <th>label</th>\n",
              "    </tr>\n",
              "  </thead>\n",
              "  <tbody>\n",
              "    <tr>\n",
              "      <th>0</th>\n",
              "      <td>2619</td>\n",
              "      <td>Ex-CIA head says Trump remarks on Russia inter...</td>\n",
              "      <td>Former CIA director John Brennan on Friday cri...</td>\n",
              "      <td>politicsNews</td>\n",
              "      <td>July 22, 2017</td>\n",
              "      <td>1</td>\n",
              "    </tr>\n",
              "    <tr>\n",
              "      <th>1</th>\n",
              "      <td>16043</td>\n",
              "      <td>YOU WON’T BELIEVE HIS PUNISHMENT! HISPANIC STO...</td>\n",
              "      <td>How did this man come to OWN this store? There...</td>\n",
              "      <td>Government News</td>\n",
              "      <td>Jun 19, 2017</td>\n",
              "      <td>0</td>\n",
              "    </tr>\n",
              "    <tr>\n",
              "      <th>2</th>\n",
              "      <td>876</td>\n",
              "      <td>Federal Reserve governor Powell's policy views...</td>\n",
              "      <td>President Donald Trump on Thursday tapped Fede...</td>\n",
              "      <td>politicsNews</td>\n",
              "      <td>November 2, 2017</td>\n",
              "      <td>1</td>\n",
              "    </tr>\n",
              "    <tr>\n",
              "      <th>3</th>\n",
              "      <td>19963</td>\n",
              "      <td>SCOUNDREL HILLARY SUPPORTER STARTS “TrumpLeaks...</td>\n",
              "      <td>Hillary Clinton ally David Brock is offering t...</td>\n",
              "      <td>left-news</td>\n",
              "      <td>Sep 17, 2016</td>\n",
              "      <td>0</td>\n",
              "    </tr>\n",
              "    <tr>\n",
              "      <th>4</th>\n",
              "      <td>10783</td>\n",
              "      <td>NANCY PELOSI ARROGANTLY DISMISSES Questions on...</td>\n",
              "      <td>Pleading ignorance is a perfect ploy for Nancy...</td>\n",
              "      <td>politics</td>\n",
              "      <td>May 26, 2017</td>\n",
              "      <td>0</td>\n",
              "    </tr>\n",
              "    <tr>\n",
              "      <th>5</th>\n",
              "      <td>18522</td>\n",
              "      <td>EU's Tusk appealed to Rajoy to avoid escalatio...</td>\n",
              "      <td>European Council President Donald Tusk appeale...</td>\n",
              "      <td>worldnews</td>\n",
              "      <td>October 2, 2017</td>\n",
              "      <td>1</td>\n",
              "    </tr>\n",
              "    <tr>\n",
              "      <th>6</th>\n",
              "      <td>270</td>\n",
              "      <td>Country Guitarist Who Survived Vegas Shooting ...</td>\n",
              "      <td>Caleb Keeter, a lifelong proponent of the Seco...</td>\n",
              "      <td>News</td>\n",
              "      <td>October 2, 2017</td>\n",
              "      <td>0</td>\n",
              "    </tr>\n",
              "    <tr>\n",
              "      <th>7</th>\n",
              "      <td>7628</td>\n",
              "      <td>Clinton says 'there is no case here' in FBI em...</td>\n",
              "      <td>Democratic presidential candidate Hillary Clin...</td>\n",
              "      <td>politicsNews</td>\n",
              "      <td>October 31, 2016</td>\n",
              "      <td>1</td>\n",
              "    </tr>\n",
              "    <tr>\n",
              "      <th>8</th>\n",
              "      <td>9599</td>\n",
              "      <td>ABC NEWS REPORTS: Las Vegas Massacre Suspect’s...</td>\n",
              "      <td>The investigation into the Las Vegas massacre ...</td>\n",
              "      <td>politics</td>\n",
              "      <td>Oct 25, 2017</td>\n",
              "      <td>0</td>\n",
              "    </tr>\n",
              "    <tr>\n",
              "      <th>9</th>\n",
              "      <td>11234</td>\n",
              "      <td>BONKERS BERNIE SANDERS: Prioritizing Jobs Over...</td>\n",
              "      <td>https://www.youtube.com/watch?v=GPqQIlWksbgVer...</td>\n",
              "      <td>politics</td>\n",
              "      <td>Apr 1, 2017</td>\n",
              "      <td>0</td>\n",
              "    </tr>\n",
              "  </tbody>\n",
              "</table>\n",
              "</div>\n",
              "    <div class=\"colab-df-buttons\">\n",
              "\n",
              "  <div class=\"colab-df-container\">\n",
              "    <button class=\"colab-df-convert\" onclick=\"convertToInteractive('df-d63cc98d-cd8f-472b-954a-b2cdf5926b7f')\"\n",
              "            title=\"Convert this dataframe to an interactive table.\"\n",
              "            style=\"display:none;\">\n",
              "\n",
              "  <svg xmlns=\"http://www.w3.org/2000/svg\" height=\"24px\" viewBox=\"0 -960 960 960\">\n",
              "    <path d=\"M120-120v-720h720v720H120Zm60-500h600v-160H180v160Zm220 220h160v-160H400v160Zm0 220h160v-160H400v160ZM180-400h160v-160H180v160Zm440 0h160v-160H620v160ZM180-180h160v-160H180v160Zm440 0h160v-160H620v160Z\"/>\n",
              "  </svg>\n",
              "    </button>\n",
              "\n",
              "  <style>\n",
              "    .colab-df-container {\n",
              "      display:flex;\n",
              "      gap: 12px;\n",
              "    }\n",
              "\n",
              "    .colab-df-convert {\n",
              "      background-color: #E8F0FE;\n",
              "      border: none;\n",
              "      border-radius: 50%;\n",
              "      cursor: pointer;\n",
              "      display: none;\n",
              "      fill: #1967D2;\n",
              "      height: 32px;\n",
              "      padding: 0 0 0 0;\n",
              "      width: 32px;\n",
              "    }\n",
              "\n",
              "    .colab-df-convert:hover {\n",
              "      background-color: #E2EBFA;\n",
              "      box-shadow: 0px 1px 2px rgba(60, 64, 67, 0.3), 0px 1px 3px 1px rgba(60, 64, 67, 0.15);\n",
              "      fill: #174EA6;\n",
              "    }\n",
              "\n",
              "    .colab-df-buttons div {\n",
              "      margin-bottom: 4px;\n",
              "    }\n",
              "\n",
              "    [theme=dark] .colab-df-convert {\n",
              "      background-color: #3B4455;\n",
              "      fill: #D2E3FC;\n",
              "    }\n",
              "\n",
              "    [theme=dark] .colab-df-convert:hover {\n",
              "      background-color: #434B5C;\n",
              "      box-shadow: 0px 1px 3px 1px rgba(0, 0, 0, 0.15);\n",
              "      filter: drop-shadow(0px 1px 2px rgba(0, 0, 0, 0.3));\n",
              "      fill: #FFFFFF;\n",
              "    }\n",
              "  </style>\n",
              "\n",
              "    <script>\n",
              "      const buttonEl =\n",
              "        document.querySelector('#df-d63cc98d-cd8f-472b-954a-b2cdf5926b7f button.colab-df-convert');\n",
              "      buttonEl.style.display =\n",
              "        google.colab.kernel.accessAllowed ? 'block' : 'none';\n",
              "\n",
              "      async function convertToInteractive(key) {\n",
              "        const element = document.querySelector('#df-d63cc98d-cd8f-472b-954a-b2cdf5926b7f');\n",
              "        const dataTable =\n",
              "          await google.colab.kernel.invokeFunction('convertToInteractive',\n",
              "                                                    [key], {});\n",
              "        if (!dataTable) return;\n",
              "\n",
              "        const docLinkHtml = 'Like what you see? Visit the ' +\n",
              "          '<a target=\"_blank\" href=https://colab.research.google.com/notebooks/data_table.ipynb>data table notebook</a>'\n",
              "          + ' to learn more about interactive tables.';\n",
              "        element.innerHTML = '';\n",
              "        dataTable['output_type'] = 'display_data';\n",
              "        await google.colab.output.renderOutput(dataTable, element);\n",
              "        const docLink = document.createElement('div');\n",
              "        docLink.innerHTML = docLinkHtml;\n",
              "        element.appendChild(docLink);\n",
              "      }\n",
              "    </script>\n",
              "  </div>\n",
              "\n",
              "\n",
              "<div id=\"df-4264d207-a6c2-4c18-ad8d-302ba4dc70fb\">\n",
              "  <button class=\"colab-df-quickchart\" onclick=\"quickchart('df-4264d207-a6c2-4c18-ad8d-302ba4dc70fb')\"\n",
              "            title=\"Suggest charts\"\n",
              "            style=\"display:none;\">\n",
              "\n",
              "<svg xmlns=\"http://www.w3.org/2000/svg\" height=\"24px\"viewBox=\"0 0 24 24\"\n",
              "     width=\"24px\">\n",
              "    <g>\n",
              "        <path d=\"M19 3H5c-1.1 0-2 .9-2 2v14c0 1.1.9 2 2 2h14c1.1 0 2-.9 2-2V5c0-1.1-.9-2-2-2zM9 17H7v-7h2v7zm4 0h-2V7h2v10zm4 0h-2v-4h2v4z\"/>\n",
              "    </g>\n",
              "</svg>\n",
              "  </button>\n",
              "\n",
              "<style>\n",
              "  .colab-df-quickchart {\n",
              "      --bg-color: #E8F0FE;\n",
              "      --fill-color: #1967D2;\n",
              "      --hover-bg-color: #E2EBFA;\n",
              "      --hover-fill-color: #174EA6;\n",
              "      --disabled-fill-color: #AAA;\n",
              "      --disabled-bg-color: #DDD;\n",
              "  }\n",
              "\n",
              "  [theme=dark] .colab-df-quickchart {\n",
              "      --bg-color: #3B4455;\n",
              "      --fill-color: #D2E3FC;\n",
              "      --hover-bg-color: #434B5C;\n",
              "      --hover-fill-color: #FFFFFF;\n",
              "      --disabled-bg-color: #3B4455;\n",
              "      --disabled-fill-color: #666;\n",
              "  }\n",
              "\n",
              "  .colab-df-quickchart {\n",
              "    background-color: var(--bg-color);\n",
              "    border: none;\n",
              "    border-radius: 50%;\n",
              "    cursor: pointer;\n",
              "    display: none;\n",
              "    fill: var(--fill-color);\n",
              "    height: 32px;\n",
              "    padding: 0;\n",
              "    width: 32px;\n",
              "  }\n",
              "\n",
              "  .colab-df-quickchart:hover {\n",
              "    background-color: var(--hover-bg-color);\n",
              "    box-shadow: 0 1px 2px rgba(60, 64, 67, 0.3), 0 1px 3px 1px rgba(60, 64, 67, 0.15);\n",
              "    fill: var(--button-hover-fill-color);\n",
              "  }\n",
              "\n",
              "  .colab-df-quickchart-complete:disabled,\n",
              "  .colab-df-quickchart-complete:disabled:hover {\n",
              "    background-color: var(--disabled-bg-color);\n",
              "    fill: var(--disabled-fill-color);\n",
              "    box-shadow: none;\n",
              "  }\n",
              "\n",
              "  .colab-df-spinner {\n",
              "    border: 2px solid var(--fill-color);\n",
              "    border-color: transparent;\n",
              "    border-bottom-color: var(--fill-color);\n",
              "    animation:\n",
              "      spin 1s steps(1) infinite;\n",
              "  }\n",
              "\n",
              "  @keyframes spin {\n",
              "    0% {\n",
              "      border-color: transparent;\n",
              "      border-bottom-color: var(--fill-color);\n",
              "      border-left-color: var(--fill-color);\n",
              "    }\n",
              "    20% {\n",
              "      border-color: transparent;\n",
              "      border-left-color: var(--fill-color);\n",
              "      border-top-color: var(--fill-color);\n",
              "    }\n",
              "    30% {\n",
              "      border-color: transparent;\n",
              "      border-left-color: var(--fill-color);\n",
              "      border-top-color: var(--fill-color);\n",
              "      border-right-color: var(--fill-color);\n",
              "    }\n",
              "    40% {\n",
              "      border-color: transparent;\n",
              "      border-right-color: var(--fill-color);\n",
              "      border-top-color: var(--fill-color);\n",
              "    }\n",
              "    60% {\n",
              "      border-color: transparent;\n",
              "      border-right-color: var(--fill-color);\n",
              "    }\n",
              "    80% {\n",
              "      border-color: transparent;\n",
              "      border-right-color: var(--fill-color);\n",
              "      border-bottom-color: var(--fill-color);\n",
              "    }\n",
              "    90% {\n",
              "      border-color: transparent;\n",
              "      border-bottom-color: var(--fill-color);\n",
              "    }\n",
              "  }\n",
              "</style>\n",
              "\n",
              "  <script>\n",
              "    async function quickchart(key) {\n",
              "      const quickchartButtonEl =\n",
              "        document.querySelector('#' + key + ' button');\n",
              "      quickchartButtonEl.disabled = true;  // To prevent multiple clicks.\n",
              "      quickchartButtonEl.classList.add('colab-df-spinner');\n",
              "      try {\n",
              "        const charts = await google.colab.kernel.invokeFunction(\n",
              "            'suggestCharts', [key], {});\n",
              "      } catch (error) {\n",
              "        console.error('Error during call to suggestCharts:', error);\n",
              "      }\n",
              "      quickchartButtonEl.classList.remove('colab-df-spinner');\n",
              "      quickchartButtonEl.classList.add('colab-df-quickchart-complete');\n",
              "    }\n",
              "    (() => {\n",
              "      let quickchartButtonEl =\n",
              "        document.querySelector('#df-4264d207-a6c2-4c18-ad8d-302ba4dc70fb button');\n",
              "      quickchartButtonEl.style.display =\n",
              "        google.colab.kernel.accessAllowed ? 'block' : 'none';\n",
              "    })();\n",
              "  </script>\n",
              "</div>\n",
              "\n",
              "    </div>\n",
              "  </div>\n"
            ],
            "application/vnd.google.colaboratory.intrinsic+json": {
              "type": "dataframe",
              "variable_name": "news",
              "summary": "{\n  \"name\": \"news\",\n  \"rows\": 30000,\n  \"fields\": [\n    {\n      \"column\": \"Unnamed: 0\",\n      \"properties\": {\n        \"dtype\": \"number\",\n        \"std\": 6533,\n        \"min\": 0,\n        \"max\": 23479,\n        \"num_unique_values\": 20462,\n        \"samples\": [\n          11388,\n          8486,\n          3195\n        ],\n        \"semantic_type\": \"\",\n        \"description\": \"\"\n      }\n    },\n    {\n      \"column\": \"title\",\n      \"properties\": {\n        \"dtype\": \"string\",\n        \"num_unique_values\": 27149,\n        \"samples\": [\n          \"STRANGER THAN FICTION: Why Is Foundation of Vegas Shooting Survivor Sponsored By DHS Linked Firm?\",\n          \"Brexit deal on Irish border possible by Friday: EU Commission\",\n          \"Possible explosion detected near Argentine sub's last-known location\"\n        ],\n        \"semantic_type\": \"\",\n        \"description\": \"\"\n      }\n    },\n    {\n      \"column\": \"text\",\n      \"properties\": {\n        \"dtype\": \"string\",\n        \"num_unique_values\": 27317,\n        \"samples\": [\n          \"A recent opinion poll carried out by NBC News/Wall Street Journal showed that 78 percent of Americans, a number that appears to still be growing, would prefer to see an independent commissioner or special prosecutor handle the investigation into Russia s interference in the 2016 US presidential election, while a mere 15 percent believe congress can handle any ongoing probe.Last week was more than just a turbulent time in Washington. President Trump fired FBI head James Comey on Tuesday, the man responsible for the investigation into Trump s Russian ties. This latest poll was conducted between Thursday, May 11 and Saturday, May 13, just days after Comey s ousting, among 800 adults and has an overall margin of error of plus or minus 3.5 percentage points. The firing of the FBI director was a major upheaval in the investigation process, and these poll results reflect the current climate not only around Capitol Hill, but what is a rapidly growing consensus across the nation.Since Comey s dismissal, Trump and several members of his administration have tried to downplay the need for an independent commission to continue what the FBI had begun; looking into questions of Russian interference in last year s election, as well as the possibility of members of Trump s campaign colluding with Moscow. In fact, on Saturday the President stated in no uncertain terms that the investigation should continue to progress in the House, the Senate, the FBI. According to the same poll, only 29 percent of Americans say they approve of Comey s firing, while 38 percent disapprove. Another 32 percent of respondents don t have enough to say on the matter, yet among those who say they have read, seen or heard  a lot  about the firing, 53 percent say they disapprove, versus 33 percent who approve. The poll also showed a partisan split when it comes to the topic of the president s decision, with 58 percent of Republicans approving while 66 percent of Democrats disapprove of the move. One thing that is clear, however, is that very few people surveyed had no opinion at all, with low single-digit responses.As a whole, Trump s approval rating has remained steady at 39 percent since last Tuesday, however, 30 percent of those surveyed claimed that their impression of the president is less favorable since his decision to remove James Comey, while 61 percent say the move hasn t impacted their impression of President Trump whatsoever.Featured image via Drew Angerer/Getty Images\",\n          \"Patrick Henningsen 21st Century WireMuch was made this week in the US media about Michael Flynn s recent guilty plea to making false statements to the FBI, as part of Special Counsel Robert Mueller s never-ending  Russia probe.  Beyond the political window dressing however, there s a much bigger and more profound story lingering in the background. Although court documents show Flynn has admitted to giving false statements in reference to his  reaching out  to Russia s ambassador to the US, Sergey Kislyak   the mere act of initiating contact with any foreign official is neither illegal nor is it a violation of ethics. Putting the current Red Scare aside, this would normally be viewed as standard statecraft for members of any incoming US administration. Even if Flynn had promised the Russian Ambassador, as claimed this week by Resistance leader Rep. Elijah E. Cummings of Maryland, that a Trump government would  rip-up sanctions,  such a promise by Flynn would not be unlawful. Anyone can make a promise, we should point out here that neither Flynn, nor Donald Trump would be in any position to make good on such a promise without the blessing of the US Congress and Senate. Just look at what happened when Trump took office. Were any sanctions lifted?That said, after 18 months of fabricating fake news about Russian hacking, Russian meddling and Russian collusion, it s not surprising that the New York Times would get the Flynn story wrong too, and on an even bigger scale than many of their past made-up stories about Trump scandals. Here we have yet another hand-wringing Resistance writer, Harry Litman, claiming that Flynn s testimony will go down in history next to Watergate and Iran-Contra: The repercussions of the plea will be months in the making, but it s not an exaggeration to say that the events to which Mr. Flynn has agreed to testify will take their place in the history books alongside the Watergate and Iran-contra scandals. He might be right, if only the media coverage and the federal hearing would focus on the correct country with whom the Trump team was colluding, which unfortunately was not Russia. Funny how partisan writer Litman did not even mention the word Israel once in his report. Perhaps this is why certain persons in Washington like Adam Schiff, Chuck Schumer, John McCain and others, along with their corrupt media counterparts like CNN, the Washington Post and the New York Times have been incessantly pushing their fictional  Russia did it  narrative for the last 18 months   because Russiagate serves as a convenient overlay for Israelgate.Mehdi Hassan from The Intercept writes:  Why aren t more members of Congress or the media discussing the Trump transition team s pretty brazen collusion with Israeli Prime Minister Benjamin Netanyahu to undermine both U.S. government policy and international law? Shouldn t that be treated as a major scandal? Thanks to Mueller s ongoing investigation, we now know that prior to President Donald Trump s inauguration, members of his inner circle went to bat on behalf of Israel, and specifically on behalf of illegal Israeli settlements in the occupied Palestinian territories, behind the scenes and in opposition to official U.S. foreign policy. That s the kind of collusion with a foreign state that has gotten a lot of attention with respect to the Kremlin   but colluding with Israel seems to be of far less interest, strangely. Yes, you heard that right. This was at minimum collusion with Israel. But it goes much deeper than that. If this story is accurate, and we have every reason to believe it is (especially by the large silence in the American media, usually a positive indication of media avoidance), this would indicate that the then President-elect s close advisor and son-in-law, Jared Kushner, was clearly acting as a foreign agent   on behalf of the state of Israel. The fact the US media are not taking this story more seriously should serve as a reminder as to how much power the Israeli Lobby wields in the US, not just over politicians, but over mainstream media as well. Granted, this is a very serious charge   which comes with some serious consequences if Kushner would ever be indicted, but the facts clearly demonstrate beyond any reasonable doubt, that then President-elect s son-in-law was using his proximity to the incoming Commander and Chief to execute a series of highly sensitive foreign policy maneuvers at the request of a foreign country.The history of Israeli spying and outright meddling in US affairs is no secret to anyone willing to research it (unofficially a forbidden topic in US mainstream media), but this latest episode with Trump and Kushner is even more disturbing considering this week s controversial East Jerusalem announcement (21WIRE warned about an East Jerusalem provocation 12 months ago).Beyond this, many will argue that the radical fundamentalist Zionist agenda which Kushner is aggressively pursuing on behalf of Tel Aviv is not in the interest of the wider Middle East, nor is it good for America s European partners, and may even contribute to a further destablization of the region   as evidenced by recent violence which has erupted following Trump s provocative move. The result is not necessarily in America s interests, even if it is certainly in Israel s interests.Author Mehdi Hassan continues:Here s what we learned last week when Mueller s team unveiled its plea deal with Trump s former national security adviser, retired Gen. Michael Flynn. In December 2016, the United Nations Security Council was debating a draft resolution that condemned Israeli settlement expansion in the occupied territories as a  flagrant violation under international law  that was  dangerously imperiling the viability  of an independent Palestinian state.The Obama administration had made it clear that the U.S. was planning to abstain on the resolution, while noting that  the settlements have no legal validity  and observing how  the settlement problem has gotten so much worse that it is now putting at risk the   two-state solution.  (Rhetorically, at least, U.S. opposition to Israeli settlements has been a long-standing and bipartisan position for decades: Ronald Reagan called for  a real settlement freeze  in 1982 while George H.W. Bush tried to curb Israeli settlement-building plans by briefly cutting off U.S. loan guarantees to the Jewish state in 1991.)Everyone expected that the upcoming UN vote on illegal Israeli settlements was going to be a divisive issue, but with only weeks before Trump s fast approaching inauguration, Israel had its trojan horse in position. Hassan goes on to explain Tel Aviv s covert mechanism for manipulating the UN vote: On or about December 22, 2016, a very senior member of the Presidential Transition Team directed Flynn to contact officials from foreign governments, including Russia, to learn where each government stood on the resolution and to influence those governments to delay the vote or defeat the resolution,  reads the statement of offense against Flynn, who pleaded guilty to lying to the FBI about his conversations with the Russian ambassador to the U.S.  On or about December 22, 2016, Flynn contacted the Russian Ambassador about the pending vote. Flynn informed the Russian Ambassador about the incoming administration s opposition to the resolution, and requested that Russia vote against or delay the resolution. BFFs: Donald Trump talks to his chief foreign policy advisor, Israeli president Benjamin Netanyahu.So who was this very senior member of Trump s team who sought to execute orders from the office of Israeli President Benjamin Netanyahu? Hassan explains:Who was the  very senior member  of the transition team who  directed  Flynn to do all this? Multiple news outlets have confirmed that it was Jared Kushner, Trump s son-in-law and main point man on the Middle East peace process.  Jared called Flynn and told him you need to get on the phone to every member of the Security Council and tell them to delay the vote,  a Trump transition official revealed to BuzzFeed News on Friday, adding that Kushner told Flynn  this was a top priority for the president. According to BuzzFeed:  After hanging up, Flynn told the entire room [at the Trump transition team HQ] that they d have to start pushing to lobby against the U.N. vote, saying  the president wants this done ASAP.  Flynn s guilty plea, BuzzFeed continued, revealed  for the first time how Trump transition officials solicited Russia s help to head off the UN vote and undermine the Obama administration s policy on Middle East peace before ever setting foot in the White House. Even during the height of the Neocon era, with multiple Israeli loyalists in the cabinet (including some dual passport holders) shaping White House Middle East policy   ultimately into a ditch with Iraq, the level of manipulation wasn t this overt. Trump s decision to reverse successive US administrations  new policy on East Jerusalem is inconceivable, if not for some other x-factor which the PNAC-dominated George W. Bush could not even manage.The facts of the case against Kushner have not been contested, and in fact Kushner has even been gloating out on the speaking circuit, with his doting wife Ivanka proudly advertizing her husband s  accomplishment  on behalf Israel.My husband, Jared Kushner, had a great conversation on the Middle East with Haim Saban today at the Saban Forum. #Saban17https://t.co/BUbGfd1YNr  Ivanka Trump (@IvankaTrump) December 4, 2017 None of this has been contested. In fact, on Sunday, Kushner made a rare public appearance at the Saban Forum in Washington, D.C., to discuss the Trump administration s plans for the Middle East and was welcomed by the forum s sponsor, the Israeli-American billionaire Haim Saban, who said he  personally wanted to thank  Kushner for  taking steps to try and get the United Nations Security Council to not go along with what ended up being an abstention by the U.S.  Kushner s response? The first son-in-law smiled, nodded, and mouthed  thank you  to Saban.Meanwhile, the Israelis have been pretty forthcoming about their own role in all of this, too. On Monday, Ron Dermer, Israel s ambassador to the U.S. and a close friend and ally of Netanyahu, told Politico s Susan Glasser that, in December 2016,  obviously we reached out to [the Trump transition team] in the hope that they would help us,  and  we were hopeful that they would speak  to other governments  in order to prevent this vote from happening. Got that? The Trump transition team   in the form of key Trump advisers Kushner and Flynn   reached out to the Russian government in order to undermine the U.S. government because the Israeli government asked them to. According to these reports, Kushner was using his position in the transition team to act on Israel s behalf   outside of any governmental framework of accountability. If Flynn inadvertently found himself in a Russian trap, it was because Israel and its in-house operative demanded it.If Flynn is guilty of anything, it would be going along with Kushner s Israel First scheme ahead of the United Nations vote. What is odd though, is why the entire US mainstream media is not interested in this part of the story. Even the Never Trump  Resistance  seem to be afraid of taking this narrative on. I guess even the Resistance has its limits. Rather than go for a case where the evidence is sitting right there on a silver salver, instead they will go for the Russian conspiracy theory. Alas, old habits die hard.SEE ALSO: The Genealogy of Trump s U-Turn on PalestineThis series of events is all the more pertinent when considering this week s announcement by President Trump that the US is to recognize Jerusalem as the capital of Israel, and will be moving its embassy from Tel Aviv to East Jerusalem. Many are already calling this  the kiss of death  to the Israel-Palestine peace process. In a predictable succession of events, the Jerusalem provocation was a fait accompli after Trump had announced in October that the US would be withdrawing from support for UNESCO, the UN body which is meant to help maintain the neutrality of Jerusalem as an internationally protected area. The Trump administration justified its resignation from the key UN agency on the grounds that it is  biased against Israel.  But the neutrality of Jerusalem is an essential policy for maintaining peace in a less than ideal situation with Palestine still under a brutal military occupation by an illegitimate and illegal (by international law and successive UN Resolutions) Israeli jackboot.In addition to all this, this past summer the United States announced the establishment of a permanent military installation inside of Israel. What s scary is how many people do not know this has happened.So Trump s  minence grise, the wunderkind, who some people have called the President In-Law, is really Israel s man inside the White House.Landed on his feet:  President In-law  Jared Kushner.So what exactly are Jared Kushner s credentials in international relations and diplomacy that he has been charged with negotiating Middle East affairs for the United States of America? Without sounding too cruel here, it s difficult to find anything to say in his defense. In the end, his only visible qualification is that he s married to the President s daughter, and that s he s  a good friend  of Netanyahu. That s really it.Credit where credit s due though. Aside from marrying into the dynasty, Kushner is also the former owner of a mediocre website, The New York Observer, and has also managed to parlay his family status to help finance a number of high-profile New York City property deals with foreign buyers (no doubt with the help of his father-in-law).Isn t that what Kushner is doing right now   using his inherited clout to help  close friend  Benjamin Netanyahu broker property deals (highly illegal by international law) in the Middle East, only this time with his Uncle Sam acting as the guarantor? It certainly looks that way. The question is, will anyone in the US do anything about it?When this latest episode of hubris by the White House and Israel eventually unravels, the public and the media might then turn on Kushner and Trump, but by then the damage will have already been done.Meanwhile, men like Jake Tapper and Wolf Blitzer will still be chasing those illusive Russian hackers clear into the 2020 election cycle, which is probably a stupid move for the Resistance, but if the last 18 months have taught us anything it s that there isn t much clear thinking going on in that corner of the galaxy.Until then, Netanyahu can feel safe in the knowledge that Israel, not Washington, is currently in control of US foreign policy.One final note to the brave Never-Trump Resistance: if a foreign state actor is blackmailing this President or the White House, it s probably not Russia.*** Author Patrick Henningsen is an American writer and global affairs analyst and founder of independent news and analysis site 21st Century Wire, and is host of the SUNDAY WIRE weekly radio show broadcast globally over the Alternate Current Radio Network (ACR). He has written for a number of international publications and has done extensive on-the-ground reporting of the conflict Syria, Iraq and the Middle East.READ MORE ISRAEL NEWS AT: 21st Century Wire Israel FilesSUPPORT 21WIRE  SUBSCRIBE NOW & BECOME A MEMBER @21WIRE.TV\",\n          \"President Donald Trump, striving to make good on a top campaign promise, is pushing his fellow Republicans who control Congress to pass revamped healthcare legislation but the same intraparty squabbling that torpedoed it last month could do it again. Trump is looking for his first major legislative victory since taking office in January. House of Representatives Republicans are exploring compromises aimed at satisfying the party\\u2019s most conservative members without antagonizing its moderates, but it remained unclear on Friday whether a viable bill would emerge. Trump on Friday played down the need for Congress to act on the legislation before he reaches his 100th day in office next weekend, telling reporters, \\u201cWe\\u2019ll see what happens - no particular rush.\\u201d Trump on Thursday had predicted \\u201ca good chance of getting it soon,\\u201d either \\u201cnext week or shortly thereafter.\\u201d On Friday, he said it \\u201cdoesn\\u2019t matter if it\\u2019s next week.\\u201d Congress, returning from a recess next week, also will be working against the clock to pass legislation to keep the government funded past April 28 and avert a federal shutdown. Healthcare legislation did not appear on the schedule released on Friday by House Republican leaders of bills to be considered next week. \\u201cWe\\u2019re going to get it done when it\\u2019s appropriate in terms of getting to that 216,\\u201d White House spokesman Sean Spicer told reporters, referring to the vote total needed for House passage before the bill goes to the Senate. Trump\\u2019s party cannot afford defections because Democrats remain unified against the Republican quest to repeal and replace the Affordable Care Act, Democratic former President Barack Obama\\u2019s signature domestic policy achievement, dubbed Obamacare. Trump campaigned on a pledge to discard Obamacare. In a stinging setback for Trump, Speaker Paul Ryan pulled the legislation from the House floor on March 24 before allowing it to come to a vote amid a revolt by conservatives in a faction called the House Freedom Caucus and moderates unhappy with concessions to the conservatives. Republicans have called Obamacare a government overreach. The law enabled 20 million Americans to obtain insurance, many through an expansion of the Medicaid program for the poor. A senior House Republican aide said it was not clear whether a revamped Republican plan can attract 216 votes, adding that without a legislative text it was impossible to do a vote count to assess its chances. Moderate Republican Representative Tom MacArthur is pushing a proposal to allow states to waive some Obamacare provisions. MacArthur\\u2019s office said he has discussed it with other Republican lawmakers, the House leadership and the White House. No text has emerged, but an outline of his proposal said states could seek to relax \\u201cessential benefits\\u201d that Obamacare requires insurance plans to cover, such as emergency room trips, maternity and newborn care, and mental health services. States also could request waivers to Obamacare\\u2019s ban on insurers charging sick customers higher premiums than healthy customers. But states would have to establish \\u201chigh-risk pools\\u201d using government funds to help pay for insurance for people with costly medical conditions. Representative Rodney Davis told CNN on Friday he did not know what was in the deal, but added, \\u201cI\\u2019m not going to be for a plan that is going to allow for pre-existing conditions to not be covered.\\u201d MacArthur and Davis are members of the centrist House Republican Tuesday Group. Freedom Caucus member Representative Dave Brat told CNN the new proposal gives states more say healthcare but was the \\u201csame fundamental bill\\u201d that collapsed last month. The Republican plan, as written last month, would end the Medicaid expansion, let states impose work requirements on some Medicaid recipients, rescind a range of Obamacare taxes, get rid of a penalty on people who refuse to obtain insurance, and ditch Obamacare\\u2019s income-based subsidies to help people buy insurance while creating less-generous age-based tax credits. The nonpartisan Congressional Budget Office forecast the earlier version of the plan would increase by 24 million the number of Americans without medical insurance by 2026. During a Thursday conference call with House Democrats, their leader, Nancy Pelosi, urged them to remain united against the Republican legislation, saying it would increase healthcare costs and provide less insurance coverage, an aide who was on the telephone call said.\"\n        ],\n        \"semantic_type\": \"\",\n        \"description\": \"\"\n      }\n    },\n    {\n      \"column\": \"subject\",\n      \"properties\": {\n        \"dtype\": \"category\",\n        \"num_unique_values\": 8,\n        \"samples\": [\n          \"Government News\",\n          \"News\",\n          \"politicsNews\"\n        ],\n        \"semantic_type\": \"\",\n        \"description\": \"\"\n      }\n    },\n    {\n      \"column\": \"date\",\n      \"properties\": {\n        \"dtype\": \"category\",\n        \"num_unique_values\": 2381,\n        \"samples\": [\n          \"Jun 8, 2016\",\n          \"September 25, 2017\",\n          \"May 23, 2017 \"\n        ],\n        \"semantic_type\": \"\",\n        \"description\": \"\"\n      }\n    },\n    {\n      \"column\": \"label\",\n      \"properties\": {\n        \"dtype\": \"number\",\n        \"std\": 0,\n        \"min\": 0,\n        \"max\": 1,\n        \"num_unique_values\": 2,\n        \"samples\": [\n          0,\n          1\n        ],\n        \"semantic_type\": \"\",\n        \"description\": \"\"\n      }\n    }\n  ]\n}"
            }
          },
          "metadata": {},
          "execution_count": 17
        }
      ]
    },
    {
      "cell_type": "code",
      "source": [
        "#find out missing values in dataset\n",
        "news.isnull().sum()"
      ],
      "metadata": {
        "colab": {
          "base_uri": "https://localhost:8080/",
          "height": 272
        },
        "id": "PfQWr389q3OG",
        "outputId": "4e366575-6124-4743-af25-708b5896298b"
      },
      "execution_count": 16,
      "outputs": [
        {
          "output_type": "execute_result",
          "data": {
            "text/plain": [
              "Unnamed: 0    0\n",
              "title         0\n",
              "text          0\n",
              "subject       0\n",
              "date          0\n",
              "label         0\n",
              "dtype: int64"
            ],
            "text/html": [
              "<div>\n",
              "<style scoped>\n",
              "    .dataframe tbody tr th:only-of-type {\n",
              "        vertical-align: middle;\n",
              "    }\n",
              "\n",
              "    .dataframe tbody tr th {\n",
              "        vertical-align: top;\n",
              "    }\n",
              "\n",
              "    .dataframe thead th {\n",
              "        text-align: right;\n",
              "    }\n",
              "</style>\n",
              "<table border=\"1\" class=\"dataframe\">\n",
              "  <thead>\n",
              "    <tr style=\"text-align: right;\">\n",
              "      <th></th>\n",
              "      <th>0</th>\n",
              "    </tr>\n",
              "  </thead>\n",
              "  <tbody>\n",
              "    <tr>\n",
              "      <th>Unnamed: 0</th>\n",
              "      <td>0</td>\n",
              "    </tr>\n",
              "    <tr>\n",
              "      <th>title</th>\n",
              "      <td>0</td>\n",
              "    </tr>\n",
              "    <tr>\n",
              "      <th>text</th>\n",
              "      <td>0</td>\n",
              "    </tr>\n",
              "    <tr>\n",
              "      <th>subject</th>\n",
              "      <td>0</td>\n",
              "    </tr>\n",
              "    <tr>\n",
              "      <th>date</th>\n",
              "      <td>0</td>\n",
              "    </tr>\n",
              "    <tr>\n",
              "      <th>label</th>\n",
              "      <td>0</td>\n",
              "    </tr>\n",
              "  </tbody>\n",
              "</table>\n",
              "</div><br><label><b>dtype:</b> int64</label>"
            ]
          },
          "metadata": {},
          "execution_count": 16
        }
      ]
    },
    {
      "cell_type": "code",
      "source": [
        "#renaming a column in dataset to uniquely identify eash item\n",
        "news = news.rename(columns={'Unnamed: 0' : 'id'})"
      ],
      "metadata": {
        "id": "eFq13NiIrlt2"
      },
      "execution_count": 30,
      "outputs": []
    },
    {
      "cell_type": "code",
      "source": [
        "#removing the previous values in 'label' column\n",
        "news = news.drop('label', axis=1)"
      ],
      "metadata": {
        "id": "7UL7pe8qw9o-"
      },
      "execution_count": 28,
      "outputs": []
    },
    {
      "cell_type": "markdown",
      "source": [
        "**Lemmatization**\n",
        "\n",
        "Lemmatization helps to reduce dimensionality esp as we are using logistic regression\n",
        "\n",
        "Unlike stemming, it reduces the words too its base form only after considering the words' contexts"
      ],
      "metadata": {
        "id": "TTeno-CIz0FG"
      }
    },
    {
      "cell_type": "code",
      "source": [
        "lemma = WordNetLemmatizer()"
      ],
      "metadata": {
        "id": "kzu49qRJxSIG"
      },
      "execution_count": 33,
      "outputs": []
    },
    {
      "cell_type": "code",
      "source": [
        "def lemmatization(content):\n",
        "    lemmatizer = WordNetLemmatizer()\n",
        "    # Remove all non-alphabetic characters & convert to lowercase\n",
        "    lemmatized_content = re.sub('[^a-zA-Z]', ' ', content)\n",
        "    lemmatized_content = lemmatized_content.lower()\n",
        "    # Split the content into words\n",
        "    lemmatized_content = lemmatized_content.split()\n",
        "    # Remove stopwords and apply lemmatization\n",
        "    lemmatized_content = [lemmatizer.lemmatize(word) for word in lemmatized_content if word not in stopwords.words('english')]\n",
        "    # Join the words back into a single string\n",
        "    lemmatized_content = ' '.join(lemmatized_content)\n",
        "    return lemmatized_content\n"
      ],
      "metadata": {
        "id": "0FeKer4R0v9M"
      },
      "execution_count": 35,
      "outputs": []
    },
    {
      "cell_type": "code",
      "source": [
        "nltk.download('wordnet')\n",
        "news['title'] = news['title'].apply(lemmatization)\n",
        "news['text'] = news['text'].apply(lemmatization)"
      ],
      "metadata": {
        "colab": {
          "base_uri": "https://localhost:8080/"
        },
        "id": "ocPBgkxc3pZW",
        "outputId": "73b2b0c2-b137-4411-9cdd-36b365a2ac24"
      },
      "execution_count": 37,
      "outputs": [
        {
          "output_type": "stream",
          "name": "stderr",
          "text": [
            "[nltk_data] Downloading package wordnet to /root/nltk_data...\n"
          ]
        }
      ]
    },
    {
      "cell_type": "code",
      "source": [],
      "metadata": {
        "id": "YFCk8ZrgDrtb"
      },
      "execution_count": null,
      "outputs": []
    }
  ]
}