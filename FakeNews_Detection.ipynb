{
  "nbformat": 4,
  "nbformat_minor": 0,
  "metadata": {
    "colab": {
      "provenance": [],
      "mount_file_id": "144Cacp8_1_zba6dOB-9xJAzr7OfkSmq4",
      "authorship_tag": "ABX9TyMsKOH2zcDFkt6nWSIliX5G",
      "include_colab_link": true
    },
    "kernelspec": {
      "name": "python3",
      "display_name": "Python 3"
    },
    "language_info": {
      "name": "python"
    }
  },
  "cells": [
    {
      "cell_type": "markdown",
      "metadata": {
        "id": "view-in-github",
        "colab_type": "text"
      },
      "source": [
        "<a href=\"https://colab.research.google.com/github/yellowflickerbeat/FakeNews_Detection/blob/main/FakeNews_Detection.ipynb\" target=\"_parent\"><img src=\"https://colab.research.google.com/assets/colab-badge.svg\" alt=\"Open In Colab\"/></a>"
      ]
    },
    {
      "cell_type": "code",
      "execution_count": null,
      "metadata": {
        "id": "4eyD9Ansihlo"
      },
      "outputs": [],
      "source": [
        "import numpy as np\n",
        "import pandas as pd\n",
        "import re\n",
        "from nltk.corpus import stopwords\n",
        "#stopwords removes all the repetative words which don't substance to the text\n",
        "from nltk.stem import WordNetLemmatizer\n",
        "from nltk.corpus import wordnet\n",
        "#WordNetLemmatizer converts words into their roots considering its context\n",
        "from sklearn.feature_extraction.text import TfidfVectorizer\n",
        "#TfidfVectorizer measures importance of diff words\n",
        "from sklearn.model_selection import train_test_split\n",
        "#splits data into test and train\n",
        "from sklearn.linear_model import LogisticRegression\n",
        "from sklearn.metrics import accuracy_score"
      ]
    },
    {
      "cell_type": "code",
      "source": [
        "import nltk\n",
        "nltk.download('stopwords')"
      ],
      "metadata": {
        "colab": {
          "base_uri": "https://localhost:8080/"
        },
        "id": "-MgCHoPckbh4",
        "outputId": "96a4a617-4ae3-4f96-8e85-412ad5a050ef"
      },
      "execution_count": null,
      "outputs": [
        {
          "output_type": "stream",
          "name": "stderr",
          "text": [
            "[nltk_data] Downloading package stopwords to /root/nltk_data...\n",
            "[nltk_data]   Unzipping corpora/stopwords.zip.\n"
          ]
        },
        {
          "output_type": "execute_result",
          "data": {
            "text/plain": [
              "True"
            ]
          },
          "metadata": {},
          "execution_count": 2
        }
      ]
    },
    {
      "cell_type": "code",
      "source": [
        "print(stopwords.words('english'))\n",
        "#examples of all stopwords"
      ],
      "metadata": {
        "colab": {
          "base_uri": "https://localhost:8080/"
        },
        "id": "RJsrsIlBnJt3",
        "outputId": "6b4bc619-ec5a-4282-c655-34579ad6cf1e"
      },
      "execution_count": null,
      "outputs": [
        {
          "output_type": "stream",
          "name": "stdout",
          "text": [
            "['i', 'me', 'my', 'myself', 'we', 'our', 'ours', 'ourselves', 'you', \"you're\", \"you've\", \"you'll\", \"you'd\", 'your', 'yours', 'yourself', 'yourselves', 'he', 'him', 'his', 'himself', 'she', \"she's\", 'her', 'hers', 'herself', 'it', \"it's\", 'its', 'itself', 'they', 'them', 'their', 'theirs', 'themselves', 'what', 'which', 'who', 'whom', 'this', 'that', \"that'll\", 'these', 'those', 'am', 'is', 'are', 'was', 'were', 'be', 'been', 'being', 'have', 'has', 'had', 'having', 'do', 'does', 'did', 'doing', 'a', 'an', 'the', 'and', 'but', 'if', 'or', 'because', 'as', 'until', 'while', 'of', 'at', 'by', 'for', 'with', 'about', 'against', 'between', 'into', 'through', 'during', 'before', 'after', 'above', 'below', 'to', 'from', 'up', 'down', 'in', 'out', 'on', 'off', 'over', 'under', 'again', 'further', 'then', 'once', 'here', 'there', 'when', 'where', 'why', 'how', 'all', 'any', 'both', 'each', 'few', 'more', 'most', 'other', 'some', 'such', 'no', 'nor', 'not', 'only', 'own', 'same', 'so', 'than', 'too', 'very', 's', 't', 'can', 'will', 'just', 'don', \"don't\", 'should', \"should've\", 'now', 'd', 'll', 'm', 'o', 're', 've', 'y', 'ain', 'aren', \"aren't\", 'couldn', \"couldn't\", 'didn', \"didn't\", 'doesn', \"doesn't\", 'hadn', \"hadn't\", 'hasn', \"hasn't\", 'haven', \"haven't\", 'isn', \"isn't\", 'ma', 'mightn', \"mightn't\", 'mustn', \"mustn't\", 'needn', \"needn't\", 'shan', \"shan't\", 'shouldn', \"shouldn't\", 'wasn', \"wasn't\", 'weren', \"weren't\", 'won', \"won't\", 'wouldn', \"wouldn't\"]\n"
          ]
        }
      ]
    },
    {
      "cell_type": "markdown",
      "source": [
        "Data Pre-Processing"
      ],
      "metadata": {
        "id": "r9ntzEeapEFm"
      }
    },
    {
      "cell_type": "code",
      "source": [
        "#mounting the mandatory datasets\n",
        "news = pd.read_table('/content/train.tsv')"
      ],
      "metadata": {
        "id": "H2jcRFENpabO"
      },
      "execution_count": null,
      "outputs": []
    },
    {
      "cell_type": "code",
      "source": [
        "news.shape\n",
        "#getting to know the contents' size"
      ],
      "metadata": {
        "colab": {
          "base_uri": "https://localhost:8080/"
        },
        "id": "-gHOydr_qWN-",
        "outputId": "5cd3becc-0013-45b1-f539-6265ba7fd848"
      },
      "execution_count": null,
      "outputs": [
        {
          "output_type": "execute_result",
          "data": {
            "text/plain": [
              "(4087, 6)"
            ]
          },
          "metadata": {},
          "execution_count": 6
        }
      ]
    },
    {
      "cell_type": "code",
      "source": [
        "#printing the first 10 rows and columns\n",
        "news = news.rename(columns={'Unnamed:0' : 'id'})\n",
        "news.head(10)"
      ],
      "metadata": {
        "colab": {
          "base_uri": "https://localhost:8080/",
          "height": 641
        },
        "id": "qoR_aj0nqjmO",
        "outputId": "c2f62fdd-7cd5-4c9f-878a-82a488114c81"
      },
      "execution_count": null,
      "outputs": [
        {
          "output_type": "execute_result",
          "data": {
            "text/plain": [
              "   Unnamed: 0                                              title  \\\n",
              "0        2619  Ex-CIA head says Trump remarks on Russia inter...   \n",
              "1       16043  YOU WON’T BELIEVE HIS PUNISHMENT! HISPANIC STO...   \n",
              "2         876  Federal Reserve governor Powell's policy views...   \n",
              "3       19963  SCOUNDREL HILLARY SUPPORTER STARTS “TrumpLeaks...   \n",
              "4       10783  NANCY PELOSI ARROGANTLY DISMISSES Questions on...   \n",
              "5       18522  EU's Tusk appealed to Rajoy to avoid escalatio...   \n",
              "6         270  Country Guitarist Who Survived Vegas Shooting ...   \n",
              "7        7628  Clinton says 'there is no case here' in FBI em...   \n",
              "8        9599  ABC NEWS REPORTS: Las Vegas Massacre Suspect’s...   \n",
              "9       11234  BONKERS BERNIE SANDERS: Prioritizing Jobs Over...   \n",
              "\n",
              "                                                text          subject  \\\n",
              "0  Former CIA director John Brennan on Friday cri...     politicsNews   \n",
              "1  How did this man come to OWN this store? There...  Government News   \n",
              "2  President Donald Trump on Thursday tapped Fede...     politicsNews   \n",
              "3  Hillary Clinton ally David Brock is offering t...        left-news   \n",
              "4  Pleading ignorance is a perfect ploy for Nancy...         politics   \n",
              "5  European Council President Donald Tusk appeale...        worldnews   \n",
              "6  Caleb Keeter, a lifelong proponent of the Seco...             News   \n",
              "7  Democratic presidential candidate Hillary Clin...     politicsNews   \n",
              "8  The investigation into the Las Vegas massacre ...         politics   \n",
              "9  https://www.youtube.com/watch?v=GPqQIlWksbgVer...         politics   \n",
              "\n",
              "                date  label  \n",
              "0     July 22, 2017     1.0  \n",
              "1       Jun 19, 2017    0.0  \n",
              "2  November 2, 2017     1.0  \n",
              "3       Sep 17, 2016    0.0  \n",
              "4       May 26, 2017    0.0  \n",
              "5   October 2, 2017     1.0  \n",
              "6    October 2, 2017    0.0  \n",
              "7  October 31, 2016     1.0  \n",
              "8       Oct 25, 2017    0.0  \n",
              "9        Apr 1, 2017    0.0  "
            ],
            "text/html": [
              "\n",
              "  <div id=\"df-20a05f1e-1a4e-43aa-bc0a-14a3ab0dbd8d\" class=\"colab-df-container\">\n",
              "    <div>\n",
              "<style scoped>\n",
              "    .dataframe tbody tr th:only-of-type {\n",
              "        vertical-align: middle;\n",
              "    }\n",
              "\n",
              "    .dataframe tbody tr th {\n",
              "        vertical-align: top;\n",
              "    }\n",
              "\n",
              "    .dataframe thead th {\n",
              "        text-align: right;\n",
              "    }\n",
              "</style>\n",
              "<table border=\"1\" class=\"dataframe\">\n",
              "  <thead>\n",
              "    <tr style=\"text-align: right;\">\n",
              "      <th></th>\n",
              "      <th>Unnamed: 0</th>\n",
              "      <th>title</th>\n",
              "      <th>text</th>\n",
              "      <th>subject</th>\n",
              "      <th>date</th>\n",
              "      <th>label</th>\n",
              "    </tr>\n",
              "  </thead>\n",
              "  <tbody>\n",
              "    <tr>\n",
              "      <th>0</th>\n",
              "      <td>2619</td>\n",
              "      <td>Ex-CIA head says Trump remarks on Russia inter...</td>\n",
              "      <td>Former CIA director John Brennan on Friday cri...</td>\n",
              "      <td>politicsNews</td>\n",
              "      <td>July 22, 2017</td>\n",
              "      <td>1.0</td>\n",
              "    </tr>\n",
              "    <tr>\n",
              "      <th>1</th>\n",
              "      <td>16043</td>\n",
              "      <td>YOU WON’T BELIEVE HIS PUNISHMENT! HISPANIC STO...</td>\n",
              "      <td>How did this man come to OWN this store? There...</td>\n",
              "      <td>Government News</td>\n",
              "      <td>Jun 19, 2017</td>\n",
              "      <td>0.0</td>\n",
              "    </tr>\n",
              "    <tr>\n",
              "      <th>2</th>\n",
              "      <td>876</td>\n",
              "      <td>Federal Reserve governor Powell's policy views...</td>\n",
              "      <td>President Donald Trump on Thursday tapped Fede...</td>\n",
              "      <td>politicsNews</td>\n",
              "      <td>November 2, 2017</td>\n",
              "      <td>1.0</td>\n",
              "    </tr>\n",
              "    <tr>\n",
              "      <th>3</th>\n",
              "      <td>19963</td>\n",
              "      <td>SCOUNDREL HILLARY SUPPORTER STARTS “TrumpLeaks...</td>\n",
              "      <td>Hillary Clinton ally David Brock is offering t...</td>\n",
              "      <td>left-news</td>\n",
              "      <td>Sep 17, 2016</td>\n",
              "      <td>0.0</td>\n",
              "    </tr>\n",
              "    <tr>\n",
              "      <th>4</th>\n",
              "      <td>10783</td>\n",
              "      <td>NANCY PELOSI ARROGANTLY DISMISSES Questions on...</td>\n",
              "      <td>Pleading ignorance is a perfect ploy for Nancy...</td>\n",
              "      <td>politics</td>\n",
              "      <td>May 26, 2017</td>\n",
              "      <td>0.0</td>\n",
              "    </tr>\n",
              "    <tr>\n",
              "      <th>5</th>\n",
              "      <td>18522</td>\n",
              "      <td>EU's Tusk appealed to Rajoy to avoid escalatio...</td>\n",
              "      <td>European Council President Donald Tusk appeale...</td>\n",
              "      <td>worldnews</td>\n",
              "      <td>October 2, 2017</td>\n",
              "      <td>1.0</td>\n",
              "    </tr>\n",
              "    <tr>\n",
              "      <th>6</th>\n",
              "      <td>270</td>\n",
              "      <td>Country Guitarist Who Survived Vegas Shooting ...</td>\n",
              "      <td>Caleb Keeter, a lifelong proponent of the Seco...</td>\n",
              "      <td>News</td>\n",
              "      <td>October 2, 2017</td>\n",
              "      <td>0.0</td>\n",
              "    </tr>\n",
              "    <tr>\n",
              "      <th>7</th>\n",
              "      <td>7628</td>\n",
              "      <td>Clinton says 'there is no case here' in FBI em...</td>\n",
              "      <td>Democratic presidential candidate Hillary Clin...</td>\n",
              "      <td>politicsNews</td>\n",
              "      <td>October 31, 2016</td>\n",
              "      <td>1.0</td>\n",
              "    </tr>\n",
              "    <tr>\n",
              "      <th>8</th>\n",
              "      <td>9599</td>\n",
              "      <td>ABC NEWS REPORTS: Las Vegas Massacre Suspect’s...</td>\n",
              "      <td>The investigation into the Las Vegas massacre ...</td>\n",
              "      <td>politics</td>\n",
              "      <td>Oct 25, 2017</td>\n",
              "      <td>0.0</td>\n",
              "    </tr>\n",
              "    <tr>\n",
              "      <th>9</th>\n",
              "      <td>11234</td>\n",
              "      <td>BONKERS BERNIE SANDERS: Prioritizing Jobs Over...</td>\n",
              "      <td>https://www.youtube.com/watch?v=GPqQIlWksbgVer...</td>\n",
              "      <td>politics</td>\n",
              "      <td>Apr 1, 2017</td>\n",
              "      <td>0.0</td>\n",
              "    </tr>\n",
              "  </tbody>\n",
              "</table>\n",
              "</div>\n",
              "    <div class=\"colab-df-buttons\">\n",
              "\n",
              "  <div class=\"colab-df-container\">\n",
              "    <button class=\"colab-df-convert\" onclick=\"convertToInteractive('df-20a05f1e-1a4e-43aa-bc0a-14a3ab0dbd8d')\"\n",
              "            title=\"Convert this dataframe to an interactive table.\"\n",
              "            style=\"display:none;\">\n",
              "\n",
              "  <svg xmlns=\"http://www.w3.org/2000/svg\" height=\"24px\" viewBox=\"0 -960 960 960\">\n",
              "    <path d=\"M120-120v-720h720v720H120Zm60-500h600v-160H180v160Zm220 220h160v-160H400v160Zm0 220h160v-160H400v160ZM180-400h160v-160H180v160Zm440 0h160v-160H620v160ZM180-180h160v-160H180v160Zm440 0h160v-160H620v160Z\"/>\n",
              "  </svg>\n",
              "    </button>\n",
              "\n",
              "  <style>\n",
              "    .colab-df-container {\n",
              "      display:flex;\n",
              "      gap: 12px;\n",
              "    }\n",
              "\n",
              "    .colab-df-convert {\n",
              "      background-color: #E8F0FE;\n",
              "      border: none;\n",
              "      border-radius: 50%;\n",
              "      cursor: pointer;\n",
              "      display: none;\n",
              "      fill: #1967D2;\n",
              "      height: 32px;\n",
              "      padding: 0 0 0 0;\n",
              "      width: 32px;\n",
              "    }\n",
              "\n",
              "    .colab-df-convert:hover {\n",
              "      background-color: #E2EBFA;\n",
              "      box-shadow: 0px 1px 2px rgba(60, 64, 67, 0.3), 0px 1px 3px 1px rgba(60, 64, 67, 0.15);\n",
              "      fill: #174EA6;\n",
              "    }\n",
              "\n",
              "    .colab-df-buttons div {\n",
              "      margin-bottom: 4px;\n",
              "    }\n",
              "\n",
              "    [theme=dark] .colab-df-convert {\n",
              "      background-color: #3B4455;\n",
              "      fill: #D2E3FC;\n",
              "    }\n",
              "\n",
              "    [theme=dark] .colab-df-convert:hover {\n",
              "      background-color: #434B5C;\n",
              "      box-shadow: 0px 1px 3px 1px rgba(0, 0, 0, 0.15);\n",
              "      filter: drop-shadow(0px 1px 2px rgba(0, 0, 0, 0.3));\n",
              "      fill: #FFFFFF;\n",
              "    }\n",
              "  </style>\n",
              "\n",
              "    <script>\n",
              "      const buttonEl =\n",
              "        document.querySelector('#df-20a05f1e-1a4e-43aa-bc0a-14a3ab0dbd8d button.colab-df-convert');\n",
              "      buttonEl.style.display =\n",
              "        google.colab.kernel.accessAllowed ? 'block' : 'none';\n",
              "\n",
              "      async function convertToInteractive(key) {\n",
              "        const element = document.querySelector('#df-20a05f1e-1a4e-43aa-bc0a-14a3ab0dbd8d');\n",
              "        const dataTable =\n",
              "          await google.colab.kernel.invokeFunction('convertToInteractive',\n",
              "                                                    [key], {});\n",
              "        if (!dataTable) return;\n",
              "\n",
              "        const docLinkHtml = 'Like what you see? Visit the ' +\n",
              "          '<a target=\"_blank\" href=https://colab.research.google.com/notebooks/data_table.ipynb>data table notebook</a>'\n",
              "          + ' to learn more about interactive tables.';\n",
              "        element.innerHTML = '';\n",
              "        dataTable['output_type'] = 'display_data';\n",
              "        await google.colab.output.renderOutput(dataTable, element);\n",
              "        const docLink = document.createElement('div');\n",
              "        docLink.innerHTML = docLinkHtml;\n",
              "        element.appendChild(docLink);\n",
              "      }\n",
              "    </script>\n",
              "  </div>\n",
              "\n",
              "\n",
              "<div id=\"df-116e7278-eed2-40ea-b7e4-b4b2cd487fd1\">\n",
              "  <button class=\"colab-df-quickchart\" onclick=\"quickchart('df-116e7278-eed2-40ea-b7e4-b4b2cd487fd1')\"\n",
              "            title=\"Suggest charts\"\n",
              "            style=\"display:none;\">\n",
              "\n",
              "<svg xmlns=\"http://www.w3.org/2000/svg\" height=\"24px\"viewBox=\"0 0 24 24\"\n",
              "     width=\"24px\">\n",
              "    <g>\n",
              "        <path d=\"M19 3H5c-1.1 0-2 .9-2 2v14c0 1.1.9 2 2 2h14c1.1 0 2-.9 2-2V5c0-1.1-.9-2-2-2zM9 17H7v-7h2v7zm4 0h-2V7h2v10zm4 0h-2v-4h2v4z\"/>\n",
              "    </g>\n",
              "</svg>\n",
              "  </button>\n",
              "\n",
              "<style>\n",
              "  .colab-df-quickchart {\n",
              "      --bg-color: #E8F0FE;\n",
              "      --fill-color: #1967D2;\n",
              "      --hover-bg-color: #E2EBFA;\n",
              "      --hover-fill-color: #174EA6;\n",
              "      --disabled-fill-color: #AAA;\n",
              "      --disabled-bg-color: #DDD;\n",
              "  }\n",
              "\n",
              "  [theme=dark] .colab-df-quickchart {\n",
              "      --bg-color: #3B4455;\n",
              "      --fill-color: #D2E3FC;\n",
              "      --hover-bg-color: #434B5C;\n",
              "      --hover-fill-color: #FFFFFF;\n",
              "      --disabled-bg-color: #3B4455;\n",
              "      --disabled-fill-color: #666;\n",
              "  }\n",
              "\n",
              "  .colab-df-quickchart {\n",
              "    background-color: var(--bg-color);\n",
              "    border: none;\n",
              "    border-radius: 50%;\n",
              "    cursor: pointer;\n",
              "    display: none;\n",
              "    fill: var(--fill-color);\n",
              "    height: 32px;\n",
              "    padding: 0;\n",
              "    width: 32px;\n",
              "  }\n",
              "\n",
              "  .colab-df-quickchart:hover {\n",
              "    background-color: var(--hover-bg-color);\n",
              "    box-shadow: 0 1px 2px rgba(60, 64, 67, 0.3), 0 1px 3px 1px rgba(60, 64, 67, 0.15);\n",
              "    fill: var(--button-hover-fill-color);\n",
              "  }\n",
              "\n",
              "  .colab-df-quickchart-complete:disabled,\n",
              "  .colab-df-quickchart-complete:disabled:hover {\n",
              "    background-color: var(--disabled-bg-color);\n",
              "    fill: var(--disabled-fill-color);\n",
              "    box-shadow: none;\n",
              "  }\n",
              "\n",
              "  .colab-df-spinner {\n",
              "    border: 2px solid var(--fill-color);\n",
              "    border-color: transparent;\n",
              "    border-bottom-color: var(--fill-color);\n",
              "    animation:\n",
              "      spin 1s steps(1) infinite;\n",
              "  }\n",
              "\n",
              "  @keyframes spin {\n",
              "    0% {\n",
              "      border-color: transparent;\n",
              "      border-bottom-color: var(--fill-color);\n",
              "      border-left-color: var(--fill-color);\n",
              "    }\n",
              "    20% {\n",
              "      border-color: transparent;\n",
              "      border-left-color: var(--fill-color);\n",
              "      border-top-color: var(--fill-color);\n",
              "    }\n",
              "    30% {\n",
              "      border-color: transparent;\n",
              "      border-left-color: var(--fill-color);\n",
              "      border-top-color: var(--fill-color);\n",
              "      border-right-color: var(--fill-color);\n",
              "    }\n",
              "    40% {\n",
              "      border-color: transparent;\n",
              "      border-right-color: var(--fill-color);\n",
              "      border-top-color: var(--fill-color);\n",
              "    }\n",
              "    60% {\n",
              "      border-color: transparent;\n",
              "      border-right-color: var(--fill-color);\n",
              "    }\n",
              "    80% {\n",
              "      border-color: transparent;\n",
              "      border-right-color: var(--fill-color);\n",
              "      border-bottom-color: var(--fill-color);\n",
              "    }\n",
              "    90% {\n",
              "      border-color: transparent;\n",
              "      border-bottom-color: var(--fill-color);\n",
              "    }\n",
              "  }\n",
              "</style>\n",
              "\n",
              "  <script>\n",
              "    async function quickchart(key) {\n",
              "      const quickchartButtonEl =\n",
              "        document.querySelector('#' + key + ' button');\n",
              "      quickchartButtonEl.disabled = true;  // To prevent multiple clicks.\n",
              "      quickchartButtonEl.classList.add('colab-df-spinner');\n",
              "      try {\n",
              "        const charts = await google.colab.kernel.invokeFunction(\n",
              "            'suggestCharts', [key], {});\n",
              "      } catch (error) {\n",
              "        console.error('Error during call to suggestCharts:', error);\n",
              "      }\n",
              "      quickchartButtonEl.classList.remove('colab-df-spinner');\n",
              "      quickchartButtonEl.classList.add('colab-df-quickchart-complete');\n",
              "    }\n",
              "    (() => {\n",
              "      let quickchartButtonEl =\n",
              "        document.querySelector('#df-116e7278-eed2-40ea-b7e4-b4b2cd487fd1 button');\n",
              "      quickchartButtonEl.style.display =\n",
              "        google.colab.kernel.accessAllowed ? 'block' : 'none';\n",
              "    })();\n",
              "  </script>\n",
              "</div>\n",
              "\n",
              "    </div>\n",
              "  </div>\n"
            ],
            "application/vnd.google.colaboratory.intrinsic+json": {
              "type": "dataframe",
              "variable_name": "news",
              "summary": "{\n  \"name\": \"news\",\n  \"rows\": 4087,\n  \"fields\": [\n    {\n      \"column\": \"Unnamed: 0\",\n      \"properties\": {\n        \"dtype\": \"number\",\n        \"std\": 6512,\n        \"min\": 2,\n        \"max\": 23464,\n        \"num_unique_values\": 3916,\n        \"samples\": [\n          15882,\n          6545,\n          13453\n        ],\n        \"semantic_type\": \"\",\n        \"description\": \"\"\n      }\n    },\n    {\n      \"column\": \"title\",\n      \"properties\": {\n        \"dtype\": \"string\",\n        \"num_unique_values\": 4026,\n        \"samples\": [\n          \"EPA actions in Flint water crisis to be examined: White House\",\n          \"Group ends effort to draft House Speaker Ryan into election\",\n          \"SOLDIER: \\u2018Here\\u2019s Why Trump\\u2019s Transgender Military Ban Makes Sense\\u2019\"\n        ],\n        \"semantic_type\": \"\",\n        \"description\": \"\"\n      }\n    },\n    {\n      \"column\": \"text\",\n      \"properties\": {\n        \"dtype\": \"string\",\n        \"num_unique_values\": 4025,\n        \"samples\": [\n          \"Congolese army commanders orchestrated a wave of massacres that killed hundreds of people between 2014-2016 as they vied for influence with anti-government insurgents in northeastern Democratic Republic of Congo, a new report said on Monday.   The report by the Congo Research Group (CRG) at New York University is the most comprehensive to date on the killings of more than 800 people and the first to offer a definite theory of the perpetrators  motives. It is based on 249 interviews with perpetrators, eyewitnesses and victims as well as internal U.N. reports and arrest records that document participation in the killings.  Millions died in eastern Congo between 1996-2003 in regional conflicts and dozens of militia groups continue to operate there. But the massacres around the town of Beni were the most macabre and mysterious in recent memory.  CRG cited multiple witnesses saying that army commanders, including the former top general in the zone, supported and in some cases organized the killings. During some massacres, sources told CRG, soldiers secured the perimeter so that victims could not escape.  Congo government spokesman Lambert Mende said a number of high-ranking officers had been convicted for their roles in the massacres but criticized CRG for  trying to revive an old affair . The general named in the report, Muhindo Akili Mundos, has repeatedly denied any personal responsibility. The report recommends a parliamentary investigation and U.N Security Council sanctions against individuals involved in the violence around Beni. Several senior Congolese militia leaders, including a former vice president in a power-sharing government, have been convicted by the International Criminal Court in The Hague for crimes committed during wars in Congo and in neighboring Central African Republic. According to the report, the first massacres were orchestrated in 2013 by former leaders of the Popular Congolese Army (APC), the armed wing of a rebellion from Congo s 1998-2003 war, who were trying to prepare a new insurrection and undermine confidence in the central government. These rebels often worked in collaboration with militiamen from the Allied Democratic Forces, a Ugandan Islamist group active in the area. Congo s government and U.N. peacekeeping missions blamed almost all the killings on the ADF. However, when the large-scale massacres began - one of which claimed as many as 200 lives - in October 2014, army commanders in the zone co-opted many of the networks of local militia in an effort to weaken their rivals, the report said.   Government forces discovered pre-existing plans for killings and responded by co-opting these groups and continuing the massacres,  it said.   For these officers, controlling the armed groups in the region was more important - and perhaps more feasible - than bringing an end to the violence.  The new report did not take a position on whether local commanders received orders to conduct the massacres from Congo s central government but said  it would have been difficult for Kinshasa to be unaware of their undertakings . Large-scale killings around Beni have mostly abated this year but Congolese and U.N. forces continue to clash with rebel groups in the area. One Tanzanian peacekeeper was killed and another wounded on Sunday in combat with a local militia, a U.N. mission spokesman told Reuters.  Meanwhile, violence has otherwise surged across Congo, fueled in part by President Joseph Kabila s refusal to step down when his mandate expired last December. CRG is a non-profit body directed by Jason Stearns, a former U.N. investigator in Congo and author of a book about Congo s civil wars.\",\n          \"Big brother is alive and well 3 months only 3 months In Obamaland surveillance on Muslim terror suspects is considered Islamaphobia, surveillance on Black Lives Matter riots is considered racism, but surveillance on law-abiding gun owners is an important crime-fighting tool. It turns out that federal agents have been spying on customers at guns shows and tracking their movements. Why? Because the current administration is hostile to legal gun ownership and completely inept.The Wall Street Journal originally broke this story but they have a stupid business model and put the article behind a pay wall. Thankfully there is this thing called the Internet where all information is available for free and Fox News has the scoop:The first problem you may notice in this illegal surveillance is how insanely pointless the operation is. There was no way this would ever yield any results if you understand California gun law. The Golden State does not have the  gun show loophole  that liberals love to blame for all crimes involving a gun. Even at a gun show, a person purchasing a firearm must undergo a background check and wait 10 before taking possession of the weapon.All gun transfers in California go through a federally licensed firearms dealer with no exceptions. Handgun purchases are limited to one every 30 days and require additional licensing. The state maintains a firearms registry. This is the last place in America where a person would try to make a straw purchase. Even less so for someone trying to buy guns, smuggle them into Mexico, and arm the drug cartels.On top of all that, California also bans many popular handguns and all  assault rifles.  Do the feds really think there is a vibrant black market in Mexico for California-compliant weapons? Apparently so.And despite the feds  claim, this was completely illegal it is most certainly not. The government can t just start spying on Americans without probable cause that a crime is being committed. The feds went fishing here and they forgot to bring bait, rods, and reels. They also didn t pick a spot with any fish.If the feds want to know how guns are getting from the US to Mexico they should go ask former Attorney General Eric Holder who green-lit Operation Fast and Furious. In that, the BATF let guns  go walking  from US gun stores right into the hands of the Mexican drug cartels. One of those guns was used to kill a US border patrol agent. Via: Downtrend\",\n          \"It s interesting to note the terrorist organization linked to this mosque (and funded with our taxpayer dollars), is same terror group Obama and the Democrats supported during the Arab Spring uprising in Egypt A Kansas City mosque owned by an Islamic umbrella organization with deep ties to the U.S. arm of the Muslim Brotherhood has received millions of dollars in federal grants over the past several years, according to a federal spending database.The Islamic Center of Greater Kansas City has received $2,739,891 from the Department of Agriculture since 2010, a Daily Caller analysis has found. The money largely went to the mosque s Crescent Clinic to provide services through the Women, Infant and Children nutrition program, known as WIC.The most recent federal payment   in the amount of $327,436   was handed out Oct. 1. Property records show the mosque is owned by the North American Islamic Trust (NAIT), which acts as a financial holding company for Islamic organizations. It offers sharia-compliant financial products to Muslim investors, operates Islamic schools and owns more than 300 other mosques throughout the U.S.Founded in 1973 as an offshoot of the Muslim Brotherhood-backed Muslim Students Association, NAIT s most controversial connection is to the 2007 and 2008 Holy Land Foundation terror financing cases. Along with other Muslim Brotherhood-linked organizations like the Islamic Society of North America (ISNA) and the Council on American-Islamic Relations (CAIR), NAIT was named a co-conspirator in the federal case but was not indicted.At the Holy Land Foundation trial, evidence was presented that ISNA diverted funds from the accounts it held with NAIT to institutions linked to Hamas and to Mousa Abu Marzook, a senior Hamas leader.Federal prosecutors introduced evidence in the case that  established that ISNA and NAIT were among those organizations created by the U.S.-Muslim Brotherhood.  Hundreds of thousands of dollars worth of checks drawn from ISNA s account and deposited in the Holy Land Foundation s account with NAIT were made payable to  the Palestinian Mujahadeen,  which is the original name for Hamas  military wing.While Hamas was designated as a foreign terrorist organization by the U.S. government in 1997 and is considered the Palestinian branch of the Muslim Brotherhood, the larger Muslim Brotherhood is not itself designated as a terrorist group.And while the Obama administration has largely remained agnostic towards the organization, the British government released a scathing report earlier this month noting that the Muslim Brotherhood remains supportive of Hamas and that much of its ideology and many of its tactics  are contrary to our values and have been contrary to our national interests and our national security. Via: Daily Caller\"\n        ],\n        \"semantic_type\": \"\",\n        \"description\": \"\"\n      }\n    },\n    {\n      \"column\": \"subject\",\n      \"properties\": {\n        \"dtype\": \"category\",\n        \"num_unique_values\": 8,\n        \"samples\": [\n          \"Government News\",\n          \"News\",\n          \"politicsNews\"\n        ],\n        \"semantic_type\": \"\",\n        \"description\": \"\"\n      }\n    },\n    {\n      \"column\": \"date\",\n      \"properties\": {\n        \"dtype\": \"category\",\n        \"num_unique_values\": 1672,\n        \"samples\": [\n          \"March 23, 2016\",\n          \"April 13, 2016\",\n          \"December 10, 2017 \"\n        ],\n        \"semantic_type\": \"\",\n        \"description\": \"\"\n      }\n    },\n    {\n      \"column\": \"label\",\n      \"properties\": {\n        \"dtype\": \"number\",\n        \"std\": 0.4998157684133421,\n        \"min\": 0.0,\n        \"max\": 1.0,\n        \"num_unique_values\": 2,\n        \"samples\": [\n          0.0,\n          1.0\n        ],\n        \"semantic_type\": \"\",\n        \"description\": \"\"\n      }\n    }\n  ]\n}"
            }
          },
          "metadata": {},
          "execution_count": 7
        }
      ]
    },
    {
      "cell_type": "code",
      "source": [
        "#find out missing values in dataset\n",
        "news.isnull().sum()"
      ],
      "metadata": {
        "id": "PfQWr389q3OG"
      },
      "execution_count": null,
      "outputs": []
    },
    {
      "cell_type": "code",
      "source": [
        "#renaming a column in dataset to uniquely identify eash item\n",
        "news = news.rename(columns={'Unnamed: 0' : 'id'})"
      ],
      "metadata": {
        "id": "eFq13NiIrlt2"
      },
      "execution_count": null,
      "outputs": []
    },
    {
      "cell_type": "code",
      "source": [
        "#removing the previous values in 'label' column\n",
        "Y = news['label']\n",
        "news = news.drop('label', axis=1)"
      ],
      "metadata": {
        "id": "7UL7pe8qw9o-",
        "colab": {
          "base_uri": "https://localhost:8080/",
          "height": 321
        },
        "outputId": "e37248d7-1fb4-480f-a7e8-85325b266bc9"
      },
      "execution_count": null,
      "outputs": [
        {
          "output_type": "error",
          "ename": "KeyError",
          "evalue": "\"['label'] not found in axis\"",
          "traceback": [
            "\u001b[0;31m---------------------------------------------------------------------------\u001b[0m",
            "\u001b[0;31mKeyError\u001b[0m                                  Traceback (most recent call last)",
            "\u001b[0;32m<ipython-input-12-2c0a476b3fbc>\u001b[0m in \u001b[0;36m<cell line: 3>\u001b[0;34m()\u001b[0m\n\u001b[1;32m      1\u001b[0m \u001b[0;31m#removing the previous values in 'label' column\u001b[0m\u001b[0;34m\u001b[0m\u001b[0;34m\u001b[0m\u001b[0m\n\u001b[1;32m      2\u001b[0m \u001b[0;31m#Y = news['label']\u001b[0m\u001b[0;34m\u001b[0m\u001b[0;34m\u001b[0m\u001b[0m\n\u001b[0;32m----> 3\u001b[0;31m \u001b[0mnews\u001b[0m \u001b[0;34m=\u001b[0m \u001b[0mnews\u001b[0m\u001b[0;34m.\u001b[0m\u001b[0mdrop\u001b[0m\u001b[0;34m(\u001b[0m\u001b[0;34m'label'\u001b[0m\u001b[0;34m,\u001b[0m \u001b[0maxis\u001b[0m\u001b[0;34m=\u001b[0m\u001b[0;36m1\u001b[0m\u001b[0;34m)\u001b[0m\u001b[0;34m\u001b[0m\u001b[0;34m\u001b[0m\u001b[0m\n\u001b[0m",
            "\u001b[0;32m/usr/local/lib/python3.10/dist-packages/pandas/core/frame.py\u001b[0m in \u001b[0;36mdrop\u001b[0;34m(self, labels, axis, index, columns, level, inplace, errors)\u001b[0m\n\u001b[1;32m   5579\u001b[0m                 \u001b[0mweight\u001b[0m  \u001b[0;36m1.0\u001b[0m     \u001b[0;36m0.8\u001b[0m\u001b[0;34m\u001b[0m\u001b[0;34m\u001b[0m\u001b[0m\n\u001b[1;32m   5580\u001b[0m         \"\"\"\n\u001b[0;32m-> 5581\u001b[0;31m         return super().drop(\n\u001b[0m\u001b[1;32m   5582\u001b[0m             \u001b[0mlabels\u001b[0m\u001b[0;34m=\u001b[0m\u001b[0mlabels\u001b[0m\u001b[0;34m,\u001b[0m\u001b[0;34m\u001b[0m\u001b[0;34m\u001b[0m\u001b[0m\n\u001b[1;32m   5583\u001b[0m             \u001b[0maxis\u001b[0m\u001b[0;34m=\u001b[0m\u001b[0maxis\u001b[0m\u001b[0;34m,\u001b[0m\u001b[0;34m\u001b[0m\u001b[0;34m\u001b[0m\u001b[0m\n",
            "\u001b[0;32m/usr/local/lib/python3.10/dist-packages/pandas/core/generic.py\u001b[0m in \u001b[0;36mdrop\u001b[0;34m(self, labels, axis, index, columns, level, inplace, errors)\u001b[0m\n\u001b[1;32m   4786\u001b[0m         \u001b[0;32mfor\u001b[0m \u001b[0maxis\u001b[0m\u001b[0;34m,\u001b[0m \u001b[0mlabels\u001b[0m \u001b[0;32min\u001b[0m \u001b[0maxes\u001b[0m\u001b[0;34m.\u001b[0m\u001b[0mitems\u001b[0m\u001b[0;34m(\u001b[0m\u001b[0;34m)\u001b[0m\u001b[0;34m:\u001b[0m\u001b[0;34m\u001b[0m\u001b[0;34m\u001b[0m\u001b[0m\n\u001b[1;32m   4787\u001b[0m             \u001b[0;32mif\u001b[0m \u001b[0mlabels\u001b[0m \u001b[0;32mis\u001b[0m \u001b[0;32mnot\u001b[0m \u001b[0;32mNone\u001b[0m\u001b[0;34m:\u001b[0m\u001b[0;34m\u001b[0m\u001b[0;34m\u001b[0m\u001b[0m\n\u001b[0;32m-> 4788\u001b[0;31m                 \u001b[0mobj\u001b[0m \u001b[0;34m=\u001b[0m \u001b[0mobj\u001b[0m\u001b[0;34m.\u001b[0m\u001b[0m_drop_axis\u001b[0m\u001b[0;34m(\u001b[0m\u001b[0mlabels\u001b[0m\u001b[0;34m,\u001b[0m \u001b[0maxis\u001b[0m\u001b[0;34m,\u001b[0m \u001b[0mlevel\u001b[0m\u001b[0;34m=\u001b[0m\u001b[0mlevel\u001b[0m\u001b[0;34m,\u001b[0m \u001b[0merrors\u001b[0m\u001b[0;34m=\u001b[0m\u001b[0merrors\u001b[0m\u001b[0;34m)\u001b[0m\u001b[0;34m\u001b[0m\u001b[0;34m\u001b[0m\u001b[0m\n\u001b[0m\u001b[1;32m   4789\u001b[0m \u001b[0;34m\u001b[0m\u001b[0m\n\u001b[1;32m   4790\u001b[0m         \u001b[0;32mif\u001b[0m \u001b[0minplace\u001b[0m\u001b[0;34m:\u001b[0m\u001b[0;34m\u001b[0m\u001b[0;34m\u001b[0m\u001b[0m\n",
            "\u001b[0;32m/usr/local/lib/python3.10/dist-packages/pandas/core/generic.py\u001b[0m in \u001b[0;36m_drop_axis\u001b[0;34m(self, labels, axis, level, errors, only_slice)\u001b[0m\n\u001b[1;32m   4828\u001b[0m                 \u001b[0mnew_axis\u001b[0m \u001b[0;34m=\u001b[0m \u001b[0maxis\u001b[0m\u001b[0;34m.\u001b[0m\u001b[0mdrop\u001b[0m\u001b[0;34m(\u001b[0m\u001b[0mlabels\u001b[0m\u001b[0;34m,\u001b[0m \u001b[0mlevel\u001b[0m\u001b[0;34m=\u001b[0m\u001b[0mlevel\u001b[0m\u001b[0;34m,\u001b[0m \u001b[0merrors\u001b[0m\u001b[0;34m=\u001b[0m\u001b[0merrors\u001b[0m\u001b[0;34m)\u001b[0m\u001b[0;34m\u001b[0m\u001b[0;34m\u001b[0m\u001b[0m\n\u001b[1;32m   4829\u001b[0m             \u001b[0;32melse\u001b[0m\u001b[0;34m:\u001b[0m\u001b[0;34m\u001b[0m\u001b[0;34m\u001b[0m\u001b[0m\n\u001b[0;32m-> 4830\u001b[0;31m                 \u001b[0mnew_axis\u001b[0m \u001b[0;34m=\u001b[0m \u001b[0maxis\u001b[0m\u001b[0;34m.\u001b[0m\u001b[0mdrop\u001b[0m\u001b[0;34m(\u001b[0m\u001b[0mlabels\u001b[0m\u001b[0;34m,\u001b[0m \u001b[0merrors\u001b[0m\u001b[0;34m=\u001b[0m\u001b[0merrors\u001b[0m\u001b[0;34m)\u001b[0m\u001b[0;34m\u001b[0m\u001b[0;34m\u001b[0m\u001b[0m\n\u001b[0m\u001b[1;32m   4831\u001b[0m             \u001b[0mindexer\u001b[0m \u001b[0;34m=\u001b[0m \u001b[0maxis\u001b[0m\u001b[0;34m.\u001b[0m\u001b[0mget_indexer\u001b[0m\u001b[0;34m(\u001b[0m\u001b[0mnew_axis\u001b[0m\u001b[0;34m)\u001b[0m\u001b[0;34m\u001b[0m\u001b[0;34m\u001b[0m\u001b[0m\n\u001b[1;32m   4832\u001b[0m \u001b[0;34m\u001b[0m\u001b[0m\n",
            "\u001b[0;32m/usr/local/lib/python3.10/dist-packages/pandas/core/indexes/base.py\u001b[0m in \u001b[0;36mdrop\u001b[0;34m(self, labels, errors)\u001b[0m\n\u001b[1;32m   7068\u001b[0m         \u001b[0;32mif\u001b[0m \u001b[0mmask\u001b[0m\u001b[0;34m.\u001b[0m\u001b[0many\u001b[0m\u001b[0;34m(\u001b[0m\u001b[0;34m)\u001b[0m\u001b[0;34m:\u001b[0m\u001b[0;34m\u001b[0m\u001b[0;34m\u001b[0m\u001b[0m\n\u001b[1;32m   7069\u001b[0m             \u001b[0;32mif\u001b[0m \u001b[0merrors\u001b[0m \u001b[0;34m!=\u001b[0m \u001b[0;34m\"ignore\"\u001b[0m\u001b[0;34m:\u001b[0m\u001b[0;34m\u001b[0m\u001b[0;34m\u001b[0m\u001b[0m\n\u001b[0;32m-> 7070\u001b[0;31m                 \u001b[0;32mraise\u001b[0m \u001b[0mKeyError\u001b[0m\u001b[0;34m(\u001b[0m\u001b[0;34mf\"{labels[mask].tolist()} not found in axis\"\u001b[0m\u001b[0;34m)\u001b[0m\u001b[0;34m\u001b[0m\u001b[0;34m\u001b[0m\u001b[0m\n\u001b[0m\u001b[1;32m   7071\u001b[0m             \u001b[0mindexer\u001b[0m \u001b[0;34m=\u001b[0m \u001b[0mindexer\u001b[0m\u001b[0;34m[\u001b[0m\u001b[0;34m~\u001b[0m\u001b[0mmask\u001b[0m\u001b[0;34m]\u001b[0m\u001b[0;34m\u001b[0m\u001b[0;34m\u001b[0m\u001b[0m\n\u001b[1;32m   7072\u001b[0m         \u001b[0;32mreturn\u001b[0m \u001b[0mself\u001b[0m\u001b[0;34m.\u001b[0m\u001b[0mdelete\u001b[0m\u001b[0;34m(\u001b[0m\u001b[0mindexer\u001b[0m\u001b[0;34m)\u001b[0m\u001b[0;34m\u001b[0m\u001b[0;34m\u001b[0m\u001b[0m\n",
            "\u001b[0;31mKeyError\u001b[0m: \"['label'] not found in axis\""
          ]
        }
      ]
    },
    {
      "cell_type": "markdown",
      "source": [
        "**Lemmatization**\n",
        "\n",
        "Lemmatization helps to reduce dimensionality esp as we are using logistic regression\n",
        "\n",
        "Unlike stemming, it reduces the words too its base form only after considering the words' contexts"
      ],
      "metadata": {
        "id": "TTeno-CIz0FG"
      }
    },
    {
      "cell_type": "code",
      "source": [
        "lemma = WordNetLemmatizer()\n",
        "print(Y)"
      ],
      "metadata": {
        "id": "kzu49qRJxSIG",
        "colab": {
          "base_uri": "https://localhost:8080/"
        },
        "outputId": "a91fae8f-7745-46ab-964d-3994ed3be9c8"
      },
      "execution_count": null,
      "outputs": [
        {
          "output_type": "stream",
          "name": "stdout",
          "text": [
            "0       1.0\n",
            "1       0.0\n",
            "2       1.0\n",
            "3       0.0\n",
            "4       0.0\n",
            "       ... \n",
            "4082    1.0\n",
            "4083    1.0\n",
            "4084    0.0\n",
            "4085    0.0\n",
            "4086    NaN\n",
            "Name: label, Length: 4087, dtype: float64\n"
          ]
        }
      ]
    },
    {
      "cell_type": "code",
      "source": [
        "def lemmatization(content):\n",
        "    lemmatizer = WordNetLemmatizer()\n",
        "    # Remove all non-alphabetic characters & convert to lowercase\n",
        "    lemmatized_content = re.sub('[^a-zA-Z]', ' ', content)\n",
        "    lemmatized_content = lemmatized_content.lower()\n",
        "    # Split the content into words\n",
        "    lemmatized_content = lemmatized_content.split()\n",
        "    # Remove stopwords and apply lemmatization\n",
        "    lemmatized_content = [lemmatizer.lemmatize(word) for word in lemmatized_content if word not in stopwords.words('english')]\n",
        "    # Join the words back into a single string\n",
        "    lemmatized_content = ' '.join(lemmatized_content)\n",
        "    return lemmatized_content\n"
      ],
      "metadata": {
        "id": "0FeKer4R0v9M"
      },
      "execution_count": null,
      "outputs": []
    },
    {
      "cell_type": "code",
      "source": [
        "nltk.download('wordnet')\n",
        "news['title'] = news['title'].apply(lemmatization)\n",
        "news['text'] = news['text'].apply(lemmatization)"
      ],
      "metadata": {
        "colab": {
          "base_uri": "https://localhost:8080/"
        },
        "id": "ocPBgkxc3pZW",
        "outputId": "ff91d7a0-83d4-419d-b22e-a21ea8c076f8"
      },
      "execution_count": null,
      "outputs": [
        {
          "output_type": "stream",
          "name": "stderr",
          "text": [
            "[nltk_data] Downloading package wordnet to /root/nltk_data...\n"
          ]
        }
      ]
    },
    {
      "cell_type": "markdown",
      "source": [
        "Sentiment Analysis of News' Titles"
      ],
      "metadata": {
        "id": "53nn4QVxeVVv"
      }
    },
    {
      "cell_type": "code",
      "source": [
        "from textblob import TextBlob\n",
        "def get_sentiment_features(content):\n",
        "    analysis = TextBlob(content)\n",
        "    return analysis.sentiment.polarity, analysis.sentiment.subjectivity\n",
        "\n",
        "# Apply the sentiment analysis function to the dataset\n",
        "news[['polarity', 'subjectivity']] = news['title'].apply(get_sentiment_features).apply(pd.Series)\n",
        "\n",
        "# Prepare the feature set and target variable\n",
        "X = news[['polarity', 'subjectivity']]  # Use sentiment features\n",
        "\n",
        "# Train-test split\n",
        "X_train, X_test, Y_train, Y_test = train_test_split(X, Y, test_size=0.2, random_state=42)"
      ],
      "metadata": {
        "id": "YFCk8ZrgDrtb"
      },
      "execution_count": null,
      "outputs": []
    },
    {
      "cell_type": "code",
      "source": [
        "Y = Y.dropna()\n",
        "Y = Y.reset_index(drop=True)\n",
        "print(Y)"
      ],
      "metadata": {
        "colab": {
          "base_uri": "https://localhost:8080/"
        },
        "id": "k4RdaXQWiNZ2",
        "outputId": "7a9230a4-d441-4318-e264-68567326337a"
      },
      "execution_count": null,
      "outputs": [
        {
          "output_type": "stream",
          "name": "stdout",
          "text": [
            "0       1.0\n",
            "1       0.0\n",
            "2       1.0\n",
            "3       0.0\n",
            "4       0.0\n",
            "       ... \n",
            "4081    1.0\n",
            "4082    1.0\n",
            "4083    1.0\n",
            "4084    0.0\n",
            "4085    0.0\n",
            "Name: label, Length: 4086, dtype: float64\n"
          ]
        }
      ]
    },
    {
      "cell_type": "code",
      "source": [
        "Y_test = Y_test.dropna().reset_index(drop=True)\n",
        "X_test, Y_test = X_test.align(Y_test, join='inner', axis=0)\n",
        "print(Y_train.isnull().sum(), Y_test.isnull().sum())"
      ],
      "metadata": {
        "colab": {
          "base_uri": "https://localhost:8080/"
        },
        "id": "tyy7NO-NjSnO",
        "outputId": "99a3ebc2-a5af-46e1-a5bb-254f7306f426"
      },
      "execution_count": 30,
      "outputs": [
        {
          "output_type": "stream",
          "name": "stdout",
          "text": [
            "0 0\n"
          ]
        }
      ]
    },
    {
      "cell_type": "code",
      "source": [
        "model = LogisticRegression()\n",
        "model.fit(X_train, Y_train)\n",
        "\n",
        "Y_pred = model.predict(X_test)\n",
        "accuracy = accuracy_score(Y_test, Y_pred)\n",
        "print(f\"Model Accuracy: {accuracy:.2f}\")"
      ],
      "metadata": {
        "colab": {
          "base_uri": "https://localhost:8080/"
        },
        "id": "801YPxufhLhe",
        "outputId": "481adc3b-fe80-4cf1-bb78-c91aa1a80796"
      },
      "execution_count": 32,
      "outputs": [
        {
          "output_type": "stream",
          "name": "stdout",
          "text": [
            "Model Accuracy: 0.49\n"
          ]
        }
      ]
    },
    {
      "cell_type": "markdown",
      "source": [
        "\tTextBlob or VADER??\n",
        "\n",
        "B. Bhutani, N. Rastogi, P. Sehgal and A. Purwar, \"Fake News Detection Using Sentiment Analysis,\" 2019 Twelfth International Conference on Contemporary Computing (IC3), Noida, India, 2019, pp. 1-5, doi: 10.1109/IC3.2019.8844880. keywords: {Social networking (online);Vocabulary;Sentiment analysis;Information technology;Media;Buildings;Logistics;Fake News;Naive Bayes;Random Forest;Cosine similarity tf-idf;sentiment};\n",
        "\n"
      ],
      "metadata": {
        "id": "Cxy18X0aaJgi"
      }
    },
    {
      "cell_type": "markdown",
      "source": [],
      "metadata": {
        "id": "jdqQOzDOnHIt"
      }
    },
    {
      "cell_type": "code",
      "source": [],
      "metadata": {
        "id": "xhid7JVZnGyV"
      },
      "execution_count": null,
      "outputs": []
    }
  ]
}