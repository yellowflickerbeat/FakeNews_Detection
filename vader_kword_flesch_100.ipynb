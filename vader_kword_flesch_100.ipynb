{
  "nbformat": 4,
  "nbformat_minor": 0,
  "metadata": {
    "colab": {
      "provenance": [],
      "authorship_tag": "ABX9TyO8a/mqBYiNI/+oLBj4weI0",
      "include_colab_link": true
    },
    "kernelspec": {
      "name": "python3",
      "display_name": "Python 3"
    },
    "language_info": {
      "name": "python"
    }
  },
  "cells": [
    {
      "cell_type": "markdown",
      "metadata": {
        "id": "view-in-github",
        "colab_type": "text"
      },
      "source": [
        "<a href=\"https://colab.research.google.com/github/yellowflickerbeat/FakeNews_Detection/blob/main/vader_kword_flesch_100.ipynb\" target=\"_parent\"><img src=\"https://colab.research.google.com/assets/colab-badge.svg\" alt=\"Open In Colab\"/></a>"
      ]
    },
    {
      "cell_type": "code",
      "execution_count": 3,
      "metadata": {
        "id": "3G7ZeD3AoUN-"
      },
      "outputs": [],
      "source": [
        "import numpy as np\n",
        "import pandas as pd\n",
        "import re\n",
        "from nltk.corpus import stopwords\n",
        "#stopwords removes all the repetative words which don't substance to the text\n",
        "from nltk.stem import WordNetLemmatizer\n",
        "from nltk.corpus import wordnet\n",
        "#WordNetLemmatizer converts words into their roots considering its context\n",
        "from sklearn.feature_extraction.text import TfidfVectorizer\n",
        "#TfidfVectorizer measures importance of diff words\n",
        "from sklearn.model_selection import train_test_split\n",
        "#splits data into test and train\n",
        "from sklearn.linear_model import LogisticRegression\n",
        "from sklearn.metrics import accuracy_score"
      ]
    },
    {
      "cell_type": "code",
      "source": [
        "import nltk\n",
        "nltk.download('stopwords')"
      ],
      "metadata": {
        "colab": {
          "base_uri": "https://localhost:8080/"
        },
        "id": "8Kr6Y7LJoaW9",
        "outputId": "3ad2700a-6274-45a9-d764-c8abefcd2e73"
      },
      "execution_count": 1,
      "outputs": [
        {
          "output_type": "stream",
          "name": "stderr",
          "text": [
            "[nltk_data] Downloading package stopwords to /root/nltk_data...\n",
            "[nltk_data]   Unzipping corpora/stopwords.zip.\n"
          ]
        },
        {
          "output_type": "execute_result",
          "data": {
            "text/plain": [
              "True"
            ]
          },
          "metadata": {},
          "execution_count": 1
        }
      ]
    },
    {
      "cell_type": "code",
      "source": [
        "#mounting the mandatory datasets\n",
        "news = pd.read_table('/content/train.tsv')\n",
        "news.shape"
      ],
      "metadata": {
        "colab": {
          "base_uri": "https://localhost:8080/"
        },
        "id": "LSBfsptsk0Xt",
        "outputId": "9b445030-7469-4a34-bf6c-f440c5546788"
      },
      "execution_count": 5,
      "outputs": [
        {
          "output_type": "execute_result",
          "data": {
            "text/plain": [
              "(26471, 6)"
            ]
          },
          "metadata": {},
          "execution_count": 5
        }
      ]
    },
    {
      "cell_type": "code",
      "source": [
        "news = news.rename(columns={'Unnamed: 0' : 'id'})\n",
        "#find out missing values in dataset\n",
        "news.isnull().sum()"
      ],
      "metadata": {
        "colab": {
          "base_uri": "https://localhost:8080/",
          "height": 272
        },
        "id": "5umsbwouk8ic",
        "outputId": "201553ce-0b12-4e06-99e8-0d6be09d1183"
      },
      "execution_count": 6,
      "outputs": [
        {
          "output_type": "execute_result",
          "data": {
            "text/plain": [
              "id         0\n",
              "title      0\n",
              "text       0\n",
              "subject    0\n",
              "date       0\n",
              "label      1\n",
              "dtype: int64"
            ],
            "text/html": [
              "<div>\n",
              "<style scoped>\n",
              "    .dataframe tbody tr th:only-of-type {\n",
              "        vertical-align: middle;\n",
              "    }\n",
              "\n",
              "    .dataframe tbody tr th {\n",
              "        vertical-align: top;\n",
              "    }\n",
              "\n",
              "    .dataframe thead th {\n",
              "        text-align: right;\n",
              "    }\n",
              "</style>\n",
              "<table border=\"1\" class=\"dataframe\">\n",
              "  <thead>\n",
              "    <tr style=\"text-align: right;\">\n",
              "      <th></th>\n",
              "      <th>0</th>\n",
              "    </tr>\n",
              "  </thead>\n",
              "  <tbody>\n",
              "    <tr>\n",
              "      <th>id</th>\n",
              "      <td>0</td>\n",
              "    </tr>\n",
              "    <tr>\n",
              "      <th>title</th>\n",
              "      <td>0</td>\n",
              "    </tr>\n",
              "    <tr>\n",
              "      <th>text</th>\n",
              "      <td>0</td>\n",
              "    </tr>\n",
              "    <tr>\n",
              "      <th>subject</th>\n",
              "      <td>0</td>\n",
              "    </tr>\n",
              "    <tr>\n",
              "      <th>date</th>\n",
              "      <td>0</td>\n",
              "    </tr>\n",
              "    <tr>\n",
              "      <th>label</th>\n",
              "      <td>1</td>\n",
              "    </tr>\n",
              "  </tbody>\n",
              "</table>\n",
              "</div><br><label><b>dtype:</b> int64</label>"
            ]
          },
          "metadata": {},
          "execution_count": 6
        }
      ]
    },
    {
      "cell_type": "code",
      "source": [
        "Y = news['label']\n",
        "#news = news.drop('label', axis=1)\n",
        "print(Y)"
      ],
      "metadata": {
        "colab": {
          "base_uri": "https://localhost:8080/"
        },
        "id": "ndN7nitEk_Gk",
        "outputId": "6fdf5930-dc0f-41e8-d5cb-b25ec29aecc1"
      },
      "execution_count": 7,
      "outputs": [
        {
          "output_type": "stream",
          "name": "stdout",
          "text": [
            "0        1.0\n",
            "1        0.0\n",
            "2        1.0\n",
            "3        0.0\n",
            "4        0.0\n",
            "        ... \n",
            "26466    1.0\n",
            "26467    1.0\n",
            "26468    1.0\n",
            "26469    0.0\n",
            "26470    NaN\n",
            "Name: label, Length: 26471, dtype: float64\n"
          ]
        }
      ]
    },
    {
      "cell_type": "code",
      "source": [
        "!pip install vaderSentiment"
      ],
      "metadata": {
        "colab": {
          "base_uri": "https://localhost:8080/"
        },
        "id": "iDpGw4mulJwX",
        "outputId": "d83ac460-b48b-4b04-a578-d2b0dbebd2c2"
      },
      "execution_count": 8,
      "outputs": [
        {
          "output_type": "stream",
          "name": "stdout",
          "text": [
            "Collecting vaderSentiment\n",
            "  Downloading vaderSentiment-3.3.2-py2.py3-none-any.whl.metadata (572 bytes)\n",
            "Requirement already satisfied: requests in /usr/local/lib/python3.10/dist-packages (from vaderSentiment) (2.32.3)\n",
            "Requirement already satisfied: charset-normalizer<4,>=2 in /usr/local/lib/python3.10/dist-packages (from requests->vaderSentiment) (3.4.0)\n",
            "Requirement already satisfied: idna<4,>=2.5 in /usr/local/lib/python3.10/dist-packages (from requests->vaderSentiment) (3.10)\n",
            "Requirement already satisfied: urllib3<3,>=1.21.1 in /usr/local/lib/python3.10/dist-packages (from requests->vaderSentiment) (2.2.3)\n",
            "Requirement already satisfied: certifi>=2017.4.17 in /usr/local/lib/python3.10/dist-packages (from requests->vaderSentiment) (2024.12.14)\n",
            "Downloading vaderSentiment-3.3.2-py2.py3-none-any.whl (125 kB)\n",
            "\u001b[?25l   \u001b[90m━━━━━━━━━━━━━━━━━━━━━━━━━━━━━━━━━━━━━━━━\u001b[0m \u001b[32m0.0/126.0 kB\u001b[0m \u001b[31m?\u001b[0m eta \u001b[36m-:--:--\u001b[0m\r\u001b[2K   \u001b[91m━━━━━━━━━━━━━━━━━━━━━━━━━━━━━━━━━━━\u001b[0m\u001b[91m╸\u001b[0m\u001b[90m━━━━\u001b[0m \u001b[32m112.6/126.0 kB\u001b[0m \u001b[31m3.1 MB/s\u001b[0m eta \u001b[36m0:00:01\u001b[0m\r\u001b[2K   \u001b[90m━━━━━━━━━━━━━━━━━━━━━━━━━━━━━━━━━━━━━━━━\u001b[0m \u001b[32m126.0/126.0 kB\u001b[0m \u001b[31m2.4 MB/s\u001b[0m eta \u001b[36m0:00:00\u001b[0m\n",
            "\u001b[?25hInstalling collected packages: vaderSentiment\n",
            "Successfully installed vaderSentiment-3.3.2\n"
          ]
        }
      ]
    },
    {
      "cell_type": "code",
      "source": [
        "from vaderSentiment.vaderSentiment import SentimentIntensityAnalyzer\n",
        "analyzer = SentimentIntensityAnalyzer()\n",
        "def get_sentiment_features(text):\n",
        "    scores = analyzer.polarity_scores(text)\n",
        "    return scores['neg'], scores['neu'], scores['pos'], scores['compound']\n",
        "\n",
        "# Apply the sentiment analysis function to the dataset\n",
        "news[['neg', 'neu', 'pos', 'compound']] = news['title'].apply(get_sentiment_features).apply(pd.Series)\n",
        "\n",
        "# Prepare the feature set and target variable\n",
        "X = news[['neg', 'neu', 'pos', 'compound']]  # Use VADER sentiment features\n",
        "#y = news['label']  # 1 for real, 0 for fake\n",
        "\n",
        "# Train-test split\n",
        "X_train, X_test, Y_train, Y_test = train_test_split(X, Y, test_size=0.2, random_state=42)"
      ],
      "metadata": {
        "id": "eRPjF40Bl5n3"
      },
      "execution_count": 9,
      "outputs": []
    },
    {
      "cell_type": "code",
      "source": [
        "Y_test = Y_test.dropna().reset_index(drop=True)\n",
        "X_test, Y_test = X_test.align(Y_test, join='inner', axis=0)\n",
        "print(Y_train.isnull().sum(), Y_test.isnull().sum())"
      ],
      "metadata": {
        "colab": {
          "base_uri": "https://localhost:8080/"
        },
        "id": "F5OeTx40md9N",
        "outputId": "e8ffdb2b-464a-4e9a-e573-6cbf16b5c362"
      },
      "execution_count": 10,
      "outputs": [
        {
          "output_type": "stream",
          "name": "stdout",
          "text": [
            "1 0\n"
          ]
        }
      ]
    },
    {
      "cell_type": "code",
      "source": [
        "y_train_cleaned = Y_train.dropna()\n",
        "\n",
        "# Align X_train by keeping only the rows that correspond to the non-NaN values in y_train_cleaned\n",
        "X_train_cleaned = X_train.loc[y_train_cleaned.index]\n",
        "\n",
        "# Reset the indices of both X_train_cleaned and y_train_cleaned\n",
        "X_train_cleaned = X_train_cleaned.reset_index(drop=True)\n",
        "y_train_cleaned = y_train_cleaned.reset_index(drop=True)\n",
        "\n",
        "# Now check for null values in the cleaned data\n",
        "print(\"y_train_cleaned NaN values:\", y_train_cleaned.isnull().sum())\n",
        "print(\"X_train_cleaned NaN values:\", X_train_cleaned.isnull().sum())\n",
        "print(\"Y_test NaN values:\", Y_test.isnull().sum())"
      ],
      "metadata": {
        "colab": {
          "base_uri": "https://localhost:8080/"
        },
        "id": "qiwSCE-GmiMl",
        "outputId": "5a2fdff5-4b4c-49eb-ea75-ae5f98c7ce71"
      },
      "execution_count": 11,
      "outputs": [
        {
          "output_type": "stream",
          "name": "stdout",
          "text": [
            "y_train_cleaned NaN values: 0\n",
            "X_train_cleaned NaN values: neg         0\n",
            "neu         0\n",
            "pos         0\n",
            "compound    0\n",
            "dtype: int64\n",
            "Y_test NaN values: 0\n"
          ]
        }
      ]
    },
    {
      "cell_type": "code",
      "source": [
        "model = LogisticRegression()\n",
        "model.fit(X_train_cleaned, y_train_cleaned)\n",
        "\n",
        "# Evaluate the model\n",
        "y_pred = model.predict(X_test)\n",
        "accuracy = accuracy_score(Y_test, y_pred)\n",
        "print(f\"Model Accuracy: {accuracy:.3f}\")"
      ],
      "metadata": {
        "colab": {
          "base_uri": "https://localhost:8080/"
        },
        "id": "JfkaB6yQmmXF",
        "outputId": "eedea459-4531-46c9-f120-261003a295a4"
      },
      "execution_count": 12,
      "outputs": [
        {
          "output_type": "stream",
          "name": "stdout",
          "text": [
            "Model Accuracy: 0.520\n"
          ]
        }
      ]
    },
    {
      "cell_type": "code",
      "source": [
        "from sklearn.ensemble import RandomForestClassifier\n",
        "import textstat\n",
        "\n",
        "fake_news_words = [\n",
        "    \"Exclusive\", \"Shocking\", \"Revealed\", \"Exposed\", \"Unbelievable\",\n",
        "    \"Scandal\", \"Unprecedented\", \"Breaking\", \"Conspiracy\", \"Hoax\",\n",
        "    \"Bombshell\", \"Alert\", \"Hacked\", \"Disturbing\", \"Cover-up\",\n",
        "    \"Unfounded\", \"Widespread\", \"Propaganda\", \"Debunked\", \"Controversial\"\n",
        "]\n",
        "\n",
        "def contains_fake_news_keywords(text, keywords):\n",
        "    tokens = text.split()  # Assuming text is already cleaned and tokenized\n",
        "    return any(keyword in tokens for keyword in keywords)\n",
        "\n",
        "# Function to calculate average sentence length\n",
        "def average_sentence_length(text):\n",
        "    sentences = text.split('.')  # Split text into sentences (basic splitting)\n",
        "    num_sentences = len([s for s in sentences if s.strip()])\n",
        "    num_words = len(text.split())\n",
        "    return num_words / num_sentences if num_sentences > 0 else 0\n",
        "\n",
        "def flesch_kincaid_score(text):\n",
        "    return textstat.flesch_kincaid_grade(text)\n",
        "\n",
        "# Apply feature engineering before splitting the data\n",
        "news['keyword_feature'] = news['title'].apply(lambda x: contains_fake_news_keywords(x, fake_news_words)) | \\\n",
        "                          news['text'].apply(lambda x: contains_fake_news_keywords(x, fake_news_words))\n",
        "\n",
        "news['avg_sentence_length'] = news['text'].apply(average_sentence_length)\n",
        "news['flesch_kincaid'] = news['text'].apply(flesch_kincaid_score)\n",
        "\n",
        "# Combine VADER sentiment features and keyword feature\n",
        "X = news[['neg', 'neu', 'pos', 'compound', 'keyword_feature', 'avg_sentence_length', 'flesch_kincaid']]\n",
        "\n",
        "# Now split the data into training and testing sets\n",
        "X_train, X_test, Y_train, Y_test = train_test_split(X, Y, test_size=0.2, random_state=42)\n",
        "\n",
        "# Handle NaN values in y_train\n",
        "y_train_cleaned = Y_train.dropna()\n",
        "X_train_cleaned = X_train.loc[y_train_cleaned.index].reset_index(drop=True)\n",
        "y_train_cleaned = y_train_cleaned.reset_index(drop=True)\n",
        "\n",
        "# Train a simple model (Random Forest Classifier)\n",
        "clf = RandomForestClassifier(n_estimators=100, random_state=42)\n",
        "clf.fit(X_train_cleaned, y_train_cleaned)\n",
        "\n",
        "y_pred = clf.predict(X_test)\n",
        "accuracy = accuracy_score(Y_test, y_pred)\n",
        "print(f\"Model Accuracy: {accuracy:.4f}\")"
      ],
      "metadata": {
        "colab": {
          "base_uri": "https://localhost:8080/"
        },
        "id": "h1Sr-AG5nOtY",
        "outputId": "c3ede2ad-4b85-414e-bc0f-8b08b1ae598c"
      },
      "execution_count": 17,
      "outputs": [
        {
          "output_type": "stream",
          "name": "stdout",
          "text": [
            "Model Accuracy: 0.8138\n"
          ]
        }
      ]
    },
    {
      "cell_type": "code",
      "source": [
        "!pip install textstat"
      ],
      "metadata": {
        "colab": {
          "base_uri": "https://localhost:8080/"
        },
        "id": "3Hmliv_nnoQM",
        "outputId": "b1dda22b-c471-4bc5-b082-ae63dcac1f69"
      },
      "execution_count": 16,
      "outputs": [
        {
          "output_type": "stream",
          "name": "stdout",
          "text": [
            "Collecting textstat\n",
            "  Downloading textstat-0.7.4-py3-none-any.whl.metadata (14 kB)\n",
            "Collecting pyphen (from textstat)\n",
            "  Downloading pyphen-0.17.0-py3-none-any.whl.metadata (3.2 kB)\n",
            "Requirement already satisfied: setuptools in /usr/local/lib/python3.10/dist-packages (from textstat) (75.1.0)\n",
            "Downloading textstat-0.7.4-py3-none-any.whl (105 kB)\n",
            "\u001b[2K   \u001b[90m━━━━━━━━━━━━━━━━━━━━━━━━━━━━━━━━━━━━━━━━\u001b[0m \u001b[32m105.1/105.1 kB\u001b[0m \u001b[31m2.6 MB/s\u001b[0m eta \u001b[36m0:00:00\u001b[0m\n",
            "\u001b[?25hDownloading pyphen-0.17.0-py3-none-any.whl (2.1 MB)\n",
            "\u001b[2K   \u001b[90m━━━━━━━━━━━━━━━━━━━━━━━━━━━━━━━━━━━━━━━━\u001b[0m \u001b[32m2.1/2.1 MB\u001b[0m \u001b[31m25.7 MB/s\u001b[0m eta \u001b[36m0:00:00\u001b[0m\n",
            "\u001b[?25hInstalling collected packages: pyphen, textstat\n",
            "Successfully installed pyphen-0.17.0 textstat-0.7.4\n"
          ]
        }
      ]
    },
    {
      "cell_type": "code",
      "source": [
        "from sklearn.preprocessing import OneHotEncoder\n",
        "\n",
        "# One-hot encode the subject names\n",
        "encoder = OneHotEncoder()\n",
        "subject_encoded = encoder.fit_transform(news[['subject']]).toarray()\n",
        "\n",
        "# Add subject encoding as new features\n",
        "subject_columns = [f\"subject_{cat}\" for cat in encoder.categories_[0]]\n",
        "subject_df = pd.DataFrame(subject_encoded, columns=subject_columns)\n",
        "\n",
        "# Combine with existing features\n",
        "X = pd.concat([news[['neg', 'neu', 'pos', 'compound', 'keyword_feature', 'avg_sentence_length', 'flesch_kincaid']],\n",
        "               subject_df], axis=1)\n",
        "Y = news['label']  # Target variable\n",
        "\n",
        "# Handle NaN values\n",
        "X.fillna(0, inplace=True)\n",
        "Y.fillna(0, inplace=True)\n",
        "\n",
        "# Split the data into training and testing sets\n",
        "X_train, X_test, Y_train, Y_test = train_test_split(X, Y, test_size=0.2, random_state=42)\n",
        "\n",
        "# Train a Random Forest Classifier\n",
        "clf = RandomForestClassifier(n_estimators=100, random_state=42)\n",
        "clf.fit(X_train, Y_train)\n",
        "\n",
        "# Make predictions\n",
        "y_pred = clf.predict(X_test)\n",
        "accuracy = accuracy_score(Y_test, y_pred)\n",
        "\n",
        "print(f\"Model Accuracy (With Subject Features): {accuracy:.4f}\")\n"
      ],
      "metadata": {
        "colab": {
          "base_uri": "https://localhost:8080/"
        },
        "id": "fbeR9unDsdeX",
        "outputId": "3d38cc46-734f-47fb-fed8-4e4ab0701ea9"
      },
      "execution_count": 19,
      "outputs": [
        {
          "output_type": "stream",
          "name": "stdout",
          "text": [
            "Model Accuracy (With Subject Features): 1.0000\n"
          ]
        }
      ]
    }
  ]
}