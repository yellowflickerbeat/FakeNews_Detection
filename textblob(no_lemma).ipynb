{
  "nbformat": 4,
  "nbformat_minor": 0,
  "metadata": {
    "colab": {
      "provenance": [],
      "mount_file_id": "144Cacp8_1_zba6dOB-9xJAzr7OfkSmq4",
      "authorship_tag": "ABX9TyMJwjsI0I9f8YBhfDF6qN/N",
      "include_colab_link": true
    },
    "kernelspec": {
      "name": "python3",
      "display_name": "Python 3"
    },
    "language_info": {
      "name": "python"
    }
  },
  "cells": [
    {
      "cell_type": "markdown",
      "metadata": {
        "id": "view-in-github",
        "colab_type": "text"
      },
      "source": [
        "<a href=\"https://colab.research.google.com/github/yellowflickerbeat/FakeNews_Detection/blob/main/textblob(no_lemma).ipynb\" target=\"_parent\"><img src=\"https://colab.research.google.com/assets/colab-badge.svg\" alt=\"Open In Colab\"/></a>"
      ]
    },
    {
      "cell_type": "code",
      "execution_count": 1,
      "metadata": {
        "id": "4eyD9Ansihlo"
      },
      "outputs": [],
      "source": [
        "import numpy as np\n",
        "import pandas as pd\n",
        "import re\n",
        "from nltk.corpus import stopwords\n",
        "#stopwords removes all the repetative words which don't substance to the text\n",
        "from nltk.stem import WordNetLemmatizer\n",
        "from nltk.corpus import wordnet\n",
        "#WordNetLemmatizer converts words into their roots considering its context\n",
        "from sklearn.feature_extraction.text import TfidfVectorizer\n",
        "#TfidfVectorizer measures importance of diff words\n",
        "from sklearn.model_selection import train_test_split\n",
        "#splits data into test and train\n",
        "from sklearn.linear_model import LogisticRegression\n",
        "from sklearn.metrics import accuracy_score"
      ]
    },
    {
      "cell_type": "code",
      "source": [
        "import nltk\n",
        "nltk.download('stopwords')"
      ],
      "metadata": {
        "colab": {
          "base_uri": "https://localhost:8080/"
        },
        "id": "-MgCHoPckbh4",
        "outputId": "c94496d6-303e-47dc-b4d1-7ec2e3c8b1d9"
      },
      "execution_count": 2,
      "outputs": [
        {
          "output_type": "stream",
          "name": "stderr",
          "text": [
            "[nltk_data] Downloading package stopwords to /root/nltk_data...\n",
            "[nltk_data]   Unzipping corpora/stopwords.zip.\n"
          ]
        },
        {
          "output_type": "execute_result",
          "data": {
            "text/plain": [
              "True"
            ]
          },
          "metadata": {},
          "execution_count": 2
        }
      ]
    },
    {
      "cell_type": "code",
      "source": [
        "print(stopwords.words('english'))\n",
        "#examples of all stopwords"
      ],
      "metadata": {
        "colab": {
          "base_uri": "https://localhost:8080/"
        },
        "id": "RJsrsIlBnJt3",
        "outputId": "6b4bc619-ec5a-4282-c655-34579ad6cf1e"
      },
      "execution_count": null,
      "outputs": [
        {
          "output_type": "stream",
          "name": "stdout",
          "text": [
            "['i', 'me', 'my', 'myself', 'we', 'our', 'ours', 'ourselves', 'you', \"you're\", \"you've\", \"you'll\", \"you'd\", 'your', 'yours', 'yourself', 'yourselves', 'he', 'him', 'his', 'himself', 'she', \"she's\", 'her', 'hers', 'herself', 'it', \"it's\", 'its', 'itself', 'they', 'them', 'their', 'theirs', 'themselves', 'what', 'which', 'who', 'whom', 'this', 'that', \"that'll\", 'these', 'those', 'am', 'is', 'are', 'was', 'were', 'be', 'been', 'being', 'have', 'has', 'had', 'having', 'do', 'does', 'did', 'doing', 'a', 'an', 'the', 'and', 'but', 'if', 'or', 'because', 'as', 'until', 'while', 'of', 'at', 'by', 'for', 'with', 'about', 'against', 'between', 'into', 'through', 'during', 'before', 'after', 'above', 'below', 'to', 'from', 'up', 'down', 'in', 'out', 'on', 'off', 'over', 'under', 'again', 'further', 'then', 'once', 'here', 'there', 'when', 'where', 'why', 'how', 'all', 'any', 'both', 'each', 'few', 'more', 'most', 'other', 'some', 'such', 'no', 'nor', 'not', 'only', 'own', 'same', 'so', 'than', 'too', 'very', 's', 't', 'can', 'will', 'just', 'don', \"don't\", 'should', \"should've\", 'now', 'd', 'll', 'm', 'o', 're', 've', 'y', 'ain', 'aren', \"aren't\", 'couldn', \"couldn't\", 'didn', \"didn't\", 'doesn', \"doesn't\", 'hadn', \"hadn't\", 'hasn', \"hasn't\", 'haven', \"haven't\", 'isn', \"isn't\", 'ma', 'mightn', \"mightn't\", 'mustn', \"mustn't\", 'needn', \"needn't\", 'shan', \"shan't\", 'shouldn', \"shouldn't\", 'wasn', \"wasn't\", 'weren', \"weren't\", 'won', \"won't\", 'wouldn', \"wouldn't\"]\n"
          ]
        }
      ]
    },
    {
      "cell_type": "markdown",
      "source": [
        "Data Pre-Processing"
      ],
      "metadata": {
        "id": "r9ntzEeapEFm"
      }
    },
    {
      "cell_type": "code",
      "source": [
        "#mounting the mandatory datasets\n",
        "news = pd.read_table('/content/train.tsv')"
      ],
      "metadata": {
        "id": "H2jcRFENpabO"
      },
      "execution_count": 3,
      "outputs": []
    },
    {
      "cell_type": "code",
      "source": [
        "news.shape\n",
        "#getting to know the contents' size"
      ],
      "metadata": {
        "colab": {
          "base_uri": "https://localhost:8080/"
        },
        "id": "-gHOydr_qWN-",
        "outputId": "7bce195c-9be8-4172-83e5-b24a7593ee11"
      },
      "execution_count": 4,
      "outputs": [
        {
          "output_type": "execute_result",
          "data": {
            "text/plain": [
              "(24889, 6)"
            ]
          },
          "metadata": {},
          "execution_count": 4
        }
      ]
    },
    {
      "cell_type": "code",
      "source": [
        "#printing the first 10 rows and columns\n",
        "news = news.rename(columns={'Unnamed:0' : 'id'})\n",
        "news.head(10)"
      ],
      "metadata": {
        "colab": {
          "base_uri": "https://localhost:8080/",
          "height": 554
        },
        "id": "qoR_aj0nqjmO",
        "outputId": "05fe9a02-23bb-4f40-a330-516be812b058"
      },
      "execution_count": 5,
      "outputs": [
        {
          "output_type": "execute_result",
          "data": {
            "text/plain": [
              "   Unnamed: 0                                              title  \\\n",
              "0        2619  Ex-CIA head says Trump remarks on Russia inter...   \n",
              "1       16043  YOU WON’T BELIEVE HIS PUNISHMENT! HISPANIC STO...   \n",
              "2         876  Federal Reserve governor Powell's policy views...   \n",
              "3       19963  SCOUNDREL HILLARY SUPPORTER STARTS “TrumpLeaks...   \n",
              "4       10783  NANCY PELOSI ARROGANTLY DISMISSES Questions on...   \n",
              "5       18522  EU's Tusk appealed to Rajoy to avoid escalatio...   \n",
              "6         270  Country Guitarist Who Survived Vegas Shooting ...   \n",
              "7        7628  Clinton says 'there is no case here' in FBI em...   \n",
              "8        9599  ABC NEWS REPORTS: Las Vegas Massacre Suspect’s...   \n",
              "9       11234  BONKERS BERNIE SANDERS: Prioritizing Jobs Over...   \n",
              "\n",
              "                                                text          subject  \\\n",
              "0  Former CIA director John Brennan on Friday cri...     politicsNews   \n",
              "1  How did this man come to OWN this store? There...  Government News   \n",
              "2  President Donald Trump on Thursday tapped Fede...     politicsNews   \n",
              "3  Hillary Clinton ally David Brock is offering t...        left-news   \n",
              "4  Pleading ignorance is a perfect ploy for Nancy...         politics   \n",
              "5  European Council President Donald Tusk appeale...        worldnews   \n",
              "6  Caleb Keeter, a lifelong proponent of the Seco...             News   \n",
              "7  Democratic presidential candidate Hillary Clin...     politicsNews   \n",
              "8  The investigation into the Las Vegas massacre ...         politics   \n",
              "9  https://www.youtube.com/watch?v=GPqQIlWksbgVer...         politics   \n",
              "\n",
              "                date  label  \n",
              "0     July 22, 2017     1.0  \n",
              "1       Jun 19, 2017    0.0  \n",
              "2  November 2, 2017     1.0  \n",
              "3       Sep 17, 2016    0.0  \n",
              "4       May 26, 2017    0.0  \n",
              "5   October 2, 2017     1.0  \n",
              "6    October 2, 2017    0.0  \n",
              "7  October 31, 2016     1.0  \n",
              "8       Oct 25, 2017    0.0  \n",
              "9        Apr 1, 2017    0.0  "
            ],
            "text/html": [
              "\n",
              "  <div id=\"df-d6d6488f-9167-4832-ba2f-a4512a3f379e\" class=\"colab-df-container\">\n",
              "    <div>\n",
              "<style scoped>\n",
              "    .dataframe tbody tr th:only-of-type {\n",
              "        vertical-align: middle;\n",
              "    }\n",
              "\n",
              "    .dataframe tbody tr th {\n",
              "        vertical-align: top;\n",
              "    }\n",
              "\n",
              "    .dataframe thead th {\n",
              "        text-align: right;\n",
              "    }\n",
              "</style>\n",
              "<table border=\"1\" class=\"dataframe\">\n",
              "  <thead>\n",
              "    <tr style=\"text-align: right;\">\n",
              "      <th></th>\n",
              "      <th>Unnamed: 0</th>\n",
              "      <th>title</th>\n",
              "      <th>text</th>\n",
              "      <th>subject</th>\n",
              "      <th>date</th>\n",
              "      <th>label</th>\n",
              "    </tr>\n",
              "  </thead>\n",
              "  <tbody>\n",
              "    <tr>\n",
              "      <th>0</th>\n",
              "      <td>2619</td>\n",
              "      <td>Ex-CIA head says Trump remarks on Russia inter...</td>\n",
              "      <td>Former CIA director John Brennan on Friday cri...</td>\n",
              "      <td>politicsNews</td>\n",
              "      <td>July 22, 2017</td>\n",
              "      <td>1.0</td>\n",
              "    </tr>\n",
              "    <tr>\n",
              "      <th>1</th>\n",
              "      <td>16043</td>\n",
              "      <td>YOU WON’T BELIEVE HIS PUNISHMENT! HISPANIC STO...</td>\n",
              "      <td>How did this man come to OWN this store? There...</td>\n",
              "      <td>Government News</td>\n",
              "      <td>Jun 19, 2017</td>\n",
              "      <td>0.0</td>\n",
              "    </tr>\n",
              "    <tr>\n",
              "      <th>2</th>\n",
              "      <td>876</td>\n",
              "      <td>Federal Reserve governor Powell's policy views...</td>\n",
              "      <td>President Donald Trump on Thursday tapped Fede...</td>\n",
              "      <td>politicsNews</td>\n",
              "      <td>November 2, 2017</td>\n",
              "      <td>1.0</td>\n",
              "    </tr>\n",
              "    <tr>\n",
              "      <th>3</th>\n",
              "      <td>19963</td>\n",
              "      <td>SCOUNDREL HILLARY SUPPORTER STARTS “TrumpLeaks...</td>\n",
              "      <td>Hillary Clinton ally David Brock is offering t...</td>\n",
              "      <td>left-news</td>\n",
              "      <td>Sep 17, 2016</td>\n",
              "      <td>0.0</td>\n",
              "    </tr>\n",
              "    <tr>\n",
              "      <th>4</th>\n",
              "      <td>10783</td>\n",
              "      <td>NANCY PELOSI ARROGANTLY DISMISSES Questions on...</td>\n",
              "      <td>Pleading ignorance is a perfect ploy for Nancy...</td>\n",
              "      <td>politics</td>\n",
              "      <td>May 26, 2017</td>\n",
              "      <td>0.0</td>\n",
              "    </tr>\n",
              "    <tr>\n",
              "      <th>5</th>\n",
              "      <td>18522</td>\n",
              "      <td>EU's Tusk appealed to Rajoy to avoid escalatio...</td>\n",
              "      <td>European Council President Donald Tusk appeale...</td>\n",
              "      <td>worldnews</td>\n",
              "      <td>October 2, 2017</td>\n",
              "      <td>1.0</td>\n",
              "    </tr>\n",
              "    <tr>\n",
              "      <th>6</th>\n",
              "      <td>270</td>\n",
              "      <td>Country Guitarist Who Survived Vegas Shooting ...</td>\n",
              "      <td>Caleb Keeter, a lifelong proponent of the Seco...</td>\n",
              "      <td>News</td>\n",
              "      <td>October 2, 2017</td>\n",
              "      <td>0.0</td>\n",
              "    </tr>\n",
              "    <tr>\n",
              "      <th>7</th>\n",
              "      <td>7628</td>\n",
              "      <td>Clinton says 'there is no case here' in FBI em...</td>\n",
              "      <td>Democratic presidential candidate Hillary Clin...</td>\n",
              "      <td>politicsNews</td>\n",
              "      <td>October 31, 2016</td>\n",
              "      <td>1.0</td>\n",
              "    </tr>\n",
              "    <tr>\n",
              "      <th>8</th>\n",
              "      <td>9599</td>\n",
              "      <td>ABC NEWS REPORTS: Las Vegas Massacre Suspect’s...</td>\n",
              "      <td>The investigation into the Las Vegas massacre ...</td>\n",
              "      <td>politics</td>\n",
              "      <td>Oct 25, 2017</td>\n",
              "      <td>0.0</td>\n",
              "    </tr>\n",
              "    <tr>\n",
              "      <th>9</th>\n",
              "      <td>11234</td>\n",
              "      <td>BONKERS BERNIE SANDERS: Prioritizing Jobs Over...</td>\n",
              "      <td>https://www.youtube.com/watch?v=GPqQIlWksbgVer...</td>\n",
              "      <td>politics</td>\n",
              "      <td>Apr 1, 2017</td>\n",
              "      <td>0.0</td>\n",
              "    </tr>\n",
              "  </tbody>\n",
              "</table>\n",
              "</div>\n",
              "    <div class=\"colab-df-buttons\">\n",
              "\n",
              "  <div class=\"colab-df-container\">\n",
              "    <button class=\"colab-df-convert\" onclick=\"convertToInteractive('df-d6d6488f-9167-4832-ba2f-a4512a3f379e')\"\n",
              "            title=\"Convert this dataframe to an interactive table.\"\n",
              "            style=\"display:none;\">\n",
              "\n",
              "  <svg xmlns=\"http://www.w3.org/2000/svg\" height=\"24px\" viewBox=\"0 -960 960 960\">\n",
              "    <path d=\"M120-120v-720h720v720H120Zm60-500h600v-160H180v160Zm220 220h160v-160H400v160Zm0 220h160v-160H400v160ZM180-400h160v-160H180v160Zm440 0h160v-160H620v160ZM180-180h160v-160H180v160Zm440 0h160v-160H620v160Z\"/>\n",
              "  </svg>\n",
              "    </button>\n",
              "\n",
              "  <style>\n",
              "    .colab-df-container {\n",
              "      display:flex;\n",
              "      gap: 12px;\n",
              "    }\n",
              "\n",
              "    .colab-df-convert {\n",
              "      background-color: #E8F0FE;\n",
              "      border: none;\n",
              "      border-radius: 50%;\n",
              "      cursor: pointer;\n",
              "      display: none;\n",
              "      fill: #1967D2;\n",
              "      height: 32px;\n",
              "      padding: 0 0 0 0;\n",
              "      width: 32px;\n",
              "    }\n",
              "\n",
              "    .colab-df-convert:hover {\n",
              "      background-color: #E2EBFA;\n",
              "      box-shadow: 0px 1px 2px rgba(60, 64, 67, 0.3), 0px 1px 3px 1px rgba(60, 64, 67, 0.15);\n",
              "      fill: #174EA6;\n",
              "    }\n",
              "\n",
              "    .colab-df-buttons div {\n",
              "      margin-bottom: 4px;\n",
              "    }\n",
              "\n",
              "    [theme=dark] .colab-df-convert {\n",
              "      background-color: #3B4455;\n",
              "      fill: #D2E3FC;\n",
              "    }\n",
              "\n",
              "    [theme=dark] .colab-df-convert:hover {\n",
              "      background-color: #434B5C;\n",
              "      box-shadow: 0px 1px 3px 1px rgba(0, 0, 0, 0.15);\n",
              "      filter: drop-shadow(0px 1px 2px rgba(0, 0, 0, 0.3));\n",
              "      fill: #FFFFFF;\n",
              "    }\n",
              "  </style>\n",
              "\n",
              "    <script>\n",
              "      const buttonEl =\n",
              "        document.querySelector('#df-d6d6488f-9167-4832-ba2f-a4512a3f379e button.colab-df-convert');\n",
              "      buttonEl.style.display =\n",
              "        google.colab.kernel.accessAllowed ? 'block' : 'none';\n",
              "\n",
              "      async function convertToInteractive(key) {\n",
              "        const element = document.querySelector('#df-d6d6488f-9167-4832-ba2f-a4512a3f379e');\n",
              "        const dataTable =\n",
              "          await google.colab.kernel.invokeFunction('convertToInteractive',\n",
              "                                                    [key], {});\n",
              "        if (!dataTable) return;\n",
              "\n",
              "        const docLinkHtml = 'Like what you see? Visit the ' +\n",
              "          '<a target=\"_blank\" href=https://colab.research.google.com/notebooks/data_table.ipynb>data table notebook</a>'\n",
              "          + ' to learn more about interactive tables.';\n",
              "        element.innerHTML = '';\n",
              "        dataTable['output_type'] = 'display_data';\n",
              "        await google.colab.output.renderOutput(dataTable, element);\n",
              "        const docLink = document.createElement('div');\n",
              "        docLink.innerHTML = docLinkHtml;\n",
              "        element.appendChild(docLink);\n",
              "      }\n",
              "    </script>\n",
              "  </div>\n",
              "\n",
              "\n",
              "<div id=\"df-776e7ec2-e255-486f-9fe2-80e1972a7189\">\n",
              "  <button class=\"colab-df-quickchart\" onclick=\"quickchart('df-776e7ec2-e255-486f-9fe2-80e1972a7189')\"\n",
              "            title=\"Suggest charts\"\n",
              "            style=\"display:none;\">\n",
              "\n",
              "<svg xmlns=\"http://www.w3.org/2000/svg\" height=\"24px\"viewBox=\"0 0 24 24\"\n",
              "     width=\"24px\">\n",
              "    <g>\n",
              "        <path d=\"M19 3H5c-1.1 0-2 .9-2 2v14c0 1.1.9 2 2 2h14c1.1 0 2-.9 2-2V5c0-1.1-.9-2-2-2zM9 17H7v-7h2v7zm4 0h-2V7h2v10zm4 0h-2v-4h2v4z\"/>\n",
              "    </g>\n",
              "</svg>\n",
              "  </button>\n",
              "\n",
              "<style>\n",
              "  .colab-df-quickchart {\n",
              "      --bg-color: #E8F0FE;\n",
              "      --fill-color: #1967D2;\n",
              "      --hover-bg-color: #E2EBFA;\n",
              "      --hover-fill-color: #174EA6;\n",
              "      --disabled-fill-color: #AAA;\n",
              "      --disabled-bg-color: #DDD;\n",
              "  }\n",
              "\n",
              "  [theme=dark] .colab-df-quickchart {\n",
              "      --bg-color: #3B4455;\n",
              "      --fill-color: #D2E3FC;\n",
              "      --hover-bg-color: #434B5C;\n",
              "      --hover-fill-color: #FFFFFF;\n",
              "      --disabled-bg-color: #3B4455;\n",
              "      --disabled-fill-color: #666;\n",
              "  }\n",
              "\n",
              "  .colab-df-quickchart {\n",
              "    background-color: var(--bg-color);\n",
              "    border: none;\n",
              "    border-radius: 50%;\n",
              "    cursor: pointer;\n",
              "    display: none;\n",
              "    fill: var(--fill-color);\n",
              "    height: 32px;\n",
              "    padding: 0;\n",
              "    width: 32px;\n",
              "  }\n",
              "\n",
              "  .colab-df-quickchart:hover {\n",
              "    background-color: var(--hover-bg-color);\n",
              "    box-shadow: 0 1px 2px rgba(60, 64, 67, 0.3), 0 1px 3px 1px rgba(60, 64, 67, 0.15);\n",
              "    fill: var(--button-hover-fill-color);\n",
              "  }\n",
              "\n",
              "  .colab-df-quickchart-complete:disabled,\n",
              "  .colab-df-quickchart-complete:disabled:hover {\n",
              "    background-color: var(--disabled-bg-color);\n",
              "    fill: var(--disabled-fill-color);\n",
              "    box-shadow: none;\n",
              "  }\n",
              "\n",
              "  .colab-df-spinner {\n",
              "    border: 2px solid var(--fill-color);\n",
              "    border-color: transparent;\n",
              "    border-bottom-color: var(--fill-color);\n",
              "    animation:\n",
              "      spin 1s steps(1) infinite;\n",
              "  }\n",
              "\n",
              "  @keyframes spin {\n",
              "    0% {\n",
              "      border-color: transparent;\n",
              "      border-bottom-color: var(--fill-color);\n",
              "      border-left-color: var(--fill-color);\n",
              "    }\n",
              "    20% {\n",
              "      border-color: transparent;\n",
              "      border-left-color: var(--fill-color);\n",
              "      border-top-color: var(--fill-color);\n",
              "    }\n",
              "    30% {\n",
              "      border-color: transparent;\n",
              "      border-left-color: var(--fill-color);\n",
              "      border-top-color: var(--fill-color);\n",
              "      border-right-color: var(--fill-color);\n",
              "    }\n",
              "    40% {\n",
              "      border-color: transparent;\n",
              "      border-right-color: var(--fill-color);\n",
              "      border-top-color: var(--fill-color);\n",
              "    }\n",
              "    60% {\n",
              "      border-color: transparent;\n",
              "      border-right-color: var(--fill-color);\n",
              "    }\n",
              "    80% {\n",
              "      border-color: transparent;\n",
              "      border-right-color: var(--fill-color);\n",
              "      border-bottom-color: var(--fill-color);\n",
              "    }\n",
              "    90% {\n",
              "      border-color: transparent;\n",
              "      border-bottom-color: var(--fill-color);\n",
              "    }\n",
              "  }\n",
              "</style>\n",
              "\n",
              "  <script>\n",
              "    async function quickchart(key) {\n",
              "      const quickchartButtonEl =\n",
              "        document.querySelector('#' + key + ' button');\n",
              "      quickchartButtonEl.disabled = true;  // To prevent multiple clicks.\n",
              "      quickchartButtonEl.classList.add('colab-df-spinner');\n",
              "      try {\n",
              "        const charts = await google.colab.kernel.invokeFunction(\n",
              "            'suggestCharts', [key], {});\n",
              "      } catch (error) {\n",
              "        console.error('Error during call to suggestCharts:', error);\n",
              "      }\n",
              "      quickchartButtonEl.classList.remove('colab-df-spinner');\n",
              "      quickchartButtonEl.classList.add('colab-df-quickchart-complete');\n",
              "    }\n",
              "    (() => {\n",
              "      let quickchartButtonEl =\n",
              "        document.querySelector('#df-776e7ec2-e255-486f-9fe2-80e1972a7189 button');\n",
              "      quickchartButtonEl.style.display =\n",
              "        google.colab.kernel.accessAllowed ? 'block' : 'none';\n",
              "    })();\n",
              "  </script>\n",
              "</div>\n",
              "\n",
              "    </div>\n",
              "  </div>\n"
            ],
            "application/vnd.google.colaboratory.intrinsic+json": {
              "type": "dataframe",
              "variable_name": "news",
              "summary": "{\n  \"name\": \"news\",\n  \"rows\": 24889,\n  \"fields\": [\n    {\n      \"column\": \"Unnamed: 0\",\n      \"properties\": {\n        \"dtype\": \"number\",\n        \"std\": 6529,\n        \"min\": 0,\n        \"max\": 23479,\n        \"num_unique_values\": 18311,\n        \"samples\": [\n          21125,\n          10851,\n          2040\n        ],\n        \"semantic_type\": \"\",\n        \"description\": \"\"\n      }\n    },\n    {\n      \"column\": \"title\",\n      \"properties\": {\n        \"dtype\": \"string\",\n        \"num_unique_values\": 22908,\n        \"samples\": [\n          \"SLC Cops Murder Crying Suspect, Shoot Him In The Back AND Taser Him Without Even Pursuing\",\n          \"Top Democrat says Puerto Rico bill could come early as Thursday\",\n          \"Police charge Czech PM candidate Babis with subsidy fraud\"\n        ],\n        \"semantic_type\": \"\",\n        \"description\": \"\"\n      }\n    },\n    {\n      \"column\": \"text\",\n      \"properties\": {\n        \"dtype\": \"string\",\n        \"num_unique_values\": 23018,\n        \"samples\": [\n          \"When his family of six crossed the monsoon-soaked Mayu mountains last week, Mohammed Ishmail tied his four-year-old daughter to his back with a longyi, or Myanmar sarong. His wife carried their two-year-old the same way.  Some parts were so steep we had to pull ourselves up by tree roots,  said Ishmail, a Rohingya Muslim, in an interview  near the Kutapalong settlement for refugees in Bangladesh, shortly after arriving on Tuesday.  At night, we just cut a clearing in the bush and slept there. We had two umbrellas for shelter.  The trek through the dense bush of the mountains took two days, but the journey from his home in Khin Tha Ma village   which he says was on fire the last time he saw it - took 10. He says it felt like a month. The number of refugees who have arrived in Bangladesh from Myanmar s Rakhine state since militant attacks there on Aug. 25 stands at nearly 150,000.  They have come by land, river and sea. Many have died along the way. Others have found themselves detained by human traffickers, demanding payment for their rescue. Their destination is the Cox s Bazar region of impoverished Bangladesh, where hundreds of thousands of Rohingya already live in makeshift camps, reliant on overstretched aid agencies. Once through the mountains, Ishmail s family came across villages in the northern part of the Maungdaw district   the epicenter of violence in the state since October - that had been abandoned. By his count, only about one in 20 houses had survived fires that have swept the area.  Some people are still hiding in the forest on the Maungdaw side but in some villages there s no one,  he said.  There was no one to ask directions.  But then there was. As they reached a canal and were trying to find a way to cross it, he said, two young Myanmar soldiers spotted them and aimed their guns, he said.  I put my hands up and shouted,  We re going to Bangladesh ,  he said. There was a tense silence before the soldiers lowered their weapons.   After that they showed us the best way to cross the canal,  he added. In one village, to escape the rain, Mohammed Ishmail entered a house still standing to find the bodies of five boys, who appeared to be teenagers, their necks hacked and heads nearly severed. The death toll in the conflict is more than 400 and rising. Myanmar says most of those killed have been insurgents, but accounts from new arrivals in Bangladesh suggest reprisals by Myanmar security forces and Buddhists against Rohingya civilians the government says are in cahoots with  extremist Bengali terrorists . Myanmar rejects accusations that its security forces are targeting civilians saying they are fighting  terrorists . Dozens of bodies, including those of women and children, have washed up on the Bangladesh side of a border river, many with bullet or knife wounds, according to Bangladesh border guards. Fishermen report seeing bodies floating in the river. Reuters was shown one cadaver   what looked to be a teenage boy lying face up on the muddy river bank, a gaping wound on his face washed clean by the river.     In Maungdaw, thousands of people are on the move. A Rohingya aid worker, who was in touch with Reuters during his flight, recorded video of the journey on his mobile phone.  It s like something I ve never seen before, not even in any film,  the refugee said after his arrival in Cox s Bazar. The footage appears to show hundreds of people lining up to cross a river in Laung Don village. Some swim across, as two small ferries run back and forth. At one river crossing, the aid worker said, fighters from the Arakan Rohingya Solidarity Organization (ARSA) prevented ferries from crossing for half a day, telling civilians to return to their homes.  Campaign group Fortify Rights has documented how ARSA has prevented men and boys from leaving the area. The refugee, who asked not to be identified so he could freely discuss his journey, said the fighters backed down when villagers pleaded with them.     In southern Maungdaw, the military s campaign has driven tens of thousands of people to the coast. Bangladeshi boatmen, in their hundreds, are going to pick them up. Mostly by night, the wooden crescent-shaped boats that normally ply the fishing grounds of the Bay of Bengal, make the  journey across the 5.7-km (3.6 mile) mouth of the Naf river that separates Myanmar and Bangladesh. The 5-metre boats are loaded with as many as 50 people and their belongings. Soon after the conflict blew up, boats began landing at Shah Porir Dwip, a remote island off the southernmost tip of Bangladesh. But after three boats capsized in two days last week, killing 24 women and children, authorities launched a crackdown on boatmen and brokers they call human traffickers.  They bring these stranded people here. If they are not able to pay, the money, they imprison them,  Pronay Chakma, assistant commissioner for land in Teknaf sub-district. More than 50 people have been sentenced to short jail terms as a warning to others not to take advantage of the crisis.  It s mercenary interest, nothing else,  he said.  They tried to profit from stranded women and children.\",\n          \"Ami Horowitz is a thought provoking filmmaker who took a lot of heat for exposing the truth about the horrific, violent  no-go zones  in Sweden in one of his recent documentary films. Horowitz is also very controversial because he doesn t shy away from asking tough questions of the people he randomly interviews on the streets.In fiscal year 2014, Minnesota took in 2,232 refugees, according to the U.S. Office of Refugee Resettlement. Almost half of those were from Somalia.In the video below, Ami took to the streets in the Cedar Riverside neighborhood of Minneapolis, MN to talk a variety of Somali Muslim immigrants. Ami posed several questions to a large variety of random Somali Muslim immigrants. He asked young boys, teenagers, middle-aged men and even an older woman their thoughts on how they felt about living in the United States, and if they d rather living back in Somalia. Horowitz also asked if they would prefer to live under Sharia Law or American laws. Their answers may surprise you.The most shocking part of the video however, comes near the end when Horowitz begins to discuss freedom of speech in America. While one of the men being interviewed talks about how great it is to be in America and to be afforded rights like freedom of speech and freedom of religion, every single Muslim respondent believed that free speech is great unless it involves criticizing the prophet Mohammed. Horowitz took his question a step further and asked if was okay for Muslims to use violence against someone who disparaged or insulted Mohammed. Every Muslim he asked, believed that using violence, including killing a person who criticized or mocked Mohammed, would be justified.Watch:After a major dip in 2008, the year ly num bers of new So ma li refu gees in Minnesota have re bounded stead i ly. The num ber of So malis re set tled in the state has more than trip led in four years. As resettlements nationally have picked up, more So malis are also arriving here after brief stints in other states   often trading early support from resettlement agencies for the company of more fellow Somalis. You tend to go some where you can con nect,  said Mo ha mud Noor, the head of the Con fed er a tion of So ma li Community in Minnesota.  Be fore peo ple even ar rive from Af ri ca, they know they are com ing to Minnesota. But without the Twin Cities family ties of earlier arrivals, these newcomers often can t lean as heavily on longer-term Somali residents. Mary s Place, a Minneapolis home less shel ter, has be come ground zero for fami lies like Ali and Mo ha med s. Somali participation in the state s public food assistance program doubled in the past five years. Meanwhile, the Minneapolis School District, its So ma li stu dent en roll ment up 70 percent since 2011, launched eight class rooms with in struc tion in both Eng lish and So ma li to help new comers catch up.  Star Tribune\",\n          \"Lebanese security forces fired tear gas and water canons at protesters near the U.S. Embassy in Lebanon on Sunday during a demonstration against President Donald Trump s decision to recognize Jerusalem as the capital of Israel. Protesters, some of them waving Palestinian flags, set fires in the street and threw projectiles toward security forces that had barricaded the main road to the U.S. Embassy in the Awkar area north of Beirut. Security personnel used force to disperse most of the protesters and detained some, witnesses said.   Addressing the protesters, the head of the Lebanese Communist Party Hanna Gharib declared the United States  the enemy of Palestine  and the U.S. Embassy  a symbol of imperialist aggression  that must be closed. Protesters burned U.S. and Israeli flags.  We came to say to the U.S. Embassy that it is an embassy of aggression and that Jerusalem is Arab and will stay Arab,  said Ahmad Mustafa, an official in the leftist Democratic Front for the Liberation of Palestine, who was among the demonstrators. Trump s recognition of Jerusalem has infuriated the Arab world and upset Western allies, who say it is a blow to peace efforts and risks causing further unrest in the Middle East. Late on Saturday Arab foreign ministers meeting in Cairo urged the United States to abandon its decision and said the move would spur violence throughout the region. Israel says that all of Jerusalem is its capital. Palestinians want East Jerusalem as the capital of a future independent state. Most countries consider East Jerusalem, which Israel annexed after capturing it in a 1967 war, to be occupied territory and say the status of the city should be left to be decided at future Israeli-Palestinian talks.  The government of Lebanon, which hosts about 450,000 Palestinian refugees, has condemned Trump s decision. Lebanese President Michel Aoun last week called the move a threat to regional stability. The powerful Iran-backed Lebanese Shi ite group Hezbollah on Thursday said it backed calls for a new Palestinian uprising against Israel in response to the U.S. decision. Hezbollah leader Sayyed Hassan Nasrallah also called for a protest against the decision in the Hezbollah-controlled southern suburbs of Beirut on Monday.\"\n        ],\n        \"semantic_type\": \"\",\n        \"description\": \"\"\n      }\n    },\n    {\n      \"column\": \"subject\",\n      \"properties\": {\n        \"dtype\": \"category\",\n        \"num_unique_values\": 8,\n        \"samples\": [\n          \"Government News\",\n          \"News\",\n          \"politicsNews\"\n        ],\n        \"semantic_type\": \"\",\n        \"description\": \"\"\n      }\n    },\n    {\n      \"column\": \"date\",\n      \"properties\": {\n        \"dtype\": \"category\",\n        \"num_unique_values\": 2367,\n        \"samples\": [\n          \"May 18, 2015\",\n          \"Jun 20, 2017\",\n          \"August 22, 2017\"\n        ],\n        \"semantic_type\": \"\",\n        \"description\": \"\"\n      }\n    },\n    {\n      \"column\": \"label\",\n      \"properties\": {\n        \"dtype\": \"number\",\n        \"std\": 0.4997359243568663,\n        \"min\": 0.0,\n        \"max\": 1.0,\n        \"num_unique_values\": 2,\n        \"samples\": [\n          0.0,\n          1.0\n        ],\n        \"semantic_type\": \"\",\n        \"description\": \"\"\n      }\n    }\n  ]\n}"
            }
          },
          "metadata": {},
          "execution_count": 5
        }
      ]
    },
    {
      "cell_type": "code",
      "source": [
        "#find out missing values in dataset\n",
        "news.isnull().sum()"
      ],
      "metadata": {
        "id": "PfQWr389q3OG",
        "colab": {
          "base_uri": "https://localhost:8080/",
          "height": 272
        },
        "outputId": "02f1098d-6ee4-4539-efbe-a5503887cefd"
      },
      "execution_count": 6,
      "outputs": [
        {
          "output_type": "execute_result",
          "data": {
            "text/plain": [
              "Unnamed: 0    0\n",
              "title         0\n",
              "text          0\n",
              "subject       1\n",
              "date          1\n",
              "label         1\n",
              "dtype: int64"
            ],
            "text/html": [
              "<div>\n",
              "<style scoped>\n",
              "    .dataframe tbody tr th:only-of-type {\n",
              "        vertical-align: middle;\n",
              "    }\n",
              "\n",
              "    .dataframe tbody tr th {\n",
              "        vertical-align: top;\n",
              "    }\n",
              "\n",
              "    .dataframe thead th {\n",
              "        text-align: right;\n",
              "    }\n",
              "</style>\n",
              "<table border=\"1\" class=\"dataframe\">\n",
              "  <thead>\n",
              "    <tr style=\"text-align: right;\">\n",
              "      <th></th>\n",
              "      <th>0</th>\n",
              "    </tr>\n",
              "  </thead>\n",
              "  <tbody>\n",
              "    <tr>\n",
              "      <th>Unnamed: 0</th>\n",
              "      <td>0</td>\n",
              "    </tr>\n",
              "    <tr>\n",
              "      <th>title</th>\n",
              "      <td>0</td>\n",
              "    </tr>\n",
              "    <tr>\n",
              "      <th>text</th>\n",
              "      <td>0</td>\n",
              "    </tr>\n",
              "    <tr>\n",
              "      <th>subject</th>\n",
              "      <td>1</td>\n",
              "    </tr>\n",
              "    <tr>\n",
              "      <th>date</th>\n",
              "      <td>1</td>\n",
              "    </tr>\n",
              "    <tr>\n",
              "      <th>label</th>\n",
              "      <td>1</td>\n",
              "    </tr>\n",
              "  </tbody>\n",
              "</table>\n",
              "</div><br><label><b>dtype:</b> int64</label>"
            ]
          },
          "metadata": {},
          "execution_count": 6
        }
      ]
    },
    {
      "cell_type": "code",
      "source": [
        "#renaming a column in dataset to uniquely identify eash item\n",
        "news = news.rename(columns={'Unnamed: 0' : 'id'})"
      ],
      "metadata": {
        "id": "eFq13NiIrlt2"
      },
      "execution_count": null,
      "outputs": []
    },
    {
      "cell_type": "code",
      "source": [
        "#removing the previous values in 'label' column\n",
        "Y = news['label']\n",
        "news = news.drop('label', axis=1)"
      ],
      "metadata": {
        "id": "7UL7pe8qw9o-"
      },
      "execution_count": 7,
      "outputs": []
    },
    {
      "cell_type": "markdown",
      "source": [
        "**Lemmatization**\n",
        "\n",
        "Lemmatization helps to reduce dimensionality esp as we are using logistic regression\n",
        "\n",
        "Unlike stemming, it reduces the words too its base form only after considering the words' contexts"
      ],
      "metadata": {
        "id": "TTeno-CIz0FG"
      }
    },
    {
      "cell_type": "code",
      "source": [
        "lemma = WordNetLemmatizer()\n",
        "print(Y)"
      ],
      "metadata": {
        "id": "kzu49qRJxSIG",
        "colab": {
          "base_uri": "https://localhost:8080/"
        },
        "outputId": "a91fae8f-7745-46ab-964d-3994ed3be9c8"
      },
      "execution_count": null,
      "outputs": [
        {
          "output_type": "stream",
          "name": "stdout",
          "text": [
            "0       1.0\n",
            "1       0.0\n",
            "2       1.0\n",
            "3       0.0\n",
            "4       0.0\n",
            "       ... \n",
            "4082    1.0\n",
            "4083    1.0\n",
            "4084    0.0\n",
            "4085    0.0\n",
            "4086    NaN\n",
            "Name: label, Length: 4087, dtype: float64\n"
          ]
        }
      ]
    },
    {
      "cell_type": "code",
      "source": [
        "def lemmatization(content):\n",
        "    lemmatizer = WordNetLemmatizer()\n",
        "    # Remove all non-alphabetic characters & convert to lowercase\n",
        "    lemmatized_content = re.sub('[^a-zA-Z]', ' ', content)\n",
        "    lemmatized_content = lemmatized_content.lower()\n",
        "    # Split the content into words\n",
        "    lemmatized_content = lemmatized_content.split()\n",
        "    # Remove stopwords and apply lemmatization\n",
        "    lemmatized_content = [lemmatizer.lemmatize(word) for word in lemmatized_content if word not in stopwords.words('english')]\n",
        "    # Join the words back into a single string\n",
        "    lemmatized_content = ' '.join(lemmatized_content)\n",
        "    return lemmatized_content\n"
      ],
      "metadata": {
        "id": "0FeKer4R0v9M"
      },
      "execution_count": null,
      "outputs": []
    },
    {
      "cell_type": "code",
      "source": [
        "nltk.download('wordnet')\n",
        "news['title'] = news['title'].apply(lemmatization)\n",
        "news['text'] = news['text'].apply(lemmatization)"
      ],
      "metadata": {
        "colab": {
          "base_uri": "https://localhost:8080/"
        },
        "id": "ocPBgkxc3pZW",
        "outputId": "ff91d7a0-83d4-419d-b22e-a21ea8c076f8"
      },
      "execution_count": null,
      "outputs": [
        {
          "output_type": "stream",
          "name": "stderr",
          "text": [
            "[nltk_data] Downloading package wordnet to /root/nltk_data...\n"
          ]
        }
      ]
    },
    {
      "cell_type": "markdown",
      "source": [
        "Sentiment Analysis of News' Titles"
      ],
      "metadata": {
        "id": "53nn4QVxeVVv"
      }
    },
    {
      "cell_type": "code",
      "source": [
        "from textblob import TextBlob\n",
        "def get_sentiment_features(content):\n",
        "    analysis = TextBlob(content)\n",
        "    return analysis.sentiment.polarity, analysis.sentiment.subjectivity\n",
        "\n",
        "# Apply the sentiment analysis function to the dataset\n",
        "news[['polarity', 'subjectivity']] = news['title'].apply(get_sentiment_features).apply(pd.Series)\n",
        "\n",
        "# Prepare the feature set and target variable\n",
        "X = news[['polarity', 'subjectivity']]  # Use sentiment features\n",
        "\n",
        "# Train-test split\n",
        "X_train, X_test, Y_train, Y_test = train_test_split(X, Y, test_size=0.2, random_state=42)"
      ],
      "metadata": {
        "id": "YFCk8ZrgDrtb"
      },
      "execution_count": 8,
      "outputs": []
    },
    {
      "cell_type": "code",
      "source": [
        "Y = Y.dropna()\n",
        "Y = Y.reset_index(drop=True)\n",
        "print(Y)"
      ],
      "metadata": {
        "colab": {
          "base_uri": "https://localhost:8080/"
        },
        "id": "k4RdaXQWiNZ2",
        "outputId": "30f995da-e629-47dd-f3c4-10d57bca15cd"
      },
      "execution_count": 9,
      "outputs": [
        {
          "output_type": "stream",
          "name": "stdout",
          "text": [
            "0        1.0\n",
            "1        0.0\n",
            "2        1.0\n",
            "3        0.0\n",
            "4        0.0\n",
            "        ... \n",
            "24883    0.0\n",
            "24884    0.0\n",
            "24885    1.0\n",
            "24886    1.0\n",
            "24887    0.0\n",
            "Name: label, Length: 24888, dtype: float64\n"
          ]
        }
      ]
    },
    {
      "cell_type": "code",
      "source": [
        "Y_test = Y_test.dropna().reset_index(drop=True)\n",
        "X_test, Y_test = X_test.align(Y_test, join='inner', axis=0)\n",
        "print(Y_train.isnull().sum(), Y_test.isnull().sum())"
      ],
      "metadata": {
        "colab": {
          "base_uri": "https://localhost:8080/"
        },
        "id": "tyy7NO-NjSnO",
        "outputId": "89d9c513-6da2-4c2c-e0b6-e42730ce01d6"
      },
      "execution_count": 13,
      "outputs": [
        {
          "output_type": "stream",
          "name": "stdout",
          "text": [
            "1 0\n"
          ]
        }
      ]
    },
    {
      "cell_type": "code",
      "source": [
        "y_train = Y_train.dropna()\n",
        "X_train = X_train.loc[y_train.index]\n",
        "X_train_cleaned = X_train.reset_index(drop=True)\n",
        "y_train_cleaned = y_train.reset_index(drop=True)\n",
        "print(Y_train.isnull().sum(), Y_test.isnull().sum())"
      ],
      "metadata": {
        "colab": {
          "base_uri": "https://localhost:8080/"
        },
        "id": "1nsFcncNtM91",
        "outputId": "28bf3be0-609f-48c4-ad26-29bc32bd21ea"
      },
      "execution_count": 20,
      "outputs": [
        {
          "output_type": "stream",
          "name": "stdout",
          "text": [
            "1 0\n"
          ]
        }
      ]
    },
    {
      "cell_type": "code",
      "source": [
        "y_train_cleaned = Y_train.dropna()\n",
        "\n",
        "# Align X_train by keeping only the rows that correspond to the non-NaN values in y_train_cleaned\n",
        "X_train_cleaned = X_train.loc[y_train_cleaned.index]\n",
        "\n",
        "# Reset the indices of both X_train_cleaned and y_train_cleaned\n",
        "X_train_cleaned = X_train_cleaned.reset_index(drop=True)\n",
        "y_train_cleaned = y_train_cleaned.reset_index(drop=True)\n",
        "\n",
        "# Now check for null values in the cleaned data\n",
        "print(\"y_train_cleaned NaN values:\", y_train_cleaned.isnull().sum())\n",
        "print(\"X_train_cleaned NaN values:\", X_train_cleaned.isnull().sum())\n",
        "print(\"Y_test NaN values:\", Y_test.isnull().sum())"
      ],
      "metadata": {
        "colab": {
          "base_uri": "https://localhost:8080/"
        },
        "id": "tfFTEWNiuPOk",
        "outputId": "0b5a164e-8182-4396-a7b8-742d167fabe5"
      },
      "execution_count": 21,
      "outputs": [
        {
          "output_type": "stream",
          "name": "stdout",
          "text": [
            "y_train_cleaned NaN values: 0\n",
            "X_train_cleaned NaN values: polarity        0\n",
            "subjectivity    0\n",
            "dtype: int64\n",
            "Y_test NaN values: 0\n"
          ]
        }
      ]
    },
    {
      "cell_type": "code",
      "source": [
        "model = LogisticRegression()\n",
        "model.fit(X_train_cleaned, y_train_cleaned)\n",
        "\n",
        "Y_pred = model.predict(X_test)\n",
        "accuracy = accuracy_score(Y_test, Y_pred)\n",
        "print(f\"Model Accuracy: {accuracy:.3f}\")"
      ],
      "metadata": {
        "colab": {
          "base_uri": "https://localhost:8080/"
        },
        "id": "801YPxufhLhe",
        "outputId": "55867249-e366-46e1-c774-a0658caa97ef"
      },
      "execution_count": 23,
      "outputs": [
        {
          "output_type": "stream",
          "name": "stdout",
          "text": [
            "Model Accuracy: 0.500\n"
          ]
        }
      ]
    },
    {
      "cell_type": "markdown",
      "source": [
        "\tTextBlob or VADER??\n",
        "\n",
        "B. Bhutani, N. Rastogi, P. Sehgal and A. Purwar, \"Fake News Detection Using Sentiment Analysis,\" 2019 Twelfth International Conference on Contemporary Computing (IC3), Noida, India, 2019, pp. 1-5, doi: 10.1109/IC3.2019.8844880. keywords: {Social networking (online);Vocabulary;Sentiment analysis;Information technology;Media;Buildings;Logistics;Fake News;Naive Bayes;Random Forest;Cosine similarity tf-idf;sentiment};\n",
        "\n"
      ],
      "metadata": {
        "id": "Cxy18X0aaJgi"
      }
    },
    {
      "cell_type": "markdown",
      "source": [],
      "metadata": {
        "id": "jdqQOzDOnHIt"
      }
    },
    {
      "cell_type": "code",
      "source": [],
      "metadata": {
        "id": "xhid7JVZnGyV"
      },
      "execution_count": null,
      "outputs": []
    }
  ]
}